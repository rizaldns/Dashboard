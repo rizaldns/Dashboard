{
  "nbformat": 4,
  "nbformat_minor": 0,
  "metadata": {
    "colab": {
      "provenance": [],
      "toc_visible": true,
      "include_colab_link": true
    },
    "kernelspec": {
      "name": "python3",
      "display_name": "Python 3"
    },
    "language_info": {
      "name": "python"
    }
  },
  "cells": [
    {
      "cell_type": "markdown",
      "metadata": {
        "id": "view-in-github",
        "colab_type": "text"
      },
      "source": [
        "<a href=\"https://colab.research.google.com/github/rizaldns/Dashboard/blob/main/Project_DS_Predictive_Bank_Telemarketing_Campaign.ipynb\" target=\"_parent\"><img src=\"https://colab.research.google.com/assets/colab-badge.svg\" alt=\"Open In Colab\"/></a>"
      ]
    },
    {
      "cell_type": "markdown",
      "metadata": {
        "id": "6ZCN3KvlNdxZ"
      },
      "source": [
        "# **BANK TELEMARKETING CAMPAIGN ANALYSIS & PREDICTION**"
      ]
    },
    {
      "cell_type": "markdown",
      "source": [
        "**Marketing campaigns** are characterized by focusing on the customer needs and their overall satisfaction. Nevertheless, there are different variables that determine whether a marketing campaign will be successful or not. There are certain variables that we need to take into consideration when making a marketing campaign.\n",
        "\n",
        "**A Term deposit** is a deposit that a bank or a financial institurion offers with a fixed rate (often better than just opening deposit account) in which your money will be returned back at a specific maturity time. For more information with regards to Term Deposits please click on this link from Investopedia: https://www.investopedia.com/terms/t/termdeposit.asp"
      ],
      "metadata": {
        "id": "iDBiniCNVvnW"
      }
    },
    {
      "cell_type": "markdown",
      "metadata": {
        "id": "MVI5IS3r1vJ7"
      },
      "source": [
        "# Main Objective\n",
        "---\n",
        "**Main Objective**: increase the effectiveness of the bank's telemarketing campaign\n",
        "This project will enable the bank to develop a more granular understanding of its customer base, predict customers' response to its telemarketing campaign and establish a target customer profile for future marketing plans.\n",
        "\n",
        "\n"
      ]
    },
    {
      "cell_type": "markdown",
      "source": [
        "# Main Goals\n",
        "---\n",
        "**Main Goal**: By analyzing customer features, such as demographics and transaction history, the bank will be able to predict customer saving behaviours and identify which type of customers is more likely to make term deposits. The bank can then focus its marketing efforts on those customers. This will not only allow the bank to secure deposits more effectively but also increase customer satisfaction by reducing undesirable advertisements for certain customers."
      ],
      "metadata": {
        "id": "yJHou57LWKsC"
      }
    },
    {
      "cell_type": "markdown",
      "metadata": {
        "id": "1aZs_OfCFlJR"
      },
      "source": [
        "#Import Library\n",
        "---\n",
        "\n",
        "\n"
      ]
    },
    {
      "cell_type": "code",
      "source": [
        "import os\n",
        "import zipfile\n",
        "import warnings\n",
        "import numpy as np \n",
        "import pandas as pd \n",
        "import matplotlib.pyplot as plt\n",
        "import seaborn as sns\n",
        "from plotly.subplots import make_subplots\n",
        "import pickle\n",
        "import plotly.graph_objects as go\n",
        "import plotly.express as px \n",
        "from matplotlib import pyplot\n",
        "import xgboost\n",
        "from google.colab import drive\n",
        "from google.colab import data_table\n",
        "from sklearn.svm import SVC\n",
        "from sklearn import tree\n",
        "from sklearn.preprocessing import MinMaxScaler\n",
        "from sklearn.metrics import roc_curve\n",
        "from sklearn.model_selection import KFold\n",
        "from sklearn.model_selection import cross_val_score\n",
        "from sklearn.preprocessing import StandardScaler, LabelEncoder,OneHotEncoder\n",
        "from sklearn.linear_model import LogisticRegression\n",
        "from sklearn.neighbors import KNeighborsClassifier\n",
        "from sklearn.ensemble import RandomForestClassifier\n",
        "from sklearn.tree import DecisionTreeClassifier\n",
        "from sklearn.svm import SVC  \n",
        "from sklearn.naive_bayes import GaussianNB\n",
        "from xgboost import XGBClassifier\n",
        "from sklearn.model_selection import train_test_split\n",
        "from sklearn.metrics import precision_score, recall_score\n",
        "from sklearn.metrics import *\n",
        "from sklearn.model_selection import GridSearchCV\n",
        "pd.set_option('display.max_columns',None)\n",
        "warnings.filterwarnings('ignore')"
      ],
      "metadata": {
        "id": "1yR4vfynqaPg"
      },
      "execution_count": 8,
      "outputs": []
    },
    {
      "cell_type": "markdown",
      "metadata": {
        "id": "Phv9qZ1brYp2"
      },
      "source": [
        "#Data Gathering\n",
        "---\n",
        "\n",
        "\n"
      ]
    },
    {
      "cell_type": "code",
      "source": [
        "from google.colab import drive\n",
        "drive.mount('/content/drive')\n",
        "df_train = pd.read_csv('drive/My Drive/bank-full.csv', delimiter=\";\")"
      ],
      "metadata": {
        "id": "SlL3tQl7rfbd",
        "colab": {
          "base_uri": "https://localhost:8080/"
        },
        "outputId": "9e4c926e-175d-4bd5-8e91-5ff5d0b8f8db"
      },
      "execution_count": 9,
      "outputs": [
        {
          "output_type": "stream",
          "name": "stdout",
          "text": [
            "Drive already mounted at /content/drive; to attempt to forcibly remount, call drive.mount(\"/content/drive\", force_remount=True).\n"
          ]
        }
      ]
    },
    {
      "cell_type": "markdown",
      "metadata": {
        "id": "79Pm5x3Mr2EA"
      },
      "source": [
        "#Dataset Info\n",
        "---\n",
        "\n",
        "\n"
      ]
    },
    {
      "cell_type": "markdown",
      "source": [
        "\n",
        "The data relates to a direct marketing campaign from a banking institution. The marketing campaign is based on telephone calls. Often, more than one contact to the same client is required, to access whether the product (bank term deposit) will be ('yes') or not ( 'not') subscribed by customer.\n",
        "\n",
        "     \n",
        "Header | Definition\n",
        "---|---------\n",
        "`Age`| Age of customer\n",
        "`Job` | Job of customer\n",
        "`Martial` | Martial status of customer  \n",
        "`Education` |Customer education level\n",
        "`Default` |  Has credit in default?\n",
        "`Housing` | If costumer has housing loan\n",
        "`Loan` | Has Personal Loan\n",
        "`Balance` |Customer's individual balance\n",
        "`Contact` | Communication type\n",
        "`Month` |  Last contact month of year \n",
        "`Day` | Last contact day of the week\n",
        "`Duration` |Last contact duration, in seconds\n",
        "`Campaign` | Number of contacts performed during this campaign and for this client\n",
        "`Pdays` | Number of days that passed by after the client was last contacted from a previous campaign\n",
        "`Previous` | Number of contacts performed before this campaign and for this client\n",
        "`Poutcome` |outcome of the previous marketing campaign \n",
        "`Deposit` | has the client subscribed a term deposit"
      ],
      "metadata": {
        "id": "ezmnYi6PtwaV"
      }
    },
    {
      "cell_type": "code",
      "source": [
        "df_train.head()"
      ],
      "metadata": {
        "id": "OE--3GN1uav0",
        "colab": {
          "base_uri": "https://localhost:8080/",
          "height": 270
        },
        "outputId": "5cd81558-97a7-477a-f72a-6be1678ac444"
      },
      "execution_count": 10,
      "outputs": [
        {
          "output_type": "execute_result",
          "data": {
            "text/plain": [
              "   age           job  marital  education default  balance housing loan  \\\n",
              "0   58    management  married   tertiary      no     2143     yes   no   \n",
              "1   44    technician   single  secondary      no       29     yes   no   \n",
              "2   33  entrepreneur  married  secondary      no        2     yes  yes   \n",
              "3   47   blue-collar  married    unknown      no     1506     yes   no   \n",
              "4   33       unknown   single    unknown      no        1      no   no   \n",
              "\n",
              "   contact  day month  duration  campaign  pdays  previous poutcome   y  \n",
              "0  unknown    5   may       261         1     -1         0  unknown  no  \n",
              "1  unknown    5   may       151         1     -1         0  unknown  no  \n",
              "2  unknown    5   may        76         1     -1         0  unknown  no  \n",
              "3  unknown    5   may        92         1     -1         0  unknown  no  \n",
              "4  unknown    5   may       198         1     -1         0  unknown  no  "
            ],
            "text/html": [
              "\n",
              "  <div id=\"df-541bd036-6471-4475-a314-1885c0a9cbaf\">\n",
              "    <div class=\"colab-df-container\">\n",
              "      <div>\n",
              "<style scoped>\n",
              "    .dataframe tbody tr th:only-of-type {\n",
              "        vertical-align: middle;\n",
              "    }\n",
              "\n",
              "    .dataframe tbody tr th {\n",
              "        vertical-align: top;\n",
              "    }\n",
              "\n",
              "    .dataframe thead th {\n",
              "        text-align: right;\n",
              "    }\n",
              "</style>\n",
              "<table border=\"1\" class=\"dataframe\">\n",
              "  <thead>\n",
              "    <tr style=\"text-align: right;\">\n",
              "      <th></th>\n",
              "      <th>age</th>\n",
              "      <th>job</th>\n",
              "      <th>marital</th>\n",
              "      <th>education</th>\n",
              "      <th>default</th>\n",
              "      <th>balance</th>\n",
              "      <th>housing</th>\n",
              "      <th>loan</th>\n",
              "      <th>contact</th>\n",
              "      <th>day</th>\n",
              "      <th>month</th>\n",
              "      <th>duration</th>\n",
              "      <th>campaign</th>\n",
              "      <th>pdays</th>\n",
              "      <th>previous</th>\n",
              "      <th>poutcome</th>\n",
              "      <th>y</th>\n",
              "    </tr>\n",
              "  </thead>\n",
              "  <tbody>\n",
              "    <tr>\n",
              "      <th>0</th>\n",
              "      <td>58</td>\n",
              "      <td>management</td>\n",
              "      <td>married</td>\n",
              "      <td>tertiary</td>\n",
              "      <td>no</td>\n",
              "      <td>2143</td>\n",
              "      <td>yes</td>\n",
              "      <td>no</td>\n",
              "      <td>unknown</td>\n",
              "      <td>5</td>\n",
              "      <td>may</td>\n",
              "      <td>261</td>\n",
              "      <td>1</td>\n",
              "      <td>-1</td>\n",
              "      <td>0</td>\n",
              "      <td>unknown</td>\n",
              "      <td>no</td>\n",
              "    </tr>\n",
              "    <tr>\n",
              "      <th>1</th>\n",
              "      <td>44</td>\n",
              "      <td>technician</td>\n",
              "      <td>single</td>\n",
              "      <td>secondary</td>\n",
              "      <td>no</td>\n",
              "      <td>29</td>\n",
              "      <td>yes</td>\n",
              "      <td>no</td>\n",
              "      <td>unknown</td>\n",
              "      <td>5</td>\n",
              "      <td>may</td>\n",
              "      <td>151</td>\n",
              "      <td>1</td>\n",
              "      <td>-1</td>\n",
              "      <td>0</td>\n",
              "      <td>unknown</td>\n",
              "      <td>no</td>\n",
              "    </tr>\n",
              "    <tr>\n",
              "      <th>2</th>\n",
              "      <td>33</td>\n",
              "      <td>entrepreneur</td>\n",
              "      <td>married</td>\n",
              "      <td>secondary</td>\n",
              "      <td>no</td>\n",
              "      <td>2</td>\n",
              "      <td>yes</td>\n",
              "      <td>yes</td>\n",
              "      <td>unknown</td>\n",
              "      <td>5</td>\n",
              "      <td>may</td>\n",
              "      <td>76</td>\n",
              "      <td>1</td>\n",
              "      <td>-1</td>\n",
              "      <td>0</td>\n",
              "      <td>unknown</td>\n",
              "      <td>no</td>\n",
              "    </tr>\n",
              "    <tr>\n",
              "      <th>3</th>\n",
              "      <td>47</td>\n",
              "      <td>blue-collar</td>\n",
              "      <td>married</td>\n",
              "      <td>unknown</td>\n",
              "      <td>no</td>\n",
              "      <td>1506</td>\n",
              "      <td>yes</td>\n",
              "      <td>no</td>\n",
              "      <td>unknown</td>\n",
              "      <td>5</td>\n",
              "      <td>may</td>\n",
              "      <td>92</td>\n",
              "      <td>1</td>\n",
              "      <td>-1</td>\n",
              "      <td>0</td>\n",
              "      <td>unknown</td>\n",
              "      <td>no</td>\n",
              "    </tr>\n",
              "    <tr>\n",
              "      <th>4</th>\n",
              "      <td>33</td>\n",
              "      <td>unknown</td>\n",
              "      <td>single</td>\n",
              "      <td>unknown</td>\n",
              "      <td>no</td>\n",
              "      <td>1</td>\n",
              "      <td>no</td>\n",
              "      <td>no</td>\n",
              "      <td>unknown</td>\n",
              "      <td>5</td>\n",
              "      <td>may</td>\n",
              "      <td>198</td>\n",
              "      <td>1</td>\n",
              "      <td>-1</td>\n",
              "      <td>0</td>\n",
              "      <td>unknown</td>\n",
              "      <td>no</td>\n",
              "    </tr>\n",
              "  </tbody>\n",
              "</table>\n",
              "</div>\n",
              "      <button class=\"colab-df-convert\" onclick=\"convertToInteractive('df-541bd036-6471-4475-a314-1885c0a9cbaf')\"\n",
              "              title=\"Convert this dataframe to an interactive table.\"\n",
              "              style=\"display:none;\">\n",
              "        \n",
              "  <svg xmlns=\"http://www.w3.org/2000/svg\" height=\"24px\"viewBox=\"0 0 24 24\"\n",
              "       width=\"24px\">\n",
              "    <path d=\"M0 0h24v24H0V0z\" fill=\"none\"/>\n",
              "    <path d=\"M18.56 5.44l.94 2.06.94-2.06 2.06-.94-2.06-.94-.94-2.06-.94 2.06-2.06.94zm-11 1L8.5 8.5l.94-2.06 2.06-.94-2.06-.94L8.5 2.5l-.94 2.06-2.06.94zm10 10l.94 2.06.94-2.06 2.06-.94-2.06-.94-.94-2.06-.94 2.06-2.06.94z\"/><path d=\"M17.41 7.96l-1.37-1.37c-.4-.4-.92-.59-1.43-.59-.52 0-1.04.2-1.43.59L10.3 9.45l-7.72 7.72c-.78.78-.78 2.05 0 2.83L4 21.41c.39.39.9.59 1.41.59.51 0 1.02-.2 1.41-.59l7.78-7.78 2.81-2.81c.8-.78.8-2.07 0-2.86zM5.41 20L4 18.59l7.72-7.72 1.47 1.35L5.41 20z\"/>\n",
              "  </svg>\n",
              "      </button>\n",
              "      \n",
              "  <style>\n",
              "    .colab-df-container {\n",
              "      display:flex;\n",
              "      flex-wrap:wrap;\n",
              "      gap: 12px;\n",
              "    }\n",
              "\n",
              "    .colab-df-convert {\n",
              "      background-color: #E8F0FE;\n",
              "      border: none;\n",
              "      border-radius: 50%;\n",
              "      cursor: pointer;\n",
              "      display: none;\n",
              "      fill: #1967D2;\n",
              "      height: 32px;\n",
              "      padding: 0 0 0 0;\n",
              "      width: 32px;\n",
              "    }\n",
              "\n",
              "    .colab-df-convert:hover {\n",
              "      background-color: #E2EBFA;\n",
              "      box-shadow: 0px 1px 2px rgba(60, 64, 67, 0.3), 0px 1px 3px 1px rgba(60, 64, 67, 0.15);\n",
              "      fill: #174EA6;\n",
              "    }\n",
              "\n",
              "    [theme=dark] .colab-df-convert {\n",
              "      background-color: #3B4455;\n",
              "      fill: #D2E3FC;\n",
              "    }\n",
              "\n",
              "    [theme=dark] .colab-df-convert:hover {\n",
              "      background-color: #434B5C;\n",
              "      box-shadow: 0px 1px 3px 1px rgba(0, 0, 0, 0.15);\n",
              "      filter: drop-shadow(0px 1px 2px rgba(0, 0, 0, 0.3));\n",
              "      fill: #FFFFFF;\n",
              "    }\n",
              "  </style>\n",
              "\n",
              "      <script>\n",
              "        const buttonEl =\n",
              "          document.querySelector('#df-541bd036-6471-4475-a314-1885c0a9cbaf button.colab-df-convert');\n",
              "        buttonEl.style.display =\n",
              "          google.colab.kernel.accessAllowed ? 'block' : 'none';\n",
              "\n",
              "        async function convertToInteractive(key) {\n",
              "          const element = document.querySelector('#df-541bd036-6471-4475-a314-1885c0a9cbaf');\n",
              "          const dataTable =\n",
              "            await google.colab.kernel.invokeFunction('convertToInteractive',\n",
              "                                                     [key], {});\n",
              "          if (!dataTable) return;\n",
              "\n",
              "          const docLinkHtml = 'Like what you see? Visit the ' +\n",
              "            '<a target=\"_blank\" href=https://colab.research.google.com/notebooks/data_table.ipynb>data table notebook</a>'\n",
              "            + ' to learn more about interactive tables.';\n",
              "          element.innerHTML = '';\n",
              "          dataTable['output_type'] = 'display_data';\n",
              "          await google.colab.output.renderOutput(dataTable, element);\n",
              "          const docLink = document.createElement('div');\n",
              "          docLink.innerHTML = docLinkHtml;\n",
              "          element.appendChild(docLink);\n",
              "        }\n",
              "      </script>\n",
              "    </div>\n",
              "  </div>\n",
              "  "
            ]
          },
          "metadata": {},
          "execution_count": 10
        }
      ]
    },
    {
      "cell_type": "code",
      "source": [
        "df_train.dtypes"
      ],
      "metadata": {
        "id": "HOGnpZ6ruTDD",
        "colab": {
          "base_uri": "https://localhost:8080/"
        },
        "outputId": "c0f7252e-9820-43f7-e780-a06b33e588dc"
      },
      "execution_count": 11,
      "outputs": [
        {
          "output_type": "execute_result",
          "data": {
            "text/plain": [
              "age           int64\n",
              "job          object\n",
              "marital      object\n",
              "education    object\n",
              "default      object\n",
              "balance       int64\n",
              "housing      object\n",
              "loan         object\n",
              "contact      object\n",
              "day           int64\n",
              "month        object\n",
              "duration      int64\n",
              "campaign      int64\n",
              "pdays         int64\n",
              "previous      int64\n",
              "poutcome     object\n",
              "y            object\n",
              "dtype: object"
            ]
          },
          "metadata": {},
          "execution_count": 11
        }
      ]
    },
    {
      "cell_type": "code",
      "source": [
        "df_train.columns"
      ],
      "metadata": {
        "id": "Y8eNSmGGuX19",
        "colab": {
          "base_uri": "https://localhost:8080/"
        },
        "outputId": "a75046d3-f981-44b0-dd66-341499a73328"
      },
      "execution_count": 12,
      "outputs": [
        {
          "output_type": "execute_result",
          "data": {
            "text/plain": [
              "Index(['age', 'job', 'marital', 'education', 'default', 'balance', 'housing',\n",
              "       'loan', 'contact', 'day', 'month', 'duration', 'campaign', 'pdays',\n",
              "       'previous', 'poutcome', 'y'],\n",
              "      dtype='object')"
            ]
          },
          "metadata": {},
          "execution_count": 12
        }
      ]
    },
    {
      "cell_type": "code",
      "source": [
        "df_train.describe()"
      ],
      "metadata": {
        "colab": {
          "base_uri": "https://localhost:8080/",
          "height": 300
        },
        "id": "mNYYT1fw6I9t",
        "outputId": "f017a35a-fea2-4aeb-f16d-3611636df318"
      },
      "execution_count": 13,
      "outputs": [
        {
          "output_type": "execute_result",
          "data": {
            "text/plain": [
              "                age        balance           day      duration      campaign  \\\n",
              "count  45211.000000   45211.000000  45211.000000  45211.000000  45211.000000   \n",
              "mean      40.936210    1362.272058     15.806419    258.163080      2.763841   \n",
              "std       10.618762    3044.765829      8.322476    257.527812      3.098021   \n",
              "min       18.000000   -8019.000000      1.000000      0.000000      1.000000   \n",
              "25%       33.000000      72.000000      8.000000    103.000000      1.000000   \n",
              "50%       39.000000     448.000000     16.000000    180.000000      2.000000   \n",
              "75%       48.000000    1428.000000     21.000000    319.000000      3.000000   \n",
              "max       95.000000  102127.000000     31.000000   4918.000000     63.000000   \n",
              "\n",
              "              pdays      previous  \n",
              "count  45211.000000  45211.000000  \n",
              "mean      40.197828      0.580323  \n",
              "std      100.128746      2.303441  \n",
              "min       -1.000000      0.000000  \n",
              "25%       -1.000000      0.000000  \n",
              "50%       -1.000000      0.000000  \n",
              "75%       -1.000000      0.000000  \n",
              "max      871.000000    275.000000  "
            ],
            "text/html": [
              "\n",
              "  <div id=\"df-3a1b4368-561d-4ffe-bd22-de474996ec90\">\n",
              "    <div class=\"colab-df-container\">\n",
              "      <div>\n",
              "<style scoped>\n",
              "    .dataframe tbody tr th:only-of-type {\n",
              "        vertical-align: middle;\n",
              "    }\n",
              "\n",
              "    .dataframe tbody tr th {\n",
              "        vertical-align: top;\n",
              "    }\n",
              "\n",
              "    .dataframe thead th {\n",
              "        text-align: right;\n",
              "    }\n",
              "</style>\n",
              "<table border=\"1\" class=\"dataframe\">\n",
              "  <thead>\n",
              "    <tr style=\"text-align: right;\">\n",
              "      <th></th>\n",
              "      <th>age</th>\n",
              "      <th>balance</th>\n",
              "      <th>day</th>\n",
              "      <th>duration</th>\n",
              "      <th>campaign</th>\n",
              "      <th>pdays</th>\n",
              "      <th>previous</th>\n",
              "    </tr>\n",
              "  </thead>\n",
              "  <tbody>\n",
              "    <tr>\n",
              "      <th>count</th>\n",
              "      <td>45211.000000</td>\n",
              "      <td>45211.000000</td>\n",
              "      <td>45211.000000</td>\n",
              "      <td>45211.000000</td>\n",
              "      <td>45211.000000</td>\n",
              "      <td>45211.000000</td>\n",
              "      <td>45211.000000</td>\n",
              "    </tr>\n",
              "    <tr>\n",
              "      <th>mean</th>\n",
              "      <td>40.936210</td>\n",
              "      <td>1362.272058</td>\n",
              "      <td>15.806419</td>\n",
              "      <td>258.163080</td>\n",
              "      <td>2.763841</td>\n",
              "      <td>40.197828</td>\n",
              "      <td>0.580323</td>\n",
              "    </tr>\n",
              "    <tr>\n",
              "      <th>std</th>\n",
              "      <td>10.618762</td>\n",
              "      <td>3044.765829</td>\n",
              "      <td>8.322476</td>\n",
              "      <td>257.527812</td>\n",
              "      <td>3.098021</td>\n",
              "      <td>100.128746</td>\n",
              "      <td>2.303441</td>\n",
              "    </tr>\n",
              "    <tr>\n",
              "      <th>min</th>\n",
              "      <td>18.000000</td>\n",
              "      <td>-8019.000000</td>\n",
              "      <td>1.000000</td>\n",
              "      <td>0.000000</td>\n",
              "      <td>1.000000</td>\n",
              "      <td>-1.000000</td>\n",
              "      <td>0.000000</td>\n",
              "    </tr>\n",
              "    <tr>\n",
              "      <th>25%</th>\n",
              "      <td>33.000000</td>\n",
              "      <td>72.000000</td>\n",
              "      <td>8.000000</td>\n",
              "      <td>103.000000</td>\n",
              "      <td>1.000000</td>\n",
              "      <td>-1.000000</td>\n",
              "      <td>0.000000</td>\n",
              "    </tr>\n",
              "    <tr>\n",
              "      <th>50%</th>\n",
              "      <td>39.000000</td>\n",
              "      <td>448.000000</td>\n",
              "      <td>16.000000</td>\n",
              "      <td>180.000000</td>\n",
              "      <td>2.000000</td>\n",
              "      <td>-1.000000</td>\n",
              "      <td>0.000000</td>\n",
              "    </tr>\n",
              "    <tr>\n",
              "      <th>75%</th>\n",
              "      <td>48.000000</td>\n",
              "      <td>1428.000000</td>\n",
              "      <td>21.000000</td>\n",
              "      <td>319.000000</td>\n",
              "      <td>3.000000</td>\n",
              "      <td>-1.000000</td>\n",
              "      <td>0.000000</td>\n",
              "    </tr>\n",
              "    <tr>\n",
              "      <th>max</th>\n",
              "      <td>95.000000</td>\n",
              "      <td>102127.000000</td>\n",
              "      <td>31.000000</td>\n",
              "      <td>4918.000000</td>\n",
              "      <td>63.000000</td>\n",
              "      <td>871.000000</td>\n",
              "      <td>275.000000</td>\n",
              "    </tr>\n",
              "  </tbody>\n",
              "</table>\n",
              "</div>\n",
              "      <button class=\"colab-df-convert\" onclick=\"convertToInteractive('df-3a1b4368-561d-4ffe-bd22-de474996ec90')\"\n",
              "              title=\"Convert this dataframe to an interactive table.\"\n",
              "              style=\"display:none;\">\n",
              "        \n",
              "  <svg xmlns=\"http://www.w3.org/2000/svg\" height=\"24px\"viewBox=\"0 0 24 24\"\n",
              "       width=\"24px\">\n",
              "    <path d=\"M0 0h24v24H0V0z\" fill=\"none\"/>\n",
              "    <path d=\"M18.56 5.44l.94 2.06.94-2.06 2.06-.94-2.06-.94-.94-2.06-.94 2.06-2.06.94zm-11 1L8.5 8.5l.94-2.06 2.06-.94-2.06-.94L8.5 2.5l-.94 2.06-2.06.94zm10 10l.94 2.06.94-2.06 2.06-.94-2.06-.94-.94-2.06-.94 2.06-2.06.94z\"/><path d=\"M17.41 7.96l-1.37-1.37c-.4-.4-.92-.59-1.43-.59-.52 0-1.04.2-1.43.59L10.3 9.45l-7.72 7.72c-.78.78-.78 2.05 0 2.83L4 21.41c.39.39.9.59 1.41.59.51 0 1.02-.2 1.41-.59l7.78-7.78 2.81-2.81c.8-.78.8-2.07 0-2.86zM5.41 20L4 18.59l7.72-7.72 1.47 1.35L5.41 20z\"/>\n",
              "  </svg>\n",
              "      </button>\n",
              "      \n",
              "  <style>\n",
              "    .colab-df-container {\n",
              "      display:flex;\n",
              "      flex-wrap:wrap;\n",
              "      gap: 12px;\n",
              "    }\n",
              "\n",
              "    .colab-df-convert {\n",
              "      background-color: #E8F0FE;\n",
              "      border: none;\n",
              "      border-radius: 50%;\n",
              "      cursor: pointer;\n",
              "      display: none;\n",
              "      fill: #1967D2;\n",
              "      height: 32px;\n",
              "      padding: 0 0 0 0;\n",
              "      width: 32px;\n",
              "    }\n",
              "\n",
              "    .colab-df-convert:hover {\n",
              "      background-color: #E2EBFA;\n",
              "      box-shadow: 0px 1px 2px rgba(60, 64, 67, 0.3), 0px 1px 3px 1px rgba(60, 64, 67, 0.15);\n",
              "      fill: #174EA6;\n",
              "    }\n",
              "\n",
              "    [theme=dark] .colab-df-convert {\n",
              "      background-color: #3B4455;\n",
              "      fill: #D2E3FC;\n",
              "    }\n",
              "\n",
              "    [theme=dark] .colab-df-convert:hover {\n",
              "      background-color: #434B5C;\n",
              "      box-shadow: 0px 1px 3px 1px rgba(0, 0, 0, 0.15);\n",
              "      filter: drop-shadow(0px 1px 2px rgba(0, 0, 0, 0.3));\n",
              "      fill: #FFFFFF;\n",
              "    }\n",
              "  </style>\n",
              "\n",
              "      <script>\n",
              "        const buttonEl =\n",
              "          document.querySelector('#df-3a1b4368-561d-4ffe-bd22-de474996ec90 button.colab-df-convert');\n",
              "        buttonEl.style.display =\n",
              "          google.colab.kernel.accessAllowed ? 'block' : 'none';\n",
              "\n",
              "        async function convertToInteractive(key) {\n",
              "          const element = document.querySelector('#df-3a1b4368-561d-4ffe-bd22-de474996ec90');\n",
              "          const dataTable =\n",
              "            await google.colab.kernel.invokeFunction('convertToInteractive',\n",
              "                                                     [key], {});\n",
              "          if (!dataTable) return;\n",
              "\n",
              "          const docLinkHtml = 'Like what you see? Visit the ' +\n",
              "            '<a target=\"_blank\" href=https://colab.research.google.com/notebooks/data_table.ipynb>data table notebook</a>'\n",
              "            + ' to learn more about interactive tables.';\n",
              "          element.innerHTML = '';\n",
              "          dataTable['output_type'] = 'display_data';\n",
              "          await google.colab.output.renderOutput(dataTable, element);\n",
              "          const docLink = document.createElement('div');\n",
              "          docLink.innerHTML = docLinkHtml;\n",
              "          element.appendChild(docLink);\n",
              "        }\n",
              "      </script>\n",
              "    </div>\n",
              "  </div>\n",
              "  "
            ]
          },
          "metadata": {},
          "execution_count": 13
        }
      ]
    },
    {
      "cell_type": "markdown",
      "source": [
        "Note: There are not that much insights we can gain from the descriptive dataset since most of our descriptive data is located not in the \"numeric\" columns but in the \"categorical columns\"."
      ],
      "metadata": {
        "id": "xc_8Oz5wW0vv"
      }
    },
    {
      "cell_type": "markdown",
      "metadata": {
        "id": "anWBi7aHuolT"
      },
      "source": [
        "# Data Preprocessing\n",
        "---\n",
        "\n",
        "\n"
      ]
    },
    {
      "cell_type": "code",
      "source": [
        "#Function for Check Data Quality \n",
        "def check_data_quality(input_data):\n",
        "  \"\"\"\n",
        "  Data quality is on the most importent before applying any missing learning model\n",
        "  Some of ML models are very sensitive towards the missing value, duplicated data and others\n",
        "  input_data: variable that you save to read the data\n",
        "  \"\"\"\n",
        "  #Shows the result in the percentage of data duplication\n",
        "  duplication = input_data.duplicated().sum()/input_data.shape[0]*100\n",
        "  print(\"There are around {:.2f}% of data duplication \\n\".format(duplication))\n",
        "\n",
        "  #Shows the result in the percentage of null value\n",
        "  type_null = pd.DataFrame(input_data.dtypes).T.rename(index = {0: 'Columns Type'})\n",
        "  type_null = type_null.append(pd.DataFrame(input_data.isnull().sum()).T.rename(index = {0: 'Amount of Null Values'}))\n",
        "  type_null = type_null.append(pd.DataFrame(input_data.isnull().sum()/input_data.shape[0]*100).T.rename(index = {0: 'Percentage of Null Values'}))\n",
        "  \n",
        "  return(type_null.T)"
      ],
      "metadata": {
        "id": "cTqd-J95ucP3"
      },
      "execution_count": 14,
      "outputs": []
    },
    {
      "cell_type": "code",
      "source": [
        "check_data_quality(df_train)"
      ],
      "metadata": {
        "id": "D2bYfQEWvC3w",
        "colab": {
          "base_uri": "https://localhost:8080/",
          "height": 617
        },
        "outputId": "54d06f90-56ae-4ca2-c44d-dabbc1824e56"
      },
      "execution_count": 15,
      "outputs": [
        {
          "output_type": "stream",
          "name": "stdout",
          "text": [
            "There are around 0.00% of data duplication \n",
            "\n"
          ]
        },
        {
          "output_type": "execute_result",
          "data": {
            "text/plain": [
              "          Columns Type Amount of Null Values Percentage of Null Values\n",
              "age              int64                     0                       0.0\n",
              "job             object                     0                       0.0\n",
              "marital         object                     0                       0.0\n",
              "education       object                     0                       0.0\n",
              "default         object                     0                       0.0\n",
              "balance          int64                     0                       0.0\n",
              "housing         object                     0                       0.0\n",
              "loan            object                     0                       0.0\n",
              "contact         object                     0                       0.0\n",
              "day              int64                     0                       0.0\n",
              "month           object                     0                       0.0\n",
              "duration         int64                     0                       0.0\n",
              "campaign         int64                     0                       0.0\n",
              "pdays            int64                     0                       0.0\n",
              "previous         int64                     0                       0.0\n",
              "poutcome        object                     0                       0.0\n",
              "y               object                     0                       0.0"
            ],
            "text/html": [
              "\n",
              "  <div id=\"df-fef0d3ee-bf54-43ed-850f-f1856d81c372\">\n",
              "    <div class=\"colab-df-container\">\n",
              "      <div>\n",
              "<style scoped>\n",
              "    .dataframe tbody tr th:only-of-type {\n",
              "        vertical-align: middle;\n",
              "    }\n",
              "\n",
              "    .dataframe tbody tr th {\n",
              "        vertical-align: top;\n",
              "    }\n",
              "\n",
              "    .dataframe thead th {\n",
              "        text-align: right;\n",
              "    }\n",
              "</style>\n",
              "<table border=\"1\" class=\"dataframe\">\n",
              "  <thead>\n",
              "    <tr style=\"text-align: right;\">\n",
              "      <th></th>\n",
              "      <th>Columns Type</th>\n",
              "      <th>Amount of Null Values</th>\n",
              "      <th>Percentage of Null Values</th>\n",
              "    </tr>\n",
              "  </thead>\n",
              "  <tbody>\n",
              "    <tr>\n",
              "      <th>age</th>\n",
              "      <td>int64</td>\n",
              "      <td>0</td>\n",
              "      <td>0.0</td>\n",
              "    </tr>\n",
              "    <tr>\n",
              "      <th>job</th>\n",
              "      <td>object</td>\n",
              "      <td>0</td>\n",
              "      <td>0.0</td>\n",
              "    </tr>\n",
              "    <tr>\n",
              "      <th>marital</th>\n",
              "      <td>object</td>\n",
              "      <td>0</td>\n",
              "      <td>0.0</td>\n",
              "    </tr>\n",
              "    <tr>\n",
              "      <th>education</th>\n",
              "      <td>object</td>\n",
              "      <td>0</td>\n",
              "      <td>0.0</td>\n",
              "    </tr>\n",
              "    <tr>\n",
              "      <th>default</th>\n",
              "      <td>object</td>\n",
              "      <td>0</td>\n",
              "      <td>0.0</td>\n",
              "    </tr>\n",
              "    <tr>\n",
              "      <th>balance</th>\n",
              "      <td>int64</td>\n",
              "      <td>0</td>\n",
              "      <td>0.0</td>\n",
              "    </tr>\n",
              "    <tr>\n",
              "      <th>housing</th>\n",
              "      <td>object</td>\n",
              "      <td>0</td>\n",
              "      <td>0.0</td>\n",
              "    </tr>\n",
              "    <tr>\n",
              "      <th>loan</th>\n",
              "      <td>object</td>\n",
              "      <td>0</td>\n",
              "      <td>0.0</td>\n",
              "    </tr>\n",
              "    <tr>\n",
              "      <th>contact</th>\n",
              "      <td>object</td>\n",
              "      <td>0</td>\n",
              "      <td>0.0</td>\n",
              "    </tr>\n",
              "    <tr>\n",
              "      <th>day</th>\n",
              "      <td>int64</td>\n",
              "      <td>0</td>\n",
              "      <td>0.0</td>\n",
              "    </tr>\n",
              "    <tr>\n",
              "      <th>month</th>\n",
              "      <td>object</td>\n",
              "      <td>0</td>\n",
              "      <td>0.0</td>\n",
              "    </tr>\n",
              "    <tr>\n",
              "      <th>duration</th>\n",
              "      <td>int64</td>\n",
              "      <td>0</td>\n",
              "      <td>0.0</td>\n",
              "    </tr>\n",
              "    <tr>\n",
              "      <th>campaign</th>\n",
              "      <td>int64</td>\n",
              "      <td>0</td>\n",
              "      <td>0.0</td>\n",
              "    </tr>\n",
              "    <tr>\n",
              "      <th>pdays</th>\n",
              "      <td>int64</td>\n",
              "      <td>0</td>\n",
              "      <td>0.0</td>\n",
              "    </tr>\n",
              "    <tr>\n",
              "      <th>previous</th>\n",
              "      <td>int64</td>\n",
              "      <td>0</td>\n",
              "      <td>0.0</td>\n",
              "    </tr>\n",
              "    <tr>\n",
              "      <th>poutcome</th>\n",
              "      <td>object</td>\n",
              "      <td>0</td>\n",
              "      <td>0.0</td>\n",
              "    </tr>\n",
              "    <tr>\n",
              "      <th>y</th>\n",
              "      <td>object</td>\n",
              "      <td>0</td>\n",
              "      <td>0.0</td>\n",
              "    </tr>\n",
              "  </tbody>\n",
              "</table>\n",
              "</div>\n",
              "      <button class=\"colab-df-convert\" onclick=\"convertToInteractive('df-fef0d3ee-bf54-43ed-850f-f1856d81c372')\"\n",
              "              title=\"Convert this dataframe to an interactive table.\"\n",
              "              style=\"display:none;\">\n",
              "        \n",
              "  <svg xmlns=\"http://www.w3.org/2000/svg\" height=\"24px\"viewBox=\"0 0 24 24\"\n",
              "       width=\"24px\">\n",
              "    <path d=\"M0 0h24v24H0V0z\" fill=\"none\"/>\n",
              "    <path d=\"M18.56 5.44l.94 2.06.94-2.06 2.06-.94-2.06-.94-.94-2.06-.94 2.06-2.06.94zm-11 1L8.5 8.5l.94-2.06 2.06-.94-2.06-.94L8.5 2.5l-.94 2.06-2.06.94zm10 10l.94 2.06.94-2.06 2.06-.94-2.06-.94-.94-2.06-.94 2.06-2.06.94z\"/><path d=\"M17.41 7.96l-1.37-1.37c-.4-.4-.92-.59-1.43-.59-.52 0-1.04.2-1.43.59L10.3 9.45l-7.72 7.72c-.78.78-.78 2.05 0 2.83L4 21.41c.39.39.9.59 1.41.59.51 0 1.02-.2 1.41-.59l7.78-7.78 2.81-2.81c.8-.78.8-2.07 0-2.86zM5.41 20L4 18.59l7.72-7.72 1.47 1.35L5.41 20z\"/>\n",
              "  </svg>\n",
              "      </button>\n",
              "      \n",
              "  <style>\n",
              "    .colab-df-container {\n",
              "      display:flex;\n",
              "      flex-wrap:wrap;\n",
              "      gap: 12px;\n",
              "    }\n",
              "\n",
              "    .colab-df-convert {\n",
              "      background-color: #E8F0FE;\n",
              "      border: none;\n",
              "      border-radius: 50%;\n",
              "      cursor: pointer;\n",
              "      display: none;\n",
              "      fill: #1967D2;\n",
              "      height: 32px;\n",
              "      padding: 0 0 0 0;\n",
              "      width: 32px;\n",
              "    }\n",
              "\n",
              "    .colab-df-convert:hover {\n",
              "      background-color: #E2EBFA;\n",
              "      box-shadow: 0px 1px 2px rgba(60, 64, 67, 0.3), 0px 1px 3px 1px rgba(60, 64, 67, 0.15);\n",
              "      fill: #174EA6;\n",
              "    }\n",
              "\n",
              "    [theme=dark] .colab-df-convert {\n",
              "      background-color: #3B4455;\n",
              "      fill: #D2E3FC;\n",
              "    }\n",
              "\n",
              "    [theme=dark] .colab-df-convert:hover {\n",
              "      background-color: #434B5C;\n",
              "      box-shadow: 0px 1px 3px 1px rgba(0, 0, 0, 0.15);\n",
              "      filter: drop-shadow(0px 1px 2px rgba(0, 0, 0, 0.3));\n",
              "      fill: #FFFFFF;\n",
              "    }\n",
              "  </style>\n",
              "\n",
              "      <script>\n",
              "        const buttonEl =\n",
              "          document.querySelector('#df-fef0d3ee-bf54-43ed-850f-f1856d81c372 button.colab-df-convert');\n",
              "        buttonEl.style.display =\n",
              "          google.colab.kernel.accessAllowed ? 'block' : 'none';\n",
              "\n",
              "        async function convertToInteractive(key) {\n",
              "          const element = document.querySelector('#df-fef0d3ee-bf54-43ed-850f-f1856d81c372');\n",
              "          const dataTable =\n",
              "            await google.colab.kernel.invokeFunction('convertToInteractive',\n",
              "                                                     [key], {});\n",
              "          if (!dataTable) return;\n",
              "\n",
              "          const docLinkHtml = 'Like what you see? Visit the ' +\n",
              "            '<a target=\"_blank\" href=https://colab.research.google.com/notebooks/data_table.ipynb>data table notebook</a>'\n",
              "            + ' to learn more about interactive tables.';\n",
              "          element.innerHTML = '';\n",
              "          dataTable['output_type'] = 'display_data';\n",
              "          await google.colab.output.renderOutput(dataTable, element);\n",
              "          const docLink = document.createElement('div');\n",
              "          docLink.innerHTML = docLinkHtml;\n",
              "          element.appendChild(docLink);\n",
              "        }\n",
              "      </script>\n",
              "    </div>\n",
              "  </div>\n",
              "  "
            ]
          },
          "metadata": {},
          "execution_count": 15
        }
      ]
    },
    {
      "cell_type": "markdown",
      "source": [
        "There is no missing value in this dataset. Nevertheless, there are values like “unknown”, “others”, which are helpless just like missing values. Thus, these ambiguous values are removed from the dataset.\n",
        "\n"
      ],
      "metadata": {
        "id": "ddVs3MFHYg-6"
      }
    },
    {
      "cell_type": "code",
      "source": [
        "df_clean = df_train.copy()\n",
        "df_clean"
      ],
      "metadata": {
        "id": "AontZaFMvZIX",
        "colab": {
          "base_uri": "https://localhost:8080/",
          "height": 488
        },
        "outputId": "7a306091-9f27-476e-f34d-e1b2fb62260b"
      },
      "execution_count": 16,
      "outputs": [
        {
          "output_type": "execute_result",
          "data": {
            "text/plain": [
              "       age           job   marital  education default  balance housing loan  \\\n",
              "0       58    management   married   tertiary      no     2143     yes   no   \n",
              "1       44    technician    single  secondary      no       29     yes   no   \n",
              "2       33  entrepreneur   married  secondary      no        2     yes  yes   \n",
              "3       47   blue-collar   married    unknown      no     1506     yes   no   \n",
              "4       33       unknown    single    unknown      no        1      no   no   \n",
              "...    ...           ...       ...        ...     ...      ...     ...  ...   \n",
              "45206   51    technician   married   tertiary      no      825      no   no   \n",
              "45207   71       retired  divorced    primary      no     1729      no   no   \n",
              "45208   72       retired   married  secondary      no     5715      no   no   \n",
              "45209   57   blue-collar   married  secondary      no      668      no   no   \n",
              "45210   37  entrepreneur   married  secondary      no     2971      no   no   \n",
              "\n",
              "         contact  day month  duration  campaign  pdays  previous poutcome    y  \n",
              "0        unknown    5   may       261         1     -1         0  unknown   no  \n",
              "1        unknown    5   may       151         1     -1         0  unknown   no  \n",
              "2        unknown    5   may        76         1     -1         0  unknown   no  \n",
              "3        unknown    5   may        92         1     -1         0  unknown   no  \n",
              "4        unknown    5   may       198         1     -1         0  unknown   no  \n",
              "...          ...  ...   ...       ...       ...    ...       ...      ...  ...  \n",
              "45206   cellular   17   nov       977         3     -1         0  unknown  yes  \n",
              "45207   cellular   17   nov       456         2     -1         0  unknown  yes  \n",
              "45208   cellular   17   nov      1127         5    184         3  success  yes  \n",
              "45209  telephone   17   nov       508         4     -1         0  unknown   no  \n",
              "45210   cellular   17   nov       361         2    188        11    other   no  \n",
              "\n",
              "[45211 rows x 17 columns]"
            ],
            "text/html": [
              "\n",
              "  <div id=\"df-e581c826-13e5-4487-8fc8-5f2323efb11b\">\n",
              "    <div class=\"colab-df-container\">\n",
              "      <div>\n",
              "<style scoped>\n",
              "    .dataframe tbody tr th:only-of-type {\n",
              "        vertical-align: middle;\n",
              "    }\n",
              "\n",
              "    .dataframe tbody tr th {\n",
              "        vertical-align: top;\n",
              "    }\n",
              "\n",
              "    .dataframe thead th {\n",
              "        text-align: right;\n",
              "    }\n",
              "</style>\n",
              "<table border=\"1\" class=\"dataframe\">\n",
              "  <thead>\n",
              "    <tr style=\"text-align: right;\">\n",
              "      <th></th>\n",
              "      <th>age</th>\n",
              "      <th>job</th>\n",
              "      <th>marital</th>\n",
              "      <th>education</th>\n",
              "      <th>default</th>\n",
              "      <th>balance</th>\n",
              "      <th>housing</th>\n",
              "      <th>loan</th>\n",
              "      <th>contact</th>\n",
              "      <th>day</th>\n",
              "      <th>month</th>\n",
              "      <th>duration</th>\n",
              "      <th>campaign</th>\n",
              "      <th>pdays</th>\n",
              "      <th>previous</th>\n",
              "      <th>poutcome</th>\n",
              "      <th>y</th>\n",
              "    </tr>\n",
              "  </thead>\n",
              "  <tbody>\n",
              "    <tr>\n",
              "      <th>0</th>\n",
              "      <td>58</td>\n",
              "      <td>management</td>\n",
              "      <td>married</td>\n",
              "      <td>tertiary</td>\n",
              "      <td>no</td>\n",
              "      <td>2143</td>\n",
              "      <td>yes</td>\n",
              "      <td>no</td>\n",
              "      <td>unknown</td>\n",
              "      <td>5</td>\n",
              "      <td>may</td>\n",
              "      <td>261</td>\n",
              "      <td>1</td>\n",
              "      <td>-1</td>\n",
              "      <td>0</td>\n",
              "      <td>unknown</td>\n",
              "      <td>no</td>\n",
              "    </tr>\n",
              "    <tr>\n",
              "      <th>1</th>\n",
              "      <td>44</td>\n",
              "      <td>technician</td>\n",
              "      <td>single</td>\n",
              "      <td>secondary</td>\n",
              "      <td>no</td>\n",
              "      <td>29</td>\n",
              "      <td>yes</td>\n",
              "      <td>no</td>\n",
              "      <td>unknown</td>\n",
              "      <td>5</td>\n",
              "      <td>may</td>\n",
              "      <td>151</td>\n",
              "      <td>1</td>\n",
              "      <td>-1</td>\n",
              "      <td>0</td>\n",
              "      <td>unknown</td>\n",
              "      <td>no</td>\n",
              "    </tr>\n",
              "    <tr>\n",
              "      <th>2</th>\n",
              "      <td>33</td>\n",
              "      <td>entrepreneur</td>\n",
              "      <td>married</td>\n",
              "      <td>secondary</td>\n",
              "      <td>no</td>\n",
              "      <td>2</td>\n",
              "      <td>yes</td>\n",
              "      <td>yes</td>\n",
              "      <td>unknown</td>\n",
              "      <td>5</td>\n",
              "      <td>may</td>\n",
              "      <td>76</td>\n",
              "      <td>1</td>\n",
              "      <td>-1</td>\n",
              "      <td>0</td>\n",
              "      <td>unknown</td>\n",
              "      <td>no</td>\n",
              "    </tr>\n",
              "    <tr>\n",
              "      <th>3</th>\n",
              "      <td>47</td>\n",
              "      <td>blue-collar</td>\n",
              "      <td>married</td>\n",
              "      <td>unknown</td>\n",
              "      <td>no</td>\n",
              "      <td>1506</td>\n",
              "      <td>yes</td>\n",
              "      <td>no</td>\n",
              "      <td>unknown</td>\n",
              "      <td>5</td>\n",
              "      <td>may</td>\n",
              "      <td>92</td>\n",
              "      <td>1</td>\n",
              "      <td>-1</td>\n",
              "      <td>0</td>\n",
              "      <td>unknown</td>\n",
              "      <td>no</td>\n",
              "    </tr>\n",
              "    <tr>\n",
              "      <th>4</th>\n",
              "      <td>33</td>\n",
              "      <td>unknown</td>\n",
              "      <td>single</td>\n",
              "      <td>unknown</td>\n",
              "      <td>no</td>\n",
              "      <td>1</td>\n",
              "      <td>no</td>\n",
              "      <td>no</td>\n",
              "      <td>unknown</td>\n",
              "      <td>5</td>\n",
              "      <td>may</td>\n",
              "      <td>198</td>\n",
              "      <td>1</td>\n",
              "      <td>-1</td>\n",
              "      <td>0</td>\n",
              "      <td>unknown</td>\n",
              "      <td>no</td>\n",
              "    </tr>\n",
              "    <tr>\n",
              "      <th>...</th>\n",
              "      <td>...</td>\n",
              "      <td>...</td>\n",
              "      <td>...</td>\n",
              "      <td>...</td>\n",
              "      <td>...</td>\n",
              "      <td>...</td>\n",
              "      <td>...</td>\n",
              "      <td>...</td>\n",
              "      <td>...</td>\n",
              "      <td>...</td>\n",
              "      <td>...</td>\n",
              "      <td>...</td>\n",
              "      <td>...</td>\n",
              "      <td>...</td>\n",
              "      <td>...</td>\n",
              "      <td>...</td>\n",
              "      <td>...</td>\n",
              "    </tr>\n",
              "    <tr>\n",
              "      <th>45206</th>\n",
              "      <td>51</td>\n",
              "      <td>technician</td>\n",
              "      <td>married</td>\n",
              "      <td>tertiary</td>\n",
              "      <td>no</td>\n",
              "      <td>825</td>\n",
              "      <td>no</td>\n",
              "      <td>no</td>\n",
              "      <td>cellular</td>\n",
              "      <td>17</td>\n",
              "      <td>nov</td>\n",
              "      <td>977</td>\n",
              "      <td>3</td>\n",
              "      <td>-1</td>\n",
              "      <td>0</td>\n",
              "      <td>unknown</td>\n",
              "      <td>yes</td>\n",
              "    </tr>\n",
              "    <tr>\n",
              "      <th>45207</th>\n",
              "      <td>71</td>\n",
              "      <td>retired</td>\n",
              "      <td>divorced</td>\n",
              "      <td>primary</td>\n",
              "      <td>no</td>\n",
              "      <td>1729</td>\n",
              "      <td>no</td>\n",
              "      <td>no</td>\n",
              "      <td>cellular</td>\n",
              "      <td>17</td>\n",
              "      <td>nov</td>\n",
              "      <td>456</td>\n",
              "      <td>2</td>\n",
              "      <td>-1</td>\n",
              "      <td>0</td>\n",
              "      <td>unknown</td>\n",
              "      <td>yes</td>\n",
              "    </tr>\n",
              "    <tr>\n",
              "      <th>45208</th>\n",
              "      <td>72</td>\n",
              "      <td>retired</td>\n",
              "      <td>married</td>\n",
              "      <td>secondary</td>\n",
              "      <td>no</td>\n",
              "      <td>5715</td>\n",
              "      <td>no</td>\n",
              "      <td>no</td>\n",
              "      <td>cellular</td>\n",
              "      <td>17</td>\n",
              "      <td>nov</td>\n",
              "      <td>1127</td>\n",
              "      <td>5</td>\n",
              "      <td>184</td>\n",
              "      <td>3</td>\n",
              "      <td>success</td>\n",
              "      <td>yes</td>\n",
              "    </tr>\n",
              "    <tr>\n",
              "      <th>45209</th>\n",
              "      <td>57</td>\n",
              "      <td>blue-collar</td>\n",
              "      <td>married</td>\n",
              "      <td>secondary</td>\n",
              "      <td>no</td>\n",
              "      <td>668</td>\n",
              "      <td>no</td>\n",
              "      <td>no</td>\n",
              "      <td>telephone</td>\n",
              "      <td>17</td>\n",
              "      <td>nov</td>\n",
              "      <td>508</td>\n",
              "      <td>4</td>\n",
              "      <td>-1</td>\n",
              "      <td>0</td>\n",
              "      <td>unknown</td>\n",
              "      <td>no</td>\n",
              "    </tr>\n",
              "    <tr>\n",
              "      <th>45210</th>\n",
              "      <td>37</td>\n",
              "      <td>entrepreneur</td>\n",
              "      <td>married</td>\n",
              "      <td>secondary</td>\n",
              "      <td>no</td>\n",
              "      <td>2971</td>\n",
              "      <td>no</td>\n",
              "      <td>no</td>\n",
              "      <td>cellular</td>\n",
              "      <td>17</td>\n",
              "      <td>nov</td>\n",
              "      <td>361</td>\n",
              "      <td>2</td>\n",
              "      <td>188</td>\n",
              "      <td>11</td>\n",
              "      <td>other</td>\n",
              "      <td>no</td>\n",
              "    </tr>\n",
              "  </tbody>\n",
              "</table>\n",
              "<p>45211 rows × 17 columns</p>\n",
              "</div>\n",
              "      <button class=\"colab-df-convert\" onclick=\"convertToInteractive('df-e581c826-13e5-4487-8fc8-5f2323efb11b')\"\n",
              "              title=\"Convert this dataframe to an interactive table.\"\n",
              "              style=\"display:none;\">\n",
              "        \n",
              "  <svg xmlns=\"http://www.w3.org/2000/svg\" height=\"24px\"viewBox=\"0 0 24 24\"\n",
              "       width=\"24px\">\n",
              "    <path d=\"M0 0h24v24H0V0z\" fill=\"none\"/>\n",
              "    <path d=\"M18.56 5.44l.94 2.06.94-2.06 2.06-.94-2.06-.94-.94-2.06-.94 2.06-2.06.94zm-11 1L8.5 8.5l.94-2.06 2.06-.94-2.06-.94L8.5 2.5l-.94 2.06-2.06.94zm10 10l.94 2.06.94-2.06 2.06-.94-2.06-.94-.94-2.06-.94 2.06-2.06.94z\"/><path d=\"M17.41 7.96l-1.37-1.37c-.4-.4-.92-.59-1.43-.59-.52 0-1.04.2-1.43.59L10.3 9.45l-7.72 7.72c-.78.78-.78 2.05 0 2.83L4 21.41c.39.39.9.59 1.41.59.51 0 1.02-.2 1.41-.59l7.78-7.78 2.81-2.81c.8-.78.8-2.07 0-2.86zM5.41 20L4 18.59l7.72-7.72 1.47 1.35L5.41 20z\"/>\n",
              "  </svg>\n",
              "      </button>\n",
              "      \n",
              "  <style>\n",
              "    .colab-df-container {\n",
              "      display:flex;\n",
              "      flex-wrap:wrap;\n",
              "      gap: 12px;\n",
              "    }\n",
              "\n",
              "    .colab-df-convert {\n",
              "      background-color: #E8F0FE;\n",
              "      border: none;\n",
              "      border-radius: 50%;\n",
              "      cursor: pointer;\n",
              "      display: none;\n",
              "      fill: #1967D2;\n",
              "      height: 32px;\n",
              "      padding: 0 0 0 0;\n",
              "      width: 32px;\n",
              "    }\n",
              "\n",
              "    .colab-df-convert:hover {\n",
              "      background-color: #E2EBFA;\n",
              "      box-shadow: 0px 1px 2px rgba(60, 64, 67, 0.3), 0px 1px 3px 1px rgba(60, 64, 67, 0.15);\n",
              "      fill: #174EA6;\n",
              "    }\n",
              "\n",
              "    [theme=dark] .colab-df-convert {\n",
              "      background-color: #3B4455;\n",
              "      fill: #D2E3FC;\n",
              "    }\n",
              "\n",
              "    [theme=dark] .colab-df-convert:hover {\n",
              "      background-color: #434B5C;\n",
              "      box-shadow: 0px 1px 3px 1px rgba(0, 0, 0, 0.15);\n",
              "      filter: drop-shadow(0px 1px 2px rgba(0, 0, 0, 0.3));\n",
              "      fill: #FFFFFF;\n",
              "    }\n",
              "  </style>\n",
              "\n",
              "      <script>\n",
              "        const buttonEl =\n",
              "          document.querySelector('#df-e581c826-13e5-4487-8fc8-5f2323efb11b button.colab-df-convert');\n",
              "        buttonEl.style.display =\n",
              "          google.colab.kernel.accessAllowed ? 'block' : 'none';\n",
              "\n",
              "        async function convertToInteractive(key) {\n",
              "          const element = document.querySelector('#df-e581c826-13e5-4487-8fc8-5f2323efb11b');\n",
              "          const dataTable =\n",
              "            await google.colab.kernel.invokeFunction('convertToInteractive',\n",
              "                                                     [key], {});\n",
              "          if (!dataTable) return;\n",
              "\n",
              "          const docLinkHtml = 'Like what you see? Visit the ' +\n",
              "            '<a target=\"_blank\" href=https://colab.research.google.com/notebooks/data_table.ipynb>data table notebook</a>'\n",
              "            + ' to learn more about interactive tables.';\n",
              "          element.innerHTML = '';\n",
              "          dataTable['output_type'] = 'display_data';\n",
              "          await google.colab.output.renderOutput(dataTable, element);\n",
              "          const docLink = document.createElement('div');\n",
              "          docLink.innerHTML = docLinkHtml;\n",
              "          element.appendChild(docLink);\n",
              "        }\n",
              "      </script>\n",
              "    </div>\n",
              "  </div>\n",
              "  "
            ]
          },
          "metadata": {},
          "execution_count": 16
        }
      ]
    },
    {
      "cell_type": "markdown",
      "metadata": {
        "id": "AyWd-ZPASN3f"
      },
      "source": [
        "## Feature Enginering"
      ]
    },
    {
      "cell_type": "code",
      "source": [
        "#Change column name: 'y' to 'response'\n",
        "df_clean.rename(index=str, columns={'y': 'deposit'}, inplace = True)"
      ],
      "metadata": {
        "id": "xw5ax9XFvMo4"
      },
      "execution_count": 17,
      "outputs": []
    },
    {
      "cell_type": "markdown",
      "source": [
        "**Change Unknown data**"
      ],
      "metadata": {
        "id": "5eis55ZzRzqi"
      }
    },
    {
      "cell_type": "code",
      "source": [
        "#Change 'unknown' data in feature\n",
        "for i in range(len(df_clean['poutcome'])):\n",
        "  if df_clean['deposit'][i] == 'yes':\n",
        "     df_clean[['poutcome']] = df_clean[['poutcome']].replace(['unknown'],'success')\n",
        "  elif df_clean['deposit'][i] == 'no':\n",
        "    df_clean[['poutcome']] = df_clean[['poutcome']].replace(['unknown'],'failure')\n",
        "\n",
        "df_clean[['job','education','contact']] = df_clean[['job','education','contact']].replace(['unknown'],'other')\n",
        "df_clean[['job']] = df_clean[['job']].replace(['admin.'],'admin')\n",
        "df_clean['day'] = df_clean['day'].astype(object)\n"
      ],
      "metadata": {
        "id": "tnTcvXnfv7yj"
      },
      "execution_count": 18,
      "outputs": []
    },
    {
      "cell_type": "markdown",
      "source": [
        "**Drop Outlier**"
      ],
      "metadata": {
        "id": "ymT1x2DHR80n"
      }
    },
    {
      "cell_type": "code",
      "source": [
        "condition = df_clean.poutcome == 'other'\n",
        "df_clean = df_clean.drop(df_clean[condition].index, axis = 0, inplace = False)"
      ],
      "metadata": {
        "id": "6Ula66t3yVnj"
      },
      "execution_count": 19,
      "outputs": []
    },
    {
      "cell_type": "code",
      "source": [
        "#Take out Outlier in 'balance'\n",
        "from scipy.stats import zscore\n",
        "\n",
        "df_clean[['balance']].mean()\n",
        "df_clean[['balance']].mean()\n",
        "\n",
        "df_clean['balance_outliers'] = df_clean['balance']\n",
        "df_clean['balance_outliers']= zscore(df_clean['balance_outliers'])\n",
        "\n",
        "condition1 = (df_clean['balance_outliers']>3) | (df_clean['balance_outliers']<-3 )\n",
        "df_clean2 = df_clean.drop(df_clean[condition1].index, axis = 0, inplace = False)"
      ],
      "metadata": {
        "id": "vMfbMN5vytrS"
      },
      "execution_count": 20,
      "outputs": []
    },
    {
      "cell_type": "code",
      "source": [
        "df_clean3 = df_clean2.drop('balance_outliers', axis=1)"
      ],
      "metadata": {
        "id": "NGMPtcuBzEeB"
      },
      "execution_count": 21,
      "outputs": []
    },
    {
      "cell_type": "code",
      "source": [
        "def convert(df_clean3, new_column, old_column):\n",
        "    df_clean3[new_column] = df_clean3[old_column].apply(lambda x: 0 if x == 'no' else 1)\n",
        "    return df_clean3[new_column].value_counts()\n",
        "\n",
        "convert(df_clean3, \"deposit_binary\", \"deposit\")"
      ],
      "metadata": {
        "colab": {
          "base_uri": "https://localhost:8080/"
        },
        "id": "teDiMtHwxiwP",
        "outputId": "5a199472-0285-4d4d-e101-e7a6e5c75ae2"
      },
      "execution_count": 22,
      "outputs": [
        {
          "output_type": "execute_result",
          "data": {
            "text/plain": [
              "0    37785\n",
              "1     4870\n",
              "Name: deposit_binary, dtype: int64"
            ]
          },
          "metadata": {},
          "execution_count": 22
        }
      ]
    },
    {
      "cell_type": "code",
      "source": [
        "#change duration from seconds to minutes\n",
        "df_clean3['duration'] = df_clean3['duration'].apply(lambda n:n/60).round(2)"
      ],
      "metadata": {
        "id": "elQz1pOa0fdb"
      },
      "execution_count": 23,
      "outputs": []
    },
    {
      "cell_type": "code",
      "source": [
        "#Drop rows that 'duration' < 5s\n",
        "condition2 = (df_clean3['duration']<5/60)\n",
        "df_clean4 = df_clean3.drop(df_clean3[condition2].index, axis = 0, inplace = False)"
      ],
      "metadata": {
        "id": "vEecjvvP1IGT"
      },
      "execution_count": 24,
      "outputs": []
    },
    {
      "cell_type": "code",
      "source": [
        "#Drop customer values with 'other' education\n",
        "condition3 = (df_clean4['education'] == 'other')\n",
        "df_clean5 = df_clean4.drop(df_clean4[condition3].index, axis = 0, inplace = False)"
      ],
      "metadata": {
        "id": "TtLRrtm21Kzm"
      },
      "execution_count": 25,
      "outputs": []
    },
    {
      "cell_type": "code",
      "source": [
        "#Change 'month' from words to numbers for easier analysis\n",
        "lst = [df_clean5]\n",
        "for column in lst:\n",
        "    column.loc[column[\"month\"] == \"jan\", \"month_int\"] = 1\n",
        "    column.loc[column[\"month\"] == \"feb\", \"month_int\"] = 2\n",
        "    column.loc[column[\"month\"] == \"mar\", \"month_int\"] = 3\n",
        "    column.loc[column[\"month\"] == \"apr\", \"month_int\"] = 4\n",
        "    column.loc[column[\"month\"] == \"may\", \"month_int\"] = 5\n",
        "    column.loc[column[\"month\"] == \"jun\", \"month_int\"] = 6\n",
        "    column.loc[column[\"month\"] == \"jul\", \"month_int\"] = 7\n",
        "    column.loc[column[\"month\"] == \"aug\", \"month_int\"] = 8\n",
        "    column.loc[column[\"month\"] == \"sep\", \"month_int\"] = 9\n",
        "    column.loc[column[\"month\"] == \"oct\", \"month_int\"] = 10\n",
        "    column.loc[column[\"month\"] == \"nov\", \"month_int\"] = 11\n",
        "    column.loc[column[\"month\"] == \"dec\", \"month_int\"] = 12"
      ],
      "metadata": {
        "id": "iT8OTPHhMB3n"
      },
      "execution_count": 26,
      "outputs": []
    },
    {
      "cell_type": "code",
      "source": [
        "sns.countplot(data=df_clean5,x='deposit')"
      ],
      "metadata": {
        "colab": {
          "base_uri": "https://localhost:8080/",
          "height": 296
        },
        "id": "4WEGJwJU-L0Z",
        "outputId": "fa805c4b-75ce-4ca6-9171-8e2134af6967"
      },
      "execution_count": 27,
      "outputs": [
        {
          "output_type": "execute_result",
          "data": {
            "text/plain": [
              "<matplotlib.axes._subplots.AxesSubplot at 0x7f60c2418ca0>"
            ]
          },
          "metadata": {},
          "execution_count": 27
        },
        {
          "output_type": "display_data",
          "data": {
            "text/plain": [
              "<Figure size 432x288 with 1 Axes>"
            ],
            "image/png": "[encoded data removed]"
          },
          "metadata": {
            "needs_background": "light"
          }
        }
      ]
    },
    {
      "cell_type": "code",
      "source": [
        "df_clean5['deposit'].value_counts()"
      ],
      "metadata": {
        "colab": {
          "base_uri": "https://localhost:8080/"
        },
        "id": "mgJkZb7D-PW8",
        "outputId": "0f7dfb15-1294-46b9-fb82-64369cb1b40b"
      },
      "execution_count": 28,
      "outputs": [
        {
          "output_type": "execute_result",
          "data": {
            "text/plain": [
              "no     36202\n",
              "yes     4639\n",
              "Name: deposit, dtype: int64"
            ]
          },
          "metadata": {},
          "execution_count": 28
        }
      ]
    },
    {
      "cell_type": "code",
      "source": [
        "df_clean5 = df_clean5.query('balance >= 0')"
      ],
      "metadata": {
        "id": "_gkelwXxAWeT"
      },
      "execution_count": 29,
      "outputs": []
    },
    {
      "cell_type": "code",
      "source": [
        "df_clean5.describe()"
      ],
      "metadata": {
        "colab": {
          "base_uri": "https://localhost:8080/",
          "height": 364
        },
        "id": "JMfWJicVAKHs",
        "outputId": "bc8cb922-4769-4a40-d917-05b611fb19d0"
      },
      "execution_count": 30,
      "outputs": [
        {
          "output_type": "execute_result",
          "data": {
            "text/plain": [
              "                age       balance      duration      campaign         pdays  \\\n",
              "count  37337.000000  37337.000000  37337.000000  37337.000000  37337.000000   \n",
              "mean      40.912955   1204.595442      4.315171      2.760506     32.750542   \n",
              "std       10.591927   1731.377198      4.314751      3.066798     90.909747   \n",
              "min       18.000000      0.000000      0.100000      1.000000     -1.000000   \n",
              "25%       33.000000    137.000000      1.720000      1.000000     -1.000000   \n",
              "50%       39.000000    514.000000      3.000000      2.000000     -1.000000   \n",
              "75%       48.000000   1480.000000      5.320000      3.000000     -1.000000   \n",
              "max       95.000000  10443.000000     81.970000     58.000000    871.000000   \n",
              "\n",
              "           previous  deposit_binary     month_int  \n",
              "count  37337.000000    37337.000000  37337.000000  \n",
              "mean       0.450759        0.118917      6.194284  \n",
              "std        1.596796        0.323695      2.405269  \n",
              "min        0.000000        0.000000      1.000000  \n",
              "25%        0.000000        0.000000      5.000000  \n",
              "50%        0.000000        0.000000      6.000000  \n",
              "75%        0.000000        0.000000      8.000000  \n",
              "max       55.000000        1.000000     12.000000  "
            ],
            "text/html": [
              "\n",
              "  <div id=\"df-64682587-8c0e-4ff6-a12e-6ce51444d585\">\n",
              "    <div class=\"colab-df-container\">\n",
              "      <div>\n",
              "<style scoped>\n",
              "    .dataframe tbody tr th:only-of-type {\n",
              "        vertical-align: middle;\n",
              "    }\n",
              "\n",
              "    .dataframe tbody tr th {\n",
              "        vertical-align: top;\n",
              "    }\n",
              "\n",
              "    .dataframe thead th {\n",
              "        text-align: right;\n",
              "    }\n",
              "</style>\n",
              "<table border=\"1\" class=\"dataframe\">\n",
              "  <thead>\n",
              "    <tr style=\"text-align: right;\">\n",
              "      <th></th>\n",
              "      <th>age</th>\n",
              "      <th>balance</th>\n",
              "      <th>duration</th>\n",
              "      <th>campaign</th>\n",
              "      <th>pdays</th>\n",
              "      <th>previous</th>\n",
              "      <th>deposit_binary</th>\n",
              "      <th>month_int</th>\n",
              "    </tr>\n",
              "  </thead>\n",
              "  <tbody>\n",
              "    <tr>\n",
              "      <th>count</th>\n",
              "      <td>37337.000000</td>\n",
              "      <td>37337.000000</td>\n",
              "      <td>37337.000000</td>\n",
              "      <td>37337.000000</td>\n",
              "      <td>37337.000000</td>\n",
              "      <td>37337.000000</td>\n",
              "      <td>37337.000000</td>\n",
              "      <td>37337.000000</td>\n",
              "    </tr>\n",
              "    <tr>\n",
              "      <th>mean</th>\n",
              "      <td>40.912955</td>\n",
              "      <td>1204.595442</td>\n",
              "      <td>4.315171</td>\n",
              "      <td>2.760506</td>\n",
              "      <td>32.750542</td>\n",
              "      <td>0.450759</td>\n",
              "      <td>0.118917</td>\n",
              "      <td>6.194284</td>\n",
              "    </tr>\n",
              "    <tr>\n",
              "      <th>std</th>\n",
              "      <td>10.591927</td>\n",
              "      <td>1731.377198</td>\n",
              "      <td>4.314751</td>\n",
              "      <td>3.066798</td>\n",
              "      <td>90.909747</td>\n",
              "      <td>1.596796</td>\n",
              "      <td>0.323695</td>\n",
              "      <td>2.405269</td>\n",
              "    </tr>\n",
              "    <tr>\n",
              "      <th>min</th>\n",
              "      <td>18.000000</td>\n",
              "      <td>0.000000</td>\n",
              "      <td>0.100000</td>\n",
              "      <td>1.000000</td>\n",
              "      <td>-1.000000</td>\n",
              "      <td>0.000000</td>\n",
              "      <td>0.000000</td>\n",
              "      <td>1.000000</td>\n",
              "    </tr>\n",
              "    <tr>\n",
              "      <th>25%</th>\n",
              "      <td>33.000000</td>\n",
              "      <td>137.000000</td>\n",
              "      <td>1.720000</td>\n",
              "      <td>1.000000</td>\n",
              "      <td>-1.000000</td>\n",
              "      <td>0.000000</td>\n",
              "      <td>0.000000</td>\n",
              "      <td>5.000000</td>\n",
              "    </tr>\n",
              "    <tr>\n",
              "      <th>50%</th>\n",
              "      <td>39.000000</td>\n",
              "      <td>514.000000</td>\n",
              "      <td>3.000000</td>\n",
              "      <td>2.000000</td>\n",
              "      <td>-1.000000</td>\n",
              "      <td>0.000000</td>\n",
              "      <td>0.000000</td>\n",
              "      <td>6.000000</td>\n",
              "    </tr>\n",
              "    <tr>\n",
              "      <th>75%</th>\n",
              "      <td>48.000000</td>\n",
              "      <td>1480.000000</td>\n",
              "      <td>5.320000</td>\n",
              "      <td>3.000000</td>\n",
              "      <td>-1.000000</td>\n",
              "      <td>0.000000</td>\n",
              "      <td>0.000000</td>\n",
              "      <td>8.000000</td>\n",
              "    </tr>\n",
              "    <tr>\n",
              "      <th>max</th>\n",
              "      <td>95.000000</td>\n",
              "      <td>10443.000000</td>\n",
              "      <td>81.970000</td>\n",
              "      <td>58.000000</td>\n",
              "      <td>871.000000</td>\n",
              "      <td>55.000000</td>\n",
              "      <td>1.000000</td>\n",
              "      <td>12.000000</td>\n",
              "    </tr>\n",
              "  </tbody>\n",
              "</table>\n",
              "</div>\n",
              "      <button class=\"colab-df-convert\" onclick=\"convertToInteractive('df-64682587-8c0e-4ff6-a12e-6ce51444d585')\"\n",
              "              title=\"Convert this dataframe to an interactive table.\"\n",
              "              style=\"display:none;\">\n",
              "        \n",
              "  <svg xmlns=\"http://www.w3.org/2000/svg\" height=\"24px\"viewBox=\"0 0 24 24\"\n",
              "       width=\"24px\">\n",
              "    <path d=\"M0 0h24v24H0V0z\" fill=\"none\"/>\n",
              "    <path d=\"M18.56 5.44l.94 2.06.94-2.06 2.06-.94-2.06-.94-.94-2.06-.94 2.06-2.06.94zm-11 1L8.5 8.5l.94-2.06 2.06-.94-2.06-.94L8.5 2.5l-.94 2.06-2.06.94zm10 10l.94 2.06.94-2.06 2.06-.94-2.06-.94-.94-2.06-.94 2.06-2.06.94z\"/><path d=\"M17.41 7.96l-1.37-1.37c-.4-.4-.92-.59-1.43-.59-.52 0-1.04.2-1.43.59L10.3 9.45l-7.72 7.72c-.78.78-.78 2.05 0 2.83L4 21.41c.39.39.9.59 1.41.59.51 0 1.02-.2 1.41-.59l7.78-7.78 2.81-2.81c.8-.78.8-2.07 0-2.86zM5.41 20L4 18.59l7.72-7.72 1.47 1.35L5.41 20z\"/>\n",
              "  </svg>\n",
              "      </button>\n",
              "      \n",
              "  <style>\n",
              "    .colab-df-container {\n",
              "      display:flex;\n",
              "      flex-wrap:wrap;\n",
              "      gap: 12px;\n",
              "    }\n",
              "\n",
              "    .colab-df-convert {\n",
              "      background-color: #E8F0FE;\n",
              "      border: none;\n",
              "      border-radius: 50%;\n",
              "      cursor: pointer;\n",
              "      display: none;\n",
              "      fill: #1967D2;\n",
              "      height: 32px;\n",
              "      padding: 0 0 0 0;\n",
              "      width: 32px;\n",
              "    }\n",
              "\n",
              "    .colab-df-convert:hover {\n",
              "      background-color: #E2EBFA;\n",
              "      box-shadow: 0px 1px 2px rgba(60, 64, 67, 0.3), 0px 1px 3px 1px rgba(60, 64, 67, 0.15);\n",
              "      fill: #174EA6;\n",
              "    }\n",
              "\n",
              "    [theme=dark] .colab-df-convert {\n",
              "      background-color: #3B4455;\n",
              "      fill: #D2E3FC;\n",
              "    }\n",
              "\n",
              "    [theme=dark] .colab-df-convert:hover {\n",
              "      background-color: #434B5C;\n",
              "      box-shadow: 0px 1px 3px 1px rgba(0, 0, 0, 0.15);\n",
              "      filter: drop-shadow(0px 1px 2px rgba(0, 0, 0, 0.3));\n",
              "      fill: #FFFFFF;\n",
              "    }\n",
              "  </style>\n",
              "\n",
              "      <script>\n",
              "        const buttonEl =\n",
              "          document.querySelector('#df-64682587-8c0e-4ff6-a12e-6ce51444d585 button.colab-df-convert');\n",
              "        buttonEl.style.display =\n",
              "          google.colab.kernel.accessAllowed ? 'block' : 'none';\n",
              "\n",
              "        async function convertToInteractive(key) {\n",
              "          const element = document.querySelector('#df-64682587-8c0e-4ff6-a12e-6ce51444d585');\n",
              "          const dataTable =\n",
              "            await google.colab.kernel.invokeFunction('convertToInteractive',\n",
              "                                                     [key], {});\n",
              "          if (!dataTable) return;\n",
              "\n",
              "          const docLinkHtml = 'Like what you see? Visit the ' +\n",
              "            '<a target=\"_blank\" href=https://colab.research.google.com/notebooks/data_table.ipynb>data table notebook</a>'\n",
              "            + ' to learn more about interactive tables.';\n",
              "          element.innerHTML = '';\n",
              "          dataTable['output_type'] = 'display_data';\n",
              "          await google.colab.output.renderOutput(dataTable, element);\n",
              "          const docLink = document.createElement('div');\n",
              "          docLink.innerHTML = docLinkHtml;\n",
              "          element.appendChild(docLink);\n",
              "        }\n",
              "      </script>\n",
              "    </div>\n",
              "  </div>\n",
              "  "
            ]
          },
          "metadata": {},
          "execution_count": 30
        }
      ]
    },
    {
      "cell_type": "code",
      "source": [
        "corr_data = df_clean5[['age','balance','duration','campaign','month_int','previous','deposit_binary']]\n",
        "corr = corr_data.corr()\n",
        "\n",
        "cor_plot = sns.heatmap(corr,annot=True,cmap='RdBu',linewidths=0.2,annot_kws={'size':10})\n",
        "fig=plt.gcf()\n",
        "fig.set_size_inches(8,5)\n",
        "plt.xticks(fontsize=10,rotation=-90)\n",
        "plt.yticks(fontsize=10)\n",
        "plt.title('Correlation Matrix')\n",
        "plt.show()"
      ],
      "metadata": {
        "colab": {
          "base_uri": "https://localhost:8080/",
          "height": 399
        },
        "id": "hXnIMCBa8HAn",
        "outputId": "d8c0f98e-88bb-46bb-c7f5-e344cfdd5109"
      },
      "execution_count": 31,
      "outputs": [
        {
          "output_type": "display_data",
          "data": {
            "text/plain": [
              "<Figure size 576x360 with 2 Axes>"
            ],
            "image/png": "[encoded data removed]"
          },
          "metadata": {
            "needs_background": "light"
          }
        }
      ]
    },
    {
      "cell_type": "markdown",
      "source": [
        "The scatter matrix does not reveal any clear relationship among age, balance, duration and campaign.\n",
        "\n",
        "To investigate more about correlation, a correlation matrix was plotted with all qualitative variables. Clearly, “campaign outcome” has a strong correlation with “duration”, a moderate correlation with “previous contacts”, and mild correlations between “balance”, “month of contact” and “number of campaign”. Their influences on campaign outcome will be investigated further in the machine learning part."
      ],
      "metadata": {
        "id": "zSPto7mB8R1_"
      }
    },
    {
      "cell_type": "markdown",
      "metadata": {
        "id": "8vFTmyTUbqCi"
      },
      "source": [
        "#Exploration Data Analysis\n",
        "\n",
        "---\n",
        "\n"
      ]
    },
    {
      "cell_type": "markdown",
      "metadata": {
        "id": "bCDYBS3ppHdB"
      },
      "source": [
        "## Univariate Analysis"
      ]
    },
    {
      "cell_type": "code",
      "source": [
        "columns = ['age','balance','duration','campaign']\n",
        "\n",
        "fig, axes = plt.subplots(2,2, figsize=(18,12))\n",
        "axes = [ax for axes_row in axes for ax in axes_row]\n",
        "\n",
        "for i, col in enumerate(columns):\n",
        "  plot = sns.distplot(df_clean5[col], ax=axes[i])\n",
        "\n",
        "plt.tight_layout()"
      ],
      "metadata": {
        "colab": {
          "base_uri": "https://localhost:8080/",
          "height": 587
        },
        "id": "dL5iiUgR6xqw",
        "outputId": "4f8f4522-8f57-4462-8756-091042bd3ed3"
      },
      "execution_count": 32,
      "outputs": [
        {
          "output_type": "display_data",
          "data": {
            "text/plain": [
              "<Figure size 1296x864 with 4 Axes>"
            ],
            "image/png": "[encoded data removed]"
          },
          "metadata": {
            "needs_background": "light"
          }
        }
      ]
    },
    {
      "cell_type": "code",
      "source": [
        "columns = ['age','balance','duration','campaign']\n",
        "\n",
        "fig, axes = plt.subplots(2,2, figsize=(18,12))\n",
        "axes = [ax for axes_row in axes for ax in axes_row]\n",
        "\n",
        "for i, col in enumerate(columns):\n",
        "  plot = sns.boxplot(df_clean5[col], ax=axes[i])\n",
        "\n",
        "plt.tight_layout()"
      ],
      "metadata": {
        "colab": {
          "base_uri": "https://localhost:8080/",
          "height": 587
        },
        "id": "TEUMkelO9z5v",
        "outputId": "679ffe07-e362-4951-a40b-316a8e2c06c5"
      },
      "execution_count": 33,
      "outputs": [
        {
          "output_type": "display_data",
          "data": {
            "text/plain": [
              "<Figure size 1296x864 with 4 Axes>"
            ],
            "image/png": "[encoded data removed]"
          },
          "metadata": {
            "needs_background": "light"
          }
        }
      ]
    },
    {
      "cell_type": "markdown",
      "source": [
        "Insight Univariate analysis:\n",
        "\n",
        "1. The distribution of 'Age' is right skewed, In this campaigns, clients called by the bank have an extensive age range, from 18 to 95 years old. However, from box-plot shown that majority of customers called is in the age of 30s and 45s (33 to 48 years old fall within the 25th to 75th percentiles). The distribution of customer age is fairly normal with a small standard deviation.\n",
        "\n",
        "2. The distribution of balance: After dropping outliers in balance, the range of balance is still massive, from a minimum of -6847 to a maximum of 10443 euros, giving a range of 17290 euros. The distribution of balance has a huge standard deviation relative to the mean, suggesting large variabilities in customers' balance levels.\n",
        "\n",
        "3. The distribution of duration: As observed from the box plot, the duration of contact has a median of 3 minutes, with an interquartile range of 2,5 minutes to 8 minutes. The left-skewed boxplot indicates that most calls are relatively short. Also, there is a large number of outliers ranging from 10 minutes to 40 minutes, which are worth further study.\n",
        "\n",
        "4. The distribution of campaign: About half of the clients have been contacted by the bank for the second time, while 25% was first introduced to the term deposit. Most clients have been reached by the bank for one to three times, which is reasonable. However, some clients have been contacted by as high as 58 times, which is not normal. These clients may have some special needs that require frequent contact.\n"
      ],
      "metadata": {
        "id": "rUCHT39xavb1"
      }
    },
    {
      "cell_type": "markdown",
      "metadata": {
        "id": "mECYGBoWtFTq"
      },
      "source": [
        "## Bivariate Analysis"
      ]
    },
    {
      "cell_type": "markdown",
      "source": [
        "**Relationship between each Feature with Last Campaign Success**"
      ],
      "metadata": {
        "id": "V1iL_Lkd39O_"
      }
    },
    {
      "cell_type": "code",
      "source": [
        "class CountPlot:\n",
        "    def __init__(self, data, x, hue, title, figsize=(20, 10)):\n",
        "        self.data = data\n",
        "        self.x = x\n",
        "        self.hue = hue\n",
        "        self.title = title\n",
        "        self.figsize = figsize\n",
        "\n",
        "    def plot(self):\n",
        "        plt.figure(figsize=self.figsize)\n",
        "        ax = sns.countplot(x=self.x, hue=self.hue, data=self.data)\n",
        "\n",
        "        # Add labels to the bars\n",
        "        for p in ax.patches:\n",
        "            ax.annotate(f\"{p.get_height()}\", (p.get_x() + p.get_width() / 2., p.get_height()),\n",
        "                        ha='center', va='center', fontsize=11, color='black', xytext=(0, 15),\n",
        "                        textcoords='offset points')\n",
        " \n",
        "        \n",
        "\n",
        "        # Add a title to the plot\n",
        "        plt.title(self.title)"
      ],
      "metadata": {
        "id": "xKwuftEBGnpc"
      },
      "execution_count": 34,
      "outputs": []
    },
    {
      "cell_type": "code",
      "source": [
        "# Show 'Job vs campaign success'\n",
        "plot = CountPlot(df_clean5, 'job', 'deposit','Job vs Campaign success')\n",
        "# Call the plot method to show the countplot\n",
        "plot.plot()"
      ],
      "metadata": {
        "colab": {
          "base_uri": "https://localhost:8080/",
          "height": 457
        },
        "id": "17Y-SpUTKEWW",
        "outputId": "9ab035c9-9bf0-4bfd-a487-0b3b119426ff"
      },
      "execution_count": 35,
      "outputs": [
        {
          "output_type": "display_data",
          "data": {
            "text/plain": [
              "<Figure size 1440x720 with 1 Axes>"
            ],
            "image/png": "[encoded data removed]"
          },
          "metadata": {
            "needs_background": "light"
          }
        }
      ]
    },
    {
      "cell_type": "code",
      "source": [
        "# Show 'Education vs campaign success'\n",
        "plot = CountPlot(df_clean5, 'education', 'deposit','Education Level vs Campaign Success')\n",
        "# Call the plot method to show the countplot\n",
        "plot.plot()\n"
      ],
      "metadata": {
        "colab": {
          "base_uri": "https://localhost:8080/",
          "height": 455
        },
        "id": "lA5X0ClKGqMw",
        "outputId": "56717e4e-a010-4816-f55f-3c0aabf8f085"
      },
      "execution_count": 36,
      "outputs": [
        {
          "output_type": "display_data",
          "data": {
            "text/plain": [
              "<Figure size 1440x720 with 1 Axes>"
            ],
            "image/png": "[encoded data removed]"
          },
          "metadata": {
            "needs_background": "light"
          }
        }
      ]
    },
    {
      "cell_type": "code",
      "source": [
        "# Show 'Marital Status vs campaign success'\n",
        "plot = CountPlot(df_clean5, 'marital', 'deposit','Marital Status vs Campaign success')\n",
        "# Call the plot method to show the countplot\n",
        "plot.plot()\n"
      ],
      "metadata": {
        "colab": {
          "base_uri": "https://localhost:8080/",
          "height": 455
        },
        "id": "xZOh2KblKYFG",
        "outputId": "1a72c106-9194-47d3-9124-dbe69c77a569"
      },
      "execution_count": 37,
      "outputs": [
        {
          "output_type": "display_data",
          "data": {
            "text/plain": [
              "<Figure size 1440x720 with 1 Axes>"
            ],
            "image/png": "[encoded data removed]"
          },
          "metadata": {
            "needs_background": "light"
          }
        }
      ]
    },
    {
      "cell_type": "code",
      "source": [
        "# Show 'Loan Status vs campaign success'\n",
        "plot = CountPlot(df_clean5, 'loan', 'deposit','Loan Status vs Campaign success')\n",
        "# Call the plot method to show the countplot\n",
        "plot.plot()"
      ],
      "metadata": {
        "colab": {
          "base_uri": "https://localhost:8080/",
          "height": 455
        },
        "id": "hCfQ_FibKiEM",
        "outputId": "f359e5c7-db0b-42a3-d6fe-37c3519ca779"
      },
      "execution_count": 38,
      "outputs": [
        {
          "output_type": "display_data",
          "data": {
            "text/plain": [
              "<Figure size 1440x720 with 1 Axes>"
            ],
            "image/png": "[encoded data removed]"
          },
          "metadata": {
            "needs_background": "light"
          }
        }
      ]
    },
    {
      "cell_type": "code",
      "source": [
        "# Show 'Contact type vs campaign success'\n",
        "plot = CountPlot(df_clean5, 'contact', 'deposit','Contact type vs Campaign success')\n",
        "# Call the plot method to show the countplot\n",
        "plot.plot()"
      ],
      "metadata": {
        "colab": {
          "base_uri": "https://localhost:8080/",
          "height": 455
        },
        "id": "XH8azbGQK1sm",
        "outputId": "5a9bf078-2bb3-45c2-8bae-c67c24a8cf9b"
      },
      "execution_count": 39,
      "outputs": [
        {
          "output_type": "display_data",
          "data": {
            "text/plain": [
              "<Figure size 1440x720 with 1 Axes>"
            ],
            "image/png": "[encoded data removed]"
          },
          "metadata": {
            "needs_background": "light"
          }
        }
      ]
    },
    {
      "cell_type": "code",
      "source": [
        "# Show 'Housing Status vs campaign success'\n",
        "plot = CountPlot(df_clean5, 'housing', 'deposit','Housing vs Campaign success')\n",
        "# Call the plot method to show the countplot\n",
        "plot.plot()"
      ],
      "metadata": {
        "colab": {
          "base_uri": "https://localhost:8080/",
          "height": 455
        },
        "id": "U8GtrXlxLLfG",
        "outputId": "5fbf5714-1fa5-453d-b02a-5373157351c1"
      },
      "execution_count": 40,
      "outputs": [
        {
          "output_type": "display_data",
          "data": {
            "text/plain": [
              "<Figure size 1440x720 with 1 Axes>"
            ],
            "image/png": "[encoded data removed]"
          },
          "metadata": {
            "needs_background": "light"
          }
        }
      ]
    },
    {
      "cell_type": "code",
      "source": [
        "# Show 'Month vs campaign success'\n",
        "plot = CountPlot(df_clean5, 'month', 'deposit','Month vs Campaign success')\n",
        "# Call the plot method to show the countplot\n",
        "plot.plot()"
      ],
      "metadata": {
        "colab": {
          "base_uri": "https://localhost:8080/",
          "height": 455
        },
        "id": "B7R7ZpMfLqwq",
        "outputId": "c9252a88-40b4-4cc4-f3d9-05196b94e95f"
      },
      "execution_count": 41,
      "outputs": [
        {
          "output_type": "display_data",
          "data": {
            "text/plain": [
              "<Figure size 1440x720 with 1 Axes>"
            ],
            "image/png": "[encoded data removed]"
          },
          "metadata": {
            "needs_background": "light"
          }
        }
      ]
    },
    {
      "cell_type": "code",
      "source": [
        "# Show 'Personal Loan vs campaign success'\n",
        "plot = CountPlot(df_clean5, 'default', 'deposit','Personal Loan vs Campaign success')\n",
        "# Call the plot method to show the countplot\n",
        "plot.plot()"
      ],
      "metadata": {
        "colab": {
          "base_uri": "https://localhost:8080/",
          "height": 455
        },
        "id": "zoV67_QUSD1V",
        "outputId": "fd40e88b-6f5e-4187-eb20-022f849710ee"
      },
      "execution_count": 42,
      "outputs": [
        {
          "output_type": "display_data",
          "data": {
            "text/plain": [
              "<Figure size 1440x720 with 1 Axes>"
            ],
            "image/png": "[encoded data removed]"
          },
          "metadata": {
            "needs_background": "light"
          }
        }
      ]
    },
    {
      "cell_type": "markdown",
      "source": [
        "Insight:\n",
        "\n",
        "1. Customers who previously accepted the deposit tends to accept the deposit.\n",
        "2. Customers with job type as 'student' or 'retired' tends to accept the deposit, while blue collars tends to refuse the deposit.\n",
        "3. Customer with married status tends to accept the deposit more than other\n",
        "4. Customers without a personal loan tends to accept the deposit.\n",
        "5. Customers without a Housing Loan tends to accept the deposit.\n",
        "6. Customers tends to accept more the deposit on May and August\n",
        "7. Customers tends to accept more when marketing contacted to their celular\n",
        "\n",
        "This line chart displays the bank’s contact rate in each month as well as clients’ response rate in each month. One way to evaluate the effectiveness of the bank's marketing plan is to see whether these two lines have a similar trend over the same time horizon."
      ],
      "metadata": {
        "id": "r1nZBR5CtYxg"
      }
    },
    {
      "cell_type": "markdown",
      "metadata": {
        "id": "YbREvwIR4fkq"
      },
      "source": [
        "## **Multivariate Analysis**"
      ]
    },
    {
      "cell_type": "markdown",
      "source": [
        "relationship between 'duration' & 'campaign': with response result"
      ],
      "metadata": {
        "id": "YDomwKTJ7jFD"
      }
    },
    {
      "cell_type": "code",
      "source": [
        "import seaborn as sns\n",
        "dur_cam = sns.lmplot(x='duration', y='campaign',data = df_clean5,\n",
        "                     hue = 'deposit',\n",
        "                     fit_reg = False,\n",
        "                     scatter_kws={'alpha':0.6}, height =7)\n",
        "\n",
        "plt.axis([0,65,0,65])\n",
        "plt.ylabel('Number of Calls')\n",
        "plt.xlabel('Duration of Calls (Minutes)')\n",
        "plt.title('The Relationship between the Number and Duration of Calls (with Response Result)')\n",
        "\n",
        "# Annotation\n",
        "plt.axhline(y=5, linewidth=2, color=\"k\", linestyle='--')\n",
        "plt.annotate('Higher subscription rate when calls <5',xytext = (35,13),\n",
        "             arrowprops=dict(color = 'k', width=1),xy=(30,6))\n",
        "plt.show()"
      ],
      "metadata": {
        "id": "_oxMi7zb7duK",
        "colab": {
          "base_uri": "https://localhost:8080/",
          "height": 529
        },
        "outputId": "8bbbb85b-f411-468f-a6e9-e2c6fc52e5d0"
      },
      "execution_count": 43,
      "outputs": [
        {
          "output_type": "display_data",
          "data": {
            "text/plain": [
              "<Figure size 557.25x504 with 1 Axes>"
            ],
            "image/png": "[encoded data removed]"
          },
          "metadata": {
            "needs_background": "light"
          }
        }
      ]
    },
    {
      "cell_type": "markdown",
      "source": [
        "In this scatter plot, clients subscribed to term deposits are denoted as \"yes\" while those did not are denoted as \"no\".\n",
        "\n",
        "As we can see from the plot, “yes” clients and “no” clients are forming two relatively separate clusters. Compared to “no” clients”, “yes” clients were contacted by fewer times and had longer call duration. More importantly, after five campaign calls, clients are more likely to reject the term deposit unless the duration is high. Most “yes” clients were approached by less than 10 times.\n",
        "\n",
        "This suggests that the bank should resist calling a client for more than five times, which can be disturbing and increase dissatisfaction."
      ],
      "metadata": {
        "id": "w6xVMMxR7z1T"
      }
    },
    {
      "cell_type": "markdown",
      "metadata": {
        "id": "9RP1nXjFkuS5"
      },
      "source": [
        "# **Data Visualization**\n",
        "\n",
        "\n",
        "\n",
        "---\n",
        "\n"
      ]
    },
    {
      "cell_type": "markdown",
      "source": [
        "**Visualize the subscription and contact rate by age**"
      ],
      "metadata": {
        "id": "CLZKE_upJqm-"
      }
    },
    {
      "cell_type": "code",
      "source": [
        "lst = [df_clean5]\n",
        "for column in lst:\n",
        "    column.loc[column[\"age\"] < 30,  'age_group'] = 20\n",
        "    column.loc[(column[\"age\"] >= 30) & (column[\"age\"] <= 39), 'age_group'] = 30\n",
        "    column.loc[(column[\"age\"] >= 40) & (column[\"age\"] <= 49), 'age_group'] = 40\n",
        "    column.loc[(column[\"age\"] >= 50) & (column[\"age\"] <= 59), 'age_group'] = 50\n",
        "    column.loc[column[\"age\"] >= 60, 'age_group'] = 60"
      ],
      "metadata": {
        "id": "rDRAs4KAsJLA"
      },
      "execution_count": 44,
      "outputs": []
    },
    {
      "cell_type": "code",
      "source": [
        "count_age_deposit_pct = pd.crosstab(df_clean5['deposit'],df_clean5['age_group']).apply(lambda x: x/x.sum() * 100)\n",
        "count_age_deposit_pct = count_age_deposit_pct.transpose() "
      ],
      "metadata": {
        "id": "S9RclwCAsREr"
      },
      "execution_count": 45,
      "outputs": []
    },
    {
      "cell_type": "code",
      "source": [
        "age = pd.DataFrame(df_clean5['age_group'].value_counts())\n",
        "age['% Contacted'] = age['age_group']*100/age['age_group'].sum()\n",
        "age['% Subscription'] = count_age_deposit_pct['yes']\n",
        "age.drop('age_group',axis = 1,inplace = True)\n",
        "\n",
        "age['age'] = [30,40,50,20,60]\n",
        "age = age.sort_values('age',ascending = True)"
      ],
      "metadata": {
        "id": "iUSiFJTHsUMA"
      },
      "execution_count": 46,
      "outputs": []
    },
    {
      "cell_type": "code",
      "source": [
        "plot_age = age[['% Subscription','% Contacted']].plot(kind = 'bar',\n",
        "                                              figsize=(15,8),)\n",
        "plt.xlabel('Age Group')\n",
        "plt.ylabel('Subscription Rate')\n",
        "plt.xticks(np.arange(5), ('<30', '30-39', '40-49', '50-59', '60+'),rotation = 'horizontal')\n",
        "plt.title('Subscription vs. Contact Rate by Age')\n",
        "plt.show()"
      ],
      "metadata": {
        "colab": {
          "base_uri": "https://localhost:8080/",
          "height": 497
        },
        "id": "cHfqQmrcsg49",
        "outputId": "4f36304d-80ef-41af-ecd0-a9bfe40150b7"
      },
      "execution_count": 47,
      "outputs": [
        {
          "output_type": "display_data",
          "data": {
            "text/plain": [
              "<Figure size 1080x576 with 1 Axes>"
            ],
            "image/png": "[encoded data removed]"
          },
          "metadata": {
            "needs_background": "light"
          }
        }
      ]
    },
    {
      "cell_type": "markdown",
      "source": [
        "Insights: \n",
        "\n",
        "target the youngest and the oldest instead of the middle-aged\n",
        "\n",
        "Blue bars indicate that clients with a age of 60+ have the highest subscription rate. About 17% of the subscriptions came from the clients aged between 18 to 29. More than 50% of the subscriptions are contributed by the youngest and the eldest clients.\n",
        "\n",
        "It is not surprising to see such a pattern because the main investment objective of older people is saving for retirement while the middle-aged group tend to be more aggressive with a main objective of generating high investment income. Term deposits, as the least risky investment tool, are more preferable to the eldest.\n",
        "\n",
        "The youngest may not have enough money or professional knowledge to engage in sophisticated investments, such as stocks and mutual funds. Term deposits provide liquidity and generate interest incomes that are higher than the regular saving account, so term deposits are ideal investments for students.\n",
        "\n"
      ],
      "metadata": {
        "id": "jP5BLl9HtSuo"
      }
    },
    {
      "cell_type": "markdown",
      "source": [
        "**Visualize the subscription rate by balance level**"
      ],
      "metadata": {
        "id": "pkXupaYN9WB7"
      }
    },
    {
      "cell_type": "code",
      "source": [
        "lst = [df_clean5]\n",
        "for column in lst:\n",
        "    column.loc[column[\"balance\"] <= 0,  'balance_group'] = 'no balance'\n",
        "    column.loc[(column[\"balance\"] > 0) & (column[\"balance\"] <= 1000), 'balance_group'] = 'low balance'\n",
        "    column.loc[(column[\"balance\"] > 1000) & (column[\"balance\"] <= 5000), 'balance_group'] = 'average balance'\n",
        "    column.loc[(column[\"balance\"] > 5000), 'balance_group'] = 'high balance'"
      ],
      "metadata": {
        "id": "6fTohypevJbv"
      },
      "execution_count": 48,
      "outputs": []
    },
    {
      "cell_type": "code",
      "source": [
        "count_balance_deposit_pct = pd.crosstab(df_clean5['deposit'],df_clean5['balance_group']).apply(lambda x: x/x.sum() * 100)\n",
        "count_balance_deposit_pct = count_balance_deposit_pct.transpose()"
      ],
      "metadata": {
        "id": "yqjxMhamvNgN"
      },
      "execution_count": 49,
      "outputs": []
    },
    {
      "cell_type": "code",
      "source": [
        "bal = pd.DataFrame(df_clean5['balance_group'].value_counts())\n",
        "bal['% Contacted'] = bal['balance_group']*100/bal['balance_group'].sum()\n",
        "bal['% Subscription'] = count_balance_deposit_pct['yes']\n",
        "bal.drop('balance_group',axis = 1,inplace = True)\n",
        "\n",
        "bal['bal'] = [1,2,0,3]\n",
        "bal = bal.sort_values('bal',ascending = True)"
      ],
      "metadata": {
        "id": "l2ToieS8vhtd"
      },
      "execution_count": 50,
      "outputs": []
    },
    {
      "cell_type": "code",
      "source": [
        "plot_balance = bal[['% Subscription','% Contacted']].plot(kind = 'bar',\n",
        "                                                       figsize = (15,8))\n",
        "\n",
        "plt.title('Subscription vs Contact Rate by Balance Level')\n",
        "plt.ylabel('Subscription Rate')\n",
        "plt.xlabel('Balance Category')\n",
        "plt.xticks(rotation = 'horizontal')\n",
        "\n",
        "# label the bar\n",
        "for rec, label in zip(plot_balance.patches,\n",
        "                      bal['% Subscription'].round(1).astype(str)):\n",
        "    plot_balance.text(rec.get_x() + rec.get_width()/2, \n",
        "                      rec.get_height() + 1, \n",
        "                      label+'%',  \n",
        "                      ha = 'center', \n",
        "                      color = 'black')"
      ],
      "metadata": {
        "colab": {
          "base_uri": "https://localhost:8080/",
          "height": 497
        },
        "id": "_GbqeDMdvusq",
        "outputId": "2ba3b530-1a84-4c33-d2fc-3a35f0b43f66"
      },
      "execution_count": 51,
      "outputs": [
        {
          "output_type": "display_data",
          "data": {
            "text/plain": [
              "<Figure size 1080x576 with 1 Axes>"
            ],
            "image/png": "[encoded data removed]"
          },
          "metadata": {
            "needs_background": "light"
          }
        }
      ]
    },
    {
      "cell_type": "markdown",
      "source": [
        "Insights: \n",
        "\n",
        "To identify the trend more easily, clients are categorized into four groups based on their levels of balance:\n",
        "\n",
        "No Balance: clients with a negative balance.\n",
        "Low Balance: clients with a balance between 0 and 1000 euros\n",
        "Average Balance: clients with a balance between 1000 and 5000 euros.\n",
        "High Balance: clients with a balance greater than 5000 euros.\n",
        "Unsurprisingly, this bar chart indicates a positive correlation between clients’ balance levels and subscription rate. Clients with negative balances only returned a subscription rate of 6.9% while clients with average or high balances had significantly higher subscription rates, nearly 15%."
      ],
      "metadata": {
        "id": "-o6mx2ZlwEeK"
      }
    },
    {
      "cell_type": "markdown",
      "source": [
        "**Visualize the subscription rate by age and balance**"
      ],
      "metadata": {
        "id": "IniBZL7y9Ybs"
      }
    },
    {
      "cell_type": "code",
      "source": [
        "age_balance1 = pd.DataFrame(df_clean5.groupby(['age_group','balance_group'])['deposit_binary'].sum())\n",
        "age_balance2 = pd.DataFrame(df_clean5.groupby(['age_group','balance_group'])['deposit'].count())\n",
        "\n",
        "age_balance1['deposit'] = age_balance2['deposit']\n",
        "age_balance1['deposit_rate'] = age_balance1['deposit_binary']/ (age_balance1['deposit'])\n",
        "age_balance1 = age_balance1.drop(['deposit_binary','deposit'],axis =1)\n",
        "\n",
        "age_balance1 = age_balance1.unstack()"
      ],
      "metadata": {
        "id": "nQFqediLwfbO"
      },
      "execution_count": 52,
      "outputs": []
    },
    {
      "cell_type": "code",
      "source": [
        "age_bal = age_balance1.plot(kind='bar',figsize = (15,8))\n",
        "\n",
        "# Set x ticks\n",
        "plt.xticks(np.arange(5),('<30', '30-39', '40-49', '50-59', '60+'),rotation = 'horizontal')\n",
        "\n",
        "# Set legend\n",
        "plt.legend(['Average Balance','High Balance','Low Balance','No Balance'],loc = 'best',ncol = 1)\n",
        "\n",
        "plt.ylabel('Subscription Rate')\n",
        "plt.xlabel('Age Group')\n",
        "plt.title('The Subscription Rate of Different Balance Levels in Each Age Group')\n",
        "plt.show()"
      ],
      "metadata": {
        "colab": {
          "base_uri": "https://localhost:8080/",
          "height": 492
        },
        "id": "BhBk22GuKAvc",
        "outputId": "55a0c5ac-bd99-4d45-8233-a0d5fe65fd49"
      },
      "execution_count": 53,
      "outputs": [
        {
          "output_type": "display_data",
          "data": {
            "text/plain": [
              "<Figure size 1080x576 with 1 Axes>"
            ],
            "image/png": "[encoded data removed]"
          },
          "metadata": {
            "needs_background": "light"
          }
        }
      ]
    },
    {
      "cell_type": "markdown",
      "source": [
        "Insights: \n",
        "\n",
        "While age represents a person’s life stage and balance represents a person’s financial condition, jointly evaluating the impact of these two factors enables us to investigate if there is a common trend across all ages, and to identify which combination of client features indicates the highest likelihood of subscription.\n",
        "\n",
        "In order to investigate the combined effect of age and balance on a client’s decision, we performed a two-layer grouping, segmenting customers according to their balance levels within each age group.\n",
        "\n",
        "The graph tells the same story regarding the subscription rate for different age groups: the willingness to subscribe is exceptionally high for people aged above 60 and younger people aged below 30 also have a distinguishable higher subscription rate than those of other age groups.\n",
        "Furthermore, the effect of balance levels on subscription decision is applicable to each individual age group: every age group shares a common trend that the percentage of subscription increases with balance."
      ],
      "metadata": {
        "id": "7cWpq-VyKOJv"
      }
    },
    {
      "cell_type": "markdown",
      "source": [
        "**Visualize the subscription rate by job**"
      ],
      "metadata": {
        "id": "XQKGo-zmKWlf"
      }
    },
    {
      "cell_type": "code",
      "source": [
        "count_job_deposit_pct = pd.crosstab(df_clean5['deposit'],df_clean5['job']).apply(lambda x: x/x.sum() * 100)\n",
        "count_job_deposit_pct = count_job_deposit_pct.transpose()"
      ],
      "metadata": {
        "id": "x05HfofpKYhp"
      },
      "execution_count": 54,
      "outputs": []
    },
    {
      "cell_type": "code",
      "source": [
        "plot_job = count_job_deposit_pct['yes'].sort_values(ascending = True).plot(kind ='barh',\n",
        "                                                                           figsize = (12,6))\n",
        "                                                                               \n",
        "plt.title('Subscription Rate by Job')\n",
        "plt.xlabel('Subscription Rate')\n",
        "plt.ylabel('Job Category')\n",
        "\n",
        "# Label each bar\n",
        "for rec, label in zip(plot_job.patches,\n",
        "                      count_job_deposit_pct['yes'].sort_values(ascending = True).round(1).astype(str)):\n",
        "    plot_job.text(rec.get_width()+0.8, \n",
        "                  rec.get_y()+ rec.get_height()-0.5, \n",
        "                  label+'%', \n",
        "                  ha = 'center', \n",
        "                  va='bottom')"
      ],
      "metadata": {
        "colab": {
          "base_uri": "https://localhost:8080/",
          "height": 404
        },
        "id": "0hj4IfiOKo-j",
        "outputId": "6786a440-b6d3-4617-cc5c-56dd8401047a"
      },
      "execution_count": 55,
      "outputs": [
        {
          "output_type": "display_data",
          "data": {
            "text/plain": [
              "<Figure size 864x432 with 1 Axes>"
            ],
            "image/png": "[encoded data removed]"
          },
          "metadata": {
            "needs_background": "light"
          }
        }
      ]
    },
    {
      "cell_type": "markdown",
      "source": [
        "As noted from the horizontal bar chart, students and retired clients account for more than 50% of subscription, which is consistent with the previous finding of higher subscription rates among the younger and older."
      ],
      "metadata": {
        "id": "trWR7A2LK0QO"
      }
    },
    {
      "cell_type": "markdown",
      "metadata": {
        "id": "jQOx97An8z3V"
      },
      "source": [
        "# **Data Pre-Modeling**\n",
        "\n",
        "\n",
        "\n",
        "---\n",
        "\n"
      ]
    },
    {
      "cell_type": "markdown",
      "source": [
        "## **Feature Selection**"
      ],
      "metadata": {
        "id": "8vF_dPYYVYBx"
      }
    },
    {
      "cell_type": "markdown",
      "source": [
        "Only the most relevant customer information is considered, which includes job title, education, marital status, age, balance, default record, housing record and loan record. Other information, such as ‘the number of contacts performed before this campaign’, is omitted because it is not directly related to customers themselves."
      ],
      "metadata": {
        "id": "3Qcyk_yoVXEI"
      }
    },
    {
      "cell_type": "code",
      "source": [
        "from google.colab import drive\n",
        "drive.mount('/content/drive')\n",
        "data_model = pd.read_csv('drive/My Drive/bank_cleaned.csv', delimiter=\",\")\n",
        "data_model = data_model.drop(['Unnamed: 0'], axis=1)"
      ],
      "metadata": {
        "colab": {
          "base_uri": "https://localhost:8080/"
        },
        "id": "fF2rnm8XqTRB",
        "outputId": "18f059a2-9e5c-4c8f-e9c5-fc785cf947d1"
      },
      "execution_count": 58,
      "outputs": [
        {
          "output_type": "stream",
          "name": "stdout",
          "text": [
            "Drive already mounted at /content/drive; to attempt to forcibly remount, call drive.mount(\"/content/drive\", force_remount=True).\n"
          ]
        }
      ]
    },
    {
      "cell_type": "code",
      "source": [
        "data_model.head()\n"
      ],
      "metadata": {
        "id": "x0uToIve0R6n",
        "colab": {
          "base_uri": "https://localhost:8080/",
          "height": 270
        },
        "outputId": "e4e13416-b395-48a4-9c26-cc0e6ac45194"
      },
      "execution_count": 59,
      "outputs": [
        {
          "output_type": "execute_result",
          "data": {
            "text/plain": [
              "   age           job  marital  education default  balance housing loan  day  \\\n",
              "0   58    management  married   tertiary      no     2143     yes   no    5   \n",
              "1   44    technician   single  secondary      no       29     yes   no    5   \n",
              "2   33  entrepreneur  married  secondary      no        2     yes  yes    5   \n",
              "3   35    management  married   tertiary      no      231     yes   no    5   \n",
              "4   28    management   single   tertiary      no      447     yes  yes    5   \n",
              "\n",
              "  month  duration  campaign  pdays  previous poutcome response  \\\n",
              "0   may      4.35         1     -1         0  unknown       no   \n",
              "1   may      2.52         1     -1         0  unknown       no   \n",
              "2   may      1.27         1     -1         0  unknown       no   \n",
              "3   may      2.32         1     -1         0  unknown       no   \n",
              "4   may      3.62         1     -1         0  unknown       no   \n",
              "\n",
              "   response_binary  \n",
              "0                0  \n",
              "1                0  \n",
              "2                0  \n",
              "3                0  \n",
              "4                0  "
            ],
            "text/html": [
              "\n",
              "  <div id=\"df-6447f64e-2c23-4237-a1d6-3965d79c10d8\">\n",
              "    <div class=\"colab-df-container\">\n",
              "      <div>\n",
              "<style scoped>\n",
              "    .dataframe tbody tr th:only-of-type {\n",
              "        vertical-align: middle;\n",
              "    }\n",
              "\n",
              "    .dataframe tbody tr th {\n",
              "        vertical-align: top;\n",
              "    }\n",
              "\n",
              "    .dataframe thead th {\n",
              "        text-align: right;\n",
              "    }\n",
              "</style>\n",
              "<table border=\"1\" class=\"dataframe\">\n",
              "  <thead>\n",
              "    <tr style=\"text-align: right;\">\n",
              "      <th></th>\n",
              "      <th>age</th>\n",
              "      <th>job</th>\n",
              "      <th>marital</th>\n",
              "      <th>education</th>\n",
              "      <th>default</th>\n",
              "      <th>balance</th>\n",
              "      <th>housing</th>\n",
              "      <th>loan</th>\n",
              "      <th>day</th>\n",
              "      <th>month</th>\n",
              "      <th>duration</th>\n",
              "      <th>campaign</th>\n",
              "      <th>pdays</th>\n",
              "      <th>previous</th>\n",
              "      <th>poutcome</th>\n",
              "      <th>response</th>\n",
              "      <th>response_binary</th>\n",
              "    </tr>\n",
              "  </thead>\n",
              "  <tbody>\n",
              "    <tr>\n",
              "      <th>0</th>\n",
              "      <td>58</td>\n",
              "      <td>management</td>\n",
              "      <td>married</td>\n",
              "      <td>tertiary</td>\n",
              "      <td>no</td>\n",
              "      <td>2143</td>\n",
              "      <td>yes</td>\n",
              "      <td>no</td>\n",
              "      <td>5</td>\n",
              "      <td>may</td>\n",
              "      <td>4.35</td>\n",
              "      <td>1</td>\n",
              "      <td>-1</td>\n",
              "      <td>0</td>\n",
              "      <td>unknown</td>\n",
              "      <td>no</td>\n",
              "      <td>0</td>\n",
              "    </tr>\n",
              "    <tr>\n",
              "      <th>1</th>\n",
              "      <td>44</td>\n",
              "      <td>technician</td>\n",
              "      <td>single</td>\n",
              "      <td>secondary</td>\n",
              "      <td>no</td>\n",
              "      <td>29</td>\n",
              "      <td>yes</td>\n",
              "      <td>no</td>\n",
              "      <td>5</td>\n",
              "      <td>may</td>\n",
              "      <td>2.52</td>\n",
              "      <td>1</td>\n",
              "      <td>-1</td>\n",
              "      <td>0</td>\n",
              "      <td>unknown</td>\n",
              "      <td>no</td>\n",
              "      <td>0</td>\n",
              "    </tr>\n",
              "    <tr>\n",
              "      <th>2</th>\n",
              "      <td>33</td>\n",
              "      <td>entrepreneur</td>\n",
              "      <td>married</td>\n",
              "      <td>secondary</td>\n",
              "      <td>no</td>\n",
              "      <td>2</td>\n",
              "      <td>yes</td>\n",
              "      <td>yes</td>\n",
              "      <td>5</td>\n",
              "      <td>may</td>\n",
              "      <td>1.27</td>\n",
              "      <td>1</td>\n",
              "      <td>-1</td>\n",
              "      <td>0</td>\n",
              "      <td>unknown</td>\n",
              "      <td>no</td>\n",
              "      <td>0</td>\n",
              "    </tr>\n",
              "    <tr>\n",
              "      <th>3</th>\n",
              "      <td>35</td>\n",
              "      <td>management</td>\n",
              "      <td>married</td>\n",
              "      <td>tertiary</td>\n",
              "      <td>no</td>\n",
              "      <td>231</td>\n",
              "      <td>yes</td>\n",
              "      <td>no</td>\n",
              "      <td>5</td>\n",
              "      <td>may</td>\n",
              "      <td>2.32</td>\n",
              "      <td>1</td>\n",
              "      <td>-1</td>\n",
              "      <td>0</td>\n",
              "      <td>unknown</td>\n",
              "      <td>no</td>\n",
              "      <td>0</td>\n",
              "    </tr>\n",
              "    <tr>\n",
              "      <th>4</th>\n",
              "      <td>28</td>\n",
              "      <td>management</td>\n",
              "      <td>single</td>\n",
              "      <td>tertiary</td>\n",
              "      <td>no</td>\n",
              "      <td>447</td>\n",
              "      <td>yes</td>\n",
              "      <td>yes</td>\n",
              "      <td>5</td>\n",
              "      <td>may</td>\n",
              "      <td>3.62</td>\n",
              "      <td>1</td>\n",
              "      <td>-1</td>\n",
              "      <td>0</td>\n",
              "      <td>unknown</td>\n",
              "      <td>no</td>\n",
              "      <td>0</td>\n",
              "    </tr>\n",
              "  </tbody>\n",
              "</table>\n",
              "</div>\n",
              "      <button class=\"colab-df-convert\" onclick=\"convertToInteractive('df-6447f64e-2c23-4237-a1d6-3965d79c10d8')\"\n",
              "              title=\"Convert this dataframe to an interactive table.\"\n",
              "              style=\"display:none;\">\n",
              "        \n",
              "  <svg xmlns=\"http://www.w3.org/2000/svg\" height=\"24px\"viewBox=\"0 0 24 24\"\n",
              "       width=\"24px\">\n",
              "    <path d=\"M0 0h24v24H0V0z\" fill=\"none\"/>\n",
              "    <path d=\"M18.56 5.44l.94 2.06.94-2.06 2.06-.94-2.06-.94-.94-2.06-.94 2.06-2.06.94zm-11 1L8.5 8.5l.94-2.06 2.06-.94-2.06-.94L8.5 2.5l-.94 2.06-2.06.94zm10 10l.94 2.06.94-2.06 2.06-.94-2.06-.94-.94-2.06-.94 2.06-2.06.94z\"/><path d=\"M17.41 7.96l-1.37-1.37c-.4-.4-.92-.59-1.43-.59-.52 0-1.04.2-1.43.59L10.3 9.45l-7.72 7.72c-.78.78-.78 2.05 0 2.83L4 21.41c.39.39.9.59 1.41.59.51 0 1.02-.2 1.41-.59l7.78-7.78 2.81-2.81c.8-.78.8-2.07 0-2.86zM5.41 20L4 18.59l7.72-7.72 1.47 1.35L5.41 20z\"/>\n",
              "  </svg>\n",
              "      </button>\n",
              "      \n",
              "  <style>\n",
              "    .colab-df-container {\n",
              "      display:flex;\n",
              "      flex-wrap:wrap;\n",
              "      gap: 12px;\n",
              "    }\n",
              "\n",
              "    .colab-df-convert {\n",
              "      background-color: #E8F0FE;\n",
              "      border: none;\n",
              "      border-radius: 50%;\n",
              "      cursor: pointer;\n",
              "      display: none;\n",
              "      fill: #1967D2;\n",
              "      height: 32px;\n",
              "      padding: 0 0 0 0;\n",
              "      width: 32px;\n",
              "    }\n",
              "\n",
              "    .colab-df-convert:hover {\n",
              "      background-color: #E2EBFA;\n",
              "      box-shadow: 0px 1px 2px rgba(60, 64, 67, 0.3), 0px 1px 3px 1px rgba(60, 64, 67, 0.15);\n",
              "      fill: #174EA6;\n",
              "    }\n",
              "\n",
              "    [theme=dark] .colab-df-convert {\n",
              "      background-color: #3B4455;\n",
              "      fill: #D2E3FC;\n",
              "    }\n",
              "\n",
              "    [theme=dark] .colab-df-convert:hover {\n",
              "      background-color: #434B5C;\n",
              "      box-shadow: 0px 1px 3px 1px rgba(0, 0, 0, 0.15);\n",
              "      filter: drop-shadow(0px 1px 2px rgba(0, 0, 0, 0.3));\n",
              "      fill: #FFFFFF;\n",
              "    }\n",
              "  </style>\n",
              "\n",
              "      <script>\n",
              "        const buttonEl =\n",
              "          document.querySelector('#df-6447f64e-2c23-4237-a1d6-3965d79c10d8 button.colab-df-convert');\n",
              "        buttonEl.style.display =\n",
              "          google.colab.kernel.accessAllowed ? 'block' : 'none';\n",
              "\n",
              "        async function convertToInteractive(key) {\n",
              "          const element = document.querySelector('#df-6447f64e-2c23-4237-a1d6-3965d79c10d8');\n",
              "          const dataTable =\n",
              "            await google.colab.kernel.invokeFunction('convertToInteractive',\n",
              "                                                     [key], {});\n",
              "          if (!dataTable) return;\n",
              "\n",
              "          const docLinkHtml = 'Like what you see? Visit the ' +\n",
              "            '<a target=\"_blank\" href=https://colab.research.google.com/notebooks/data_table.ipynb>data table notebook</a>'\n",
              "            + ' to learn more about interactive tables.';\n",
              "          element.innerHTML = '';\n",
              "          dataTable['output_type'] = 'display_data';\n",
              "          await google.colab.output.renderOutput(dataTable, element);\n",
              "          const docLink = document.createElement('div');\n",
              "          docLink.innerHTML = docLinkHtml;\n",
              "          element.appendChild(docLink);\n",
              "        }\n",
              "      </script>\n",
              "    </div>\n",
              "  </div>\n",
              "  "
            ]
          },
          "metadata": {},
          "execution_count": 59
        }
      ]
    },
    {
      "cell_type": "markdown",
      "source": [
        "Since machine learning algorithms only take numerical values, all five categorical variables (job, education, default, housing and loan) are transformed into dummy variables.\n",
        "\n",
        "Dummy variables were used instead of continuous integers because these categorical variables are not ordinal. They simply represent different types rather than levels, so dummy variables are ideal to distinguish the effect of different categories.\n",
        "\n"
      ],
      "metadata": {
        "id": "UwQai5irZxff"
      }
    },
    {
      "cell_type": "code",
      "source": [
        "data_model.drop(['marital'],axis=1, inplace=True)\n",
        "data_model1 = data_model.iloc[:, 0:7]"
      ],
      "metadata": {
        "id": "RnRtc7VWrZu_"
      },
      "execution_count": 60,
      "outputs": []
    },
    {
      "cell_type": "code",
      "source": [
        "data_model1.head()"
      ],
      "metadata": {
        "id": "Yr5rM8yqGAu6",
        "colab": {
          "base_uri": "https://localhost:8080/",
          "height": 206
        },
        "outputId": "40bd7f9d-2889-4c5c-9e24-43aba371311c"
      },
      "execution_count": 61,
      "outputs": [
        {
          "output_type": "execute_result",
          "data": {
            "text/plain": [
              "   age           job  education default  balance housing loan\n",
              "0   58    management   tertiary      no     2143     yes   no\n",
              "1   44    technician  secondary      no       29     yes   no\n",
              "2   33  entrepreneur  secondary      no        2     yes  yes\n",
              "3   35    management   tertiary      no      231     yes   no\n",
              "4   28    management   tertiary      no      447     yes  yes"
            ],
            "text/html": [
              "\n",
              "  <div id=\"df-942bde0d-281f-4c71-9e0d-da7a1b897257\">\n",
              "    <div class=\"colab-df-container\">\n",
              "      <div>\n",
              "<style scoped>\n",
              "    .dataframe tbody tr th:only-of-type {\n",
              "        vertical-align: middle;\n",
              "    }\n",
              "\n",
              "    .dataframe tbody tr th {\n",
              "        vertical-align: top;\n",
              "    }\n",
              "\n",
              "    .dataframe thead th {\n",
              "        text-align: right;\n",
              "    }\n",
              "</style>\n",
              "<table border=\"1\" class=\"dataframe\">\n",
              "  <thead>\n",
              "    <tr style=\"text-align: right;\">\n",
              "      <th></th>\n",
              "      <th>age</th>\n",
              "      <th>job</th>\n",
              "      <th>education</th>\n",
              "      <th>default</th>\n",
              "      <th>balance</th>\n",
              "      <th>housing</th>\n",
              "      <th>loan</th>\n",
              "    </tr>\n",
              "  </thead>\n",
              "  <tbody>\n",
              "    <tr>\n",
              "      <th>0</th>\n",
              "      <td>58</td>\n",
              "      <td>management</td>\n",
              "      <td>tertiary</td>\n",
              "      <td>no</td>\n",
              "      <td>2143</td>\n",
              "      <td>yes</td>\n",
              "      <td>no</td>\n",
              "    </tr>\n",
              "    <tr>\n",
              "      <th>1</th>\n",
              "      <td>44</td>\n",
              "      <td>technician</td>\n",
              "      <td>secondary</td>\n",
              "      <td>no</td>\n",
              "      <td>29</td>\n",
              "      <td>yes</td>\n",
              "      <td>no</td>\n",
              "    </tr>\n",
              "    <tr>\n",
              "      <th>2</th>\n",
              "      <td>33</td>\n",
              "      <td>entrepreneur</td>\n",
              "      <td>secondary</td>\n",
              "      <td>no</td>\n",
              "      <td>2</td>\n",
              "      <td>yes</td>\n",
              "      <td>yes</td>\n",
              "    </tr>\n",
              "    <tr>\n",
              "      <th>3</th>\n",
              "      <td>35</td>\n",
              "      <td>management</td>\n",
              "      <td>tertiary</td>\n",
              "      <td>no</td>\n",
              "      <td>231</td>\n",
              "      <td>yes</td>\n",
              "      <td>no</td>\n",
              "    </tr>\n",
              "    <tr>\n",
              "      <th>4</th>\n",
              "      <td>28</td>\n",
              "      <td>management</td>\n",
              "      <td>tertiary</td>\n",
              "      <td>no</td>\n",
              "      <td>447</td>\n",
              "      <td>yes</td>\n",
              "      <td>yes</td>\n",
              "    </tr>\n",
              "  </tbody>\n",
              "</table>\n",
              "</div>\n",
              "      <button class=\"colab-df-convert\" onclick=\"convertToInteractive('df-942bde0d-281f-4c71-9e0d-da7a1b897257')\"\n",
              "              title=\"Convert this dataframe to an interactive table.\"\n",
              "              style=\"display:none;\">\n",
              "        \n",
              "  <svg xmlns=\"http://www.w3.org/2000/svg\" height=\"24px\"viewBox=\"0 0 24 24\"\n",
              "       width=\"24px\">\n",
              "    <path d=\"M0 0h24v24H0V0z\" fill=\"none\"/>\n",
              "    <path d=\"M18.56 5.44l.94 2.06.94-2.06 2.06-.94-2.06-.94-.94-2.06-.94 2.06-2.06.94zm-11 1L8.5 8.5l.94-2.06 2.06-.94-2.06-.94L8.5 2.5l-.94 2.06-2.06.94zm10 10l.94 2.06.94-2.06 2.06-.94-2.06-.94-.94-2.06-.94 2.06-2.06.94z\"/><path d=\"M17.41 7.96l-1.37-1.37c-.4-.4-.92-.59-1.43-.59-.52 0-1.04.2-1.43.59L10.3 9.45l-7.72 7.72c-.78.78-.78 2.05 0 2.83L4 21.41c.39.39.9.59 1.41.59.51 0 1.02-.2 1.41-.59l7.78-7.78 2.81-2.81c.8-.78.8-2.07 0-2.86zM5.41 20L4 18.59l7.72-7.72 1.47 1.35L5.41 20z\"/>\n",
              "  </svg>\n",
              "      </button>\n",
              "      \n",
              "  <style>\n",
              "    .colab-df-container {\n",
              "      display:flex;\n",
              "      flex-wrap:wrap;\n",
              "      gap: 12px;\n",
              "    }\n",
              "\n",
              "    .colab-df-convert {\n",
              "      background-color: #E8F0FE;\n",
              "      border: none;\n",
              "      border-radius: 50%;\n",
              "      cursor: pointer;\n",
              "      display: none;\n",
              "      fill: #1967D2;\n",
              "      height: 32px;\n",
              "      padding: 0 0 0 0;\n",
              "      width: 32px;\n",
              "    }\n",
              "\n",
              "    .colab-df-convert:hover {\n",
              "      background-color: #E2EBFA;\n",
              "      box-shadow: 0px 1px 2px rgba(60, 64, 67, 0.3), 0px 1px 3px 1px rgba(60, 64, 67, 0.15);\n",
              "      fill: #174EA6;\n",
              "    }\n",
              "\n",
              "    [theme=dark] .colab-df-convert {\n",
              "      background-color: #3B4455;\n",
              "      fill: #D2E3FC;\n",
              "    }\n",
              "\n",
              "    [theme=dark] .colab-df-convert:hover {\n",
              "      background-color: #434B5C;\n",
              "      box-shadow: 0px 1px 3px 1px rgba(0, 0, 0, 0.15);\n",
              "      filter: drop-shadow(0px 1px 2px rgba(0, 0, 0, 0.3));\n",
              "      fill: #FFFFFF;\n",
              "    }\n",
              "  </style>\n",
              "\n",
              "      <script>\n",
              "        const buttonEl =\n",
              "          document.querySelector('#df-942bde0d-281f-4c71-9e0d-da7a1b897257 button.colab-df-convert');\n",
              "        buttonEl.style.display =\n",
              "          google.colab.kernel.accessAllowed ? 'block' : 'none';\n",
              "\n",
              "        async function convertToInteractive(key) {\n",
              "          const element = document.querySelector('#df-942bde0d-281f-4c71-9e0d-da7a1b897257');\n",
              "          const dataTable =\n",
              "            await google.colab.kernel.invokeFunction('convertToInteractive',\n",
              "                                                     [key], {});\n",
              "          if (!dataTable) return;\n",
              "\n",
              "          const docLinkHtml = 'Like what you see? Visit the ' +\n",
              "            '<a target=\"_blank\" href=https://colab.research.google.com/notebooks/data_table.ipynb>data table notebook</a>'\n",
              "            + ' to learn more about interactive tables.';\n",
              "          element.innerHTML = '';\n",
              "          dataTable['output_type'] = 'display_data';\n",
              "          await google.colab.output.renderOutput(dataTable, element);\n",
              "          const docLink = document.createElement('div');\n",
              "          docLink.innerHTML = docLinkHtml;\n",
              "          element.appendChild(docLink);\n",
              "        }\n",
              "      </script>\n",
              "    </div>\n",
              "  </div>\n",
              "  "
            ]
          },
          "metadata": {},
          "execution_count": 61
        }
      ]
    },
    {
      "cell_type": "code",
      "source": [
        "#Label Encoder\n",
        "data_model2 = pd.get_dummies(data_model1, columns = ['job'])\n",
        "data_model2 = pd.get_dummies(data_model2, columns = ['education'])\n",
        "\n",
        "#One hot Encoding\n",
        "data_model2['housing'] = data_model2['housing'].map({'yes': 1, 'no': 0})\n",
        "data_model2['default'] = data_model2['default'].map({'yes': 1, 'no': 0})\n",
        "data_model2['loan'] = data_model2['loan'].map({'yes': 1, 'no': 0})\n",
        "dataset_response = pd.DataFrame(data_model['response_binary'])\n",
        "data_model2 = pd.merge(data_model2, dataset_response, left_index = True, right_index = True)\n",
        "data_model2 = data_model2.query('balance >= 0')"
      ],
      "metadata": {
        "id": "6x6U2imQEQNf"
      },
      "execution_count": 62,
      "outputs": []
    },
    {
      "cell_type": "code",
      "source": [
        "data_model2"
      ],
      "metadata": {
        "colab": {
          "base_uri": "https://localhost:8080/",
          "height": 505
        },
        "id": "bk-hKLhXa5OM",
        "outputId": "78a0121d-c5c3-4b50-d645-33cf489a0cff"
      },
      "execution_count": 63,
      "outputs": [
        {
          "output_type": "execute_result",
          "data": {
            "text/plain": [
              "       age  default  balance  housing  loan  job_admin.  job_blue-collar  \\\n",
              "0       58        0     2143        1     0           0                0   \n",
              "1       44        0       29        1     0           0                0   \n",
              "2       33        0        2        1     1           0                0   \n",
              "3       35        0      231        1     0           0                0   \n",
              "4       28        0      447        1     1           0                0   \n",
              "...    ...      ...      ...      ...   ...         ...              ...   \n",
              "40836   25        0      505        0     1           0                0   \n",
              "40837   51        0      825        0     0           0                0   \n",
              "40838   71        0     1729        0     0           0                0   \n",
              "40839   72        0     5715        0     0           0                0   \n",
              "40840   57        0      668        0     0           0                1   \n",
              "\n",
              "       job_entrepreneur  job_housemaid  job_management  job_other  \\\n",
              "0                     0              0               1          0   \n",
              "1                     0              0               0          0   \n",
              "2                     1              0               0          0   \n",
              "3                     0              0               1          0   \n",
              "4                     0              0               1          0   \n",
              "...                 ...            ...             ...        ...   \n",
              "40836                 0              0               0          0   \n",
              "40837                 0              0               0          0   \n",
              "40838                 0              0               0          0   \n",
              "40839                 0              0               0          0   \n",
              "40840                 0              0               0          0   \n",
              "\n",
              "       job_retired  job_self-employed  job_services  job_student  \\\n",
              "0                0                  0             0            0   \n",
              "1                0                  0             0            0   \n",
              "2                0                  0             0            0   \n",
              "3                0                  0             0            0   \n",
              "4                0                  0             0            0   \n",
              "...            ...                ...           ...          ...   \n",
              "40836            0                  0             0            0   \n",
              "40837            0                  0             0            0   \n",
              "40838            1                  0             0            0   \n",
              "40839            1                  0             0            0   \n",
              "40840            0                  0             0            0   \n",
              "\n",
              "       job_technician  job_unemployed  education_primary  education_secondary  \\\n",
              "0                   0               0                  0                    0   \n",
              "1                   1               0                  0                    1   \n",
              "2                   0               0                  0                    1   \n",
              "3                   0               0                  0                    0   \n",
              "4                   0               0                  0                    0   \n",
              "...               ...             ...                ...                  ...   \n",
              "40836               1               0                  0                    1   \n",
              "40837               1               0                  0                    0   \n",
              "40838               0               0                  1                    0   \n",
              "40839               0               0                  0                    1   \n",
              "40840               0               0                  0                    1   \n",
              "\n",
              "       education_tertiary  response_binary  \n",
              "0                       1                0  \n",
              "1                       0                0  \n",
              "2                       0                0  \n",
              "3                       1                0  \n",
              "4                       1                0  \n",
              "...                   ...              ...  \n",
              "40836                   0                1  \n",
              "40837                   1                1  \n",
              "40838                   0                1  \n",
              "40839                   0                1  \n",
              "40840                   0                0  \n",
              "\n",
              "[37337 rows x 21 columns]"
            ],
            "text/html": [
              "\n",
              "  <div id=\"df-2a78e08c-5cc2-4792-a6ab-a0ba065a2a62\">\n",
              "    <div class=\"colab-df-container\">\n",
              "      <div>\n",
              "<style scoped>\n",
              "    .dataframe tbody tr th:only-of-type {\n",
              "        vertical-align: middle;\n",
              "    }\n",
              "\n",
              "    .dataframe tbody tr th {\n",
              "        vertical-align: top;\n",
              "    }\n",
              "\n",
              "    .dataframe thead th {\n",
              "        text-align: right;\n",
              "    }\n",
              "</style>\n",
              "<table border=\"1\" class=\"dataframe\">\n",
              "  <thead>\n",
              "    <tr style=\"text-align: right;\">\n",
              "      <th></th>\n",
              "      <th>age</th>\n",
              "      <th>default</th>\n",
              "      <th>balance</th>\n",
              "      <th>housing</th>\n",
              "      <th>loan</th>\n",
              "      <th>job_admin.</th>\n",
              "      <th>job_blue-collar</th>\n",
              "      <th>job_entrepreneur</th>\n",
              "      <th>job_housemaid</th>\n",
              "      <th>job_management</th>\n",
              "      <th>job_other</th>\n",
              "      <th>job_retired</th>\n",
              "      <th>job_self-employed</th>\n",
              "      <th>job_services</th>\n",
              "      <th>job_student</th>\n",
              "      <th>job_technician</th>\n",
              "      <th>job_unemployed</th>\n",
              "      <th>education_primary</th>\n",
              "      <th>education_secondary</th>\n",
              "      <th>education_tertiary</th>\n",
              "      <th>response_binary</th>\n",
              "    </tr>\n",
              "  </thead>\n",
              "  <tbody>\n",
              "    <tr>\n",
              "      <th>0</th>\n",
              "      <td>58</td>\n",
              "      <td>0</td>\n",
              "      <td>2143</td>\n",
              "      <td>1</td>\n",
              "      <td>0</td>\n",
              "      <td>0</td>\n",
              "      <td>0</td>\n",
              "      <td>0</td>\n",
              "      <td>0</td>\n",
              "      <td>1</td>\n",
              "      <td>0</td>\n",
              "      <td>0</td>\n",
              "      <td>0</td>\n",
              "      <td>0</td>\n",
              "      <td>0</td>\n",
              "      <td>0</td>\n",
              "      <td>0</td>\n",
              "      <td>0</td>\n",
              "      <td>0</td>\n",
              "      <td>1</td>\n",
              "      <td>0</td>\n",
              "    </tr>\n",
              "    <tr>\n",
              "      <th>1</th>\n",
              "      <td>44</td>\n",
              "      <td>0</td>\n",
              "      <td>29</td>\n",
              "      <td>1</td>\n",
              "      <td>0</td>\n",
              "      <td>0</td>\n",
              "      <td>0</td>\n",
              "      <td>0</td>\n",
              "      <td>0</td>\n",
              "      <td>0</td>\n",
              "      <td>0</td>\n",
              "      <td>0</td>\n",
              "      <td>0</td>\n",
              "      <td>0</td>\n",
              "      <td>0</td>\n",
              "      <td>1</td>\n",
              "      <td>0</td>\n",
              "      <td>0</td>\n",
              "      <td>1</td>\n",
              "      <td>0</td>\n",
              "      <td>0</td>\n",
              "    </tr>\n",
              "    <tr>\n",
              "      <th>2</th>\n",
              "      <td>33</td>\n",
              "      <td>0</td>\n",
              "      <td>2</td>\n",
              "      <td>1</td>\n",
              "      <td>1</td>\n",
              "      <td>0</td>\n",
              "      <td>0</td>\n",
              "      <td>1</td>\n",
              "      <td>0</td>\n",
              "      <td>0</td>\n",
              "      <td>0</td>\n",
              "      <td>0</td>\n",
              "      <td>0</td>\n",
              "      <td>0</td>\n",
              "      <td>0</td>\n",
              "      <td>0</td>\n",
              "      <td>0</td>\n",
              "      <td>0</td>\n",
              "      <td>1</td>\n",
              "      <td>0</td>\n",
              "      <td>0</td>\n",
              "    </tr>\n",
              "    <tr>\n",
              "      <th>3</th>\n",
              "      <td>35</td>\n",
              "      <td>0</td>\n",
              "      <td>231</td>\n",
              "      <td>1</td>\n",
              "      <td>0</td>\n",
              "      <td>0</td>\n",
              "      <td>0</td>\n",
              "      <td>0</td>\n",
              "      <td>0</td>\n",
              "      <td>1</td>\n",
              "      <td>0</td>\n",
              "      <td>0</td>\n",
              "      <td>0</td>\n",
              "      <td>0</td>\n",
              "      <td>0</td>\n",
              "      <td>0</td>\n",
              "      <td>0</td>\n",
              "      <td>0</td>\n",
              "      <td>0</td>\n",
              "      <td>1</td>\n",
              "      <td>0</td>\n",
              "    </tr>\n",
              "    <tr>\n",
              "      <th>4</th>\n",
              "      <td>28</td>\n",
              "      <td>0</td>\n",
              "      <td>447</td>\n",
              "      <td>1</td>\n",
              "      <td>1</td>\n",
              "      <td>0</td>\n",
              "      <td>0</td>\n",
              "      <td>0</td>\n",
              "      <td>0</td>\n",
              "      <td>1</td>\n",
              "      <td>0</td>\n",
              "      <td>0</td>\n",
              "      <td>0</td>\n",
              "      <td>0</td>\n",
              "      <td>0</td>\n",
              "      <td>0</td>\n",
              "      <td>0</td>\n",
              "      <td>0</td>\n",
              "      <td>0</td>\n",
              "      <td>1</td>\n",
              "      <td>0</td>\n",
              "    </tr>\n",
              "    <tr>\n",
              "      <th>...</th>\n",
              "      <td>...</td>\n",
              "      <td>...</td>\n",
              "      <td>...</td>\n",
              "      <td>...</td>\n",
              "      <td>...</td>\n",
              "      <td>...</td>\n",
              "      <td>...</td>\n",
              "      <td>...</td>\n",
              "      <td>...</td>\n",
              "      <td>...</td>\n",
              "      <td>...</td>\n",
              "      <td>...</td>\n",
              "      <td>...</td>\n",
              "      <td>...</td>\n",
              "      <td>...</td>\n",
              "      <td>...</td>\n",
              "      <td>...</td>\n",
              "      <td>...</td>\n",
              "      <td>...</td>\n",
              "      <td>...</td>\n",
              "      <td>...</td>\n",
              "    </tr>\n",
              "    <tr>\n",
              "      <th>40836</th>\n",
              "      <td>25</td>\n",
              "      <td>0</td>\n",
              "      <td>505</td>\n",
              "      <td>0</td>\n",
              "      <td>1</td>\n",
              "      <td>0</td>\n",
              "      <td>0</td>\n",
              "      <td>0</td>\n",
              "      <td>0</td>\n",
              "      <td>0</td>\n",
              "      <td>0</td>\n",
              "      <td>0</td>\n",
              "      <td>0</td>\n",
              "      <td>0</td>\n",
              "      <td>0</td>\n",
              "      <td>1</td>\n",
              "      <td>0</td>\n",
              "      <td>0</td>\n",
              "      <td>1</td>\n",
              "      <td>0</td>\n",
              "      <td>1</td>\n",
              "    </tr>\n",
              "    <tr>\n",
              "      <th>40837</th>\n",
              "      <td>51</td>\n",
              "      <td>0</td>\n",
              "      <td>825</td>\n",
              "      <td>0</td>\n",
              "      <td>0</td>\n",
              "      <td>0</td>\n",
              "      <td>0</td>\n",
              "      <td>0</td>\n",
              "      <td>0</td>\n",
              "      <td>0</td>\n",
              "      <td>0</td>\n",
              "      <td>0</td>\n",
              "      <td>0</td>\n",
              "      <td>0</td>\n",
              "      <td>0</td>\n",
              "      <td>1</td>\n",
              "      <td>0</td>\n",
              "      <td>0</td>\n",
              "      <td>0</td>\n",
              "      <td>1</td>\n",
              "      <td>1</td>\n",
              "    </tr>\n",
              "    <tr>\n",
              "      <th>40838</th>\n",
              "      <td>71</td>\n",
              "      <td>0</td>\n",
              "      <td>1729</td>\n",
              "      <td>0</td>\n",
              "      <td>0</td>\n",
              "      <td>0</td>\n",
              "      <td>0</td>\n",
              "      <td>0</td>\n",
              "      <td>0</td>\n",
              "      <td>0</td>\n",
              "      <td>0</td>\n",
              "      <td>1</td>\n",
              "      <td>0</td>\n",
              "      <td>0</td>\n",
              "      <td>0</td>\n",
              "      <td>0</td>\n",
              "      <td>0</td>\n",
              "      <td>1</td>\n",
              "      <td>0</td>\n",
              "      <td>0</td>\n",
              "      <td>1</td>\n",
              "    </tr>\n",
              "    <tr>\n",
              "      <th>40839</th>\n",
              "      <td>72</td>\n",
              "      <td>0</td>\n",
              "      <td>5715</td>\n",
              "      <td>0</td>\n",
              "      <td>0</td>\n",
              "      <td>0</td>\n",
              "      <td>0</td>\n",
              "      <td>0</td>\n",
              "      <td>0</td>\n",
              "      <td>0</td>\n",
              "      <td>0</td>\n",
              "      <td>1</td>\n",
              "      <td>0</td>\n",
              "      <td>0</td>\n",
              "      <td>0</td>\n",
              "      <td>0</td>\n",
              "      <td>0</td>\n",
              "      <td>0</td>\n",
              "      <td>1</td>\n",
              "      <td>0</td>\n",
              "      <td>1</td>\n",
              "    </tr>\n",
              "    <tr>\n",
              "      <th>40840</th>\n",
              "      <td>57</td>\n",
              "      <td>0</td>\n",
              "      <td>668</td>\n",
              "      <td>0</td>\n",
              "      <td>0</td>\n",
              "      <td>0</td>\n",
              "      <td>1</td>\n",
              "      <td>0</td>\n",
              "      <td>0</td>\n",
              "      <td>0</td>\n",
              "      <td>0</td>\n",
              "      <td>0</td>\n",
              "      <td>0</td>\n",
              "      <td>0</td>\n",
              "      <td>0</td>\n",
              "      <td>0</td>\n",
              "      <td>0</td>\n",
              "      <td>0</td>\n",
              "      <td>1</td>\n",
              "      <td>0</td>\n",
              "      <td>0</td>\n",
              "    </tr>\n",
              "  </tbody>\n",
              "</table>\n",
              "<p>37337 rows × 21 columns</p>\n",
              "</div>\n",
              "      <button class=\"colab-df-convert\" onclick=\"convertToInteractive('df-2a78e08c-5cc2-4792-a6ab-a0ba065a2a62')\"\n",
              "              title=\"Convert this dataframe to an interactive table.\"\n",
              "              style=\"display:none;\">\n",
              "        \n",
              "  <svg xmlns=\"http://www.w3.org/2000/svg\" height=\"24px\"viewBox=\"0 0 24 24\"\n",
              "       width=\"24px\">\n",
              "    <path d=\"M0 0h24v24H0V0z\" fill=\"none\"/>\n",
              "    <path d=\"M18.56 5.44l.94 2.06.94-2.06 2.06-.94-2.06-.94-.94-2.06-.94 2.06-2.06.94zm-11 1L8.5 8.5l.94-2.06 2.06-.94-2.06-.94L8.5 2.5l-.94 2.06-2.06.94zm10 10l.94 2.06.94-2.06 2.06-.94-2.06-.94-.94-2.06-.94 2.06-2.06.94z\"/><path d=\"M17.41 7.96l-1.37-1.37c-.4-.4-.92-.59-1.43-.59-.52 0-1.04.2-1.43.59L10.3 9.45l-7.72 7.72c-.78.78-.78 2.05 0 2.83L4 21.41c.39.39.9.59 1.41.59.51 0 1.02-.2 1.41-.59l7.78-7.78 2.81-2.81c.8-.78.8-2.07 0-2.86zM5.41 20L4 18.59l7.72-7.72 1.47 1.35L5.41 20z\"/>\n",
              "  </svg>\n",
              "      </button>\n",
              "      \n",
              "  <style>\n",
              "    .colab-df-container {\n",
              "      display:flex;\n",
              "      flex-wrap:wrap;\n",
              "      gap: 12px;\n",
              "    }\n",
              "\n",
              "    .colab-df-convert {\n",
              "      background-color: #E8F0FE;\n",
              "      border: none;\n",
              "      border-radius: 50%;\n",
              "      cursor: pointer;\n",
              "      display: none;\n",
              "      fill: #1967D2;\n",
              "      height: 32px;\n",
              "      padding: 0 0 0 0;\n",
              "      width: 32px;\n",
              "    }\n",
              "\n",
              "    .colab-df-convert:hover {\n",
              "      background-color: #E2EBFA;\n",
              "      box-shadow: 0px 1px 2px rgba(60, 64, 67, 0.3), 0px 1px 3px 1px rgba(60, 64, 67, 0.15);\n",
              "      fill: #174EA6;\n",
              "    }\n",
              "\n",
              "    [theme=dark] .colab-df-convert {\n",
              "      background-color: #3B4455;\n",
              "      fill: #D2E3FC;\n",
              "    }\n",
              "\n",
              "    [theme=dark] .colab-df-convert:hover {\n",
              "      background-color: #434B5C;\n",
              "      box-shadow: 0px 1px 3px 1px rgba(0, 0, 0, 0.15);\n",
              "      filter: drop-shadow(0px 1px 2px rgba(0, 0, 0, 0.3));\n",
              "      fill: #FFFFFF;\n",
              "    }\n",
              "  </style>\n",
              "\n",
              "      <script>\n",
              "        const buttonEl =\n",
              "          document.querySelector('#df-2a78e08c-5cc2-4792-a6ab-a0ba065a2a62 button.colab-df-convert');\n",
              "        buttonEl.style.display =\n",
              "          google.colab.kernel.accessAllowed ? 'block' : 'none';\n",
              "\n",
              "        async function convertToInteractive(key) {\n",
              "          const element = document.querySelector('#df-2a78e08c-5cc2-4792-a6ab-a0ba065a2a62');\n",
              "          const dataTable =\n",
              "            await google.colab.kernel.invokeFunction('convertToInteractive',\n",
              "                                                     [key], {});\n",
              "          if (!dataTable) return;\n",
              "\n",
              "          const docLinkHtml = 'Like what you see? Visit the ' +\n",
              "            '<a target=\"_blank\" href=https://colab.research.google.com/notebooks/data_table.ipynb>data table notebook</a>'\n",
              "            + ' to learn more about interactive tables.';\n",
              "          element.innerHTML = '';\n",
              "          dataTable['output_type'] = 'display_data';\n",
              "          await google.colab.output.renderOutput(dataTable, element);\n",
              "          const docLink = document.createElement('div');\n",
              "          docLink.innerHTML = docLinkHtml;\n",
              "          element.appendChild(docLink);\n",
              "        }\n",
              "      </script>\n",
              "    </div>\n",
              "  </div>\n",
              "  "
            ]
          },
          "metadata": {},
          "execution_count": 63
        }
      ]
    },
    {
      "cell_type": "code",
      "source": [
        "data_model2.columns"
      ],
      "metadata": {
        "colab": {
          "base_uri": "https://localhost:8080/"
        },
        "id": "b3gxOCS6n5Lm",
        "outputId": "5b895a5e-63a8-4c29-e830-308ca9de7f26"
      },
      "execution_count": 64,
      "outputs": [
        {
          "output_type": "execute_result",
          "data": {
            "text/plain": [
              "Index(['age', 'default', 'balance', 'housing', 'loan', 'job_admin.',\n",
              "       'job_blue-collar', 'job_entrepreneur', 'job_housemaid',\n",
              "       'job_management', 'job_other', 'job_retired', 'job_self-employed',\n",
              "       'job_services', 'job_student', 'job_technician', 'job_unemployed',\n",
              "       'education_primary', 'education_secondary', 'education_tertiary',\n",
              "       'response_binary'],\n",
              "      dtype='object')"
            ]
          },
          "metadata": {},
          "execution_count": 64
        }
      ]
    },
    {
      "cell_type": "code",
      "source": [
        "data_model2.describe()"
      ],
      "metadata": {
        "colab": {
          "base_uri": "https://localhost:8080/",
          "height": 382
        },
        "id": "VVFOSPurpOtU",
        "outputId": "204b181d-50fe-4993-8784-71201e4c3b8e"
      },
      "execution_count": 65,
      "outputs": [
        {
          "output_type": "execute_result",
          "data": {
            "text/plain": [
              "                age       default       balance       housing          loan  \\\n",
              "count  37337.000000  37337.000000  37337.000000  37337.000000  37337.000000   \n",
              "mean      40.912955      0.009535   1204.595442      0.543563      0.151646   \n",
              "std       10.591927      0.097181   1731.377198      0.498105      0.358682   \n",
              "min       18.000000      0.000000      0.000000      0.000000      0.000000   \n",
              "25%       33.000000      0.000000    137.000000      0.000000      0.000000   \n",
              "50%       39.000000      0.000000    514.000000      1.000000      0.000000   \n",
              "75%       48.000000      0.000000   1480.000000      1.000000      0.000000   \n",
              "max       95.000000      1.000000  10443.000000      1.000000      1.000000   \n",
              "\n",
              "         job_admin.  job_blue-collar  job_entrepreneur  job_housemaid  \\\n",
              "count  37337.000000     37337.000000      37337.000000   37337.000000   \n",
              "mean       0.113801         0.208640          0.033024       0.029756   \n",
              "std        0.317574         0.406342          0.178700       0.169916   \n",
              "min        0.000000         0.000000          0.000000       0.000000   \n",
              "25%        0.000000         0.000000          0.000000       0.000000   \n",
              "50%        0.000000         0.000000          0.000000       0.000000   \n",
              "75%        0.000000         0.000000          0.000000       0.000000   \n",
              "max        1.000000         1.000000          1.000000       1.000000   \n",
              "\n",
              "       job_management     job_other   job_retired  job_self-employed  \\\n",
              "count    37337.000000  37337.000000  37337.000000       37337.000000   \n",
              "mean         0.215015      0.004125      0.050995           0.036425   \n",
              "std          0.410838      0.064091      0.219990           0.187348   \n",
              "min          0.000000      0.000000      0.000000           0.000000   \n",
              "25%          0.000000      0.000000      0.000000           0.000000   \n",
              "50%          0.000000      0.000000      0.000000           0.000000   \n",
              "75%          0.000000      0.000000      0.000000           0.000000   \n",
              "max          1.000000      1.000000      1.000000           1.000000   \n",
              "\n",
              "       job_services   job_student  job_technician  job_unemployed  \\\n",
              "count  37337.000000  37337.000000    37337.000000    37337.000000   \n",
              "mean       0.089643      0.018239        0.169751        0.030586   \n",
              "std        0.285673      0.133817        0.375419        0.172196   \n",
              "min        0.000000      0.000000        0.000000        0.000000   \n",
              "25%        0.000000      0.000000        0.000000        0.000000   \n",
              "50%        0.000000      0.000000        0.000000        0.000000   \n",
              "75%        0.000000      0.000000        0.000000        0.000000   \n",
              "max        1.000000      1.000000        1.000000        1.000000   \n",
              "\n",
              "       education_primary  education_secondary  education_tertiary  \\\n",
              "count       37337.000000         37337.000000        37337.000000   \n",
              "mean            0.159092             0.527868            0.313041   \n",
              "std             0.365766             0.499229            0.463737   \n",
              "min             0.000000             0.000000            0.000000   \n",
              "25%             0.000000             0.000000            0.000000   \n",
              "50%             0.000000             1.000000            0.000000   \n",
              "75%             0.000000             1.000000            1.000000   \n",
              "max             1.000000             1.000000            1.000000   \n",
              "\n",
              "       response_binary  \n",
              "count     37337.000000  \n",
              "mean          0.118917  \n",
              "std           0.323695  \n",
              "min           0.000000  \n",
              "25%           0.000000  \n",
              "50%           0.000000  \n",
              "75%           0.000000  \n",
              "max           1.000000  "
            ],
            "text/html": [
              "\n",
              "  <div id=\"df-1b5d8457-f3da-4f29-9380-546c901045e2\">\n",
              "    <div class=\"colab-df-container\">\n",
              "      <div>\n",
              "<style scoped>\n",
              "    .dataframe tbody tr th:only-of-type {\n",
              "        vertical-align: middle;\n",
              "    }\n",
              "\n",
              "    .dataframe tbody tr th {\n",
              "        vertical-align: top;\n",
              "    }\n",
              "\n",
              "    .dataframe thead th {\n",
              "        text-align: right;\n",
              "    }\n",
              "</style>\n",
              "<table border=\"1\" class=\"dataframe\">\n",
              "  <thead>\n",
              "    <tr style=\"text-align: right;\">\n",
              "      <th></th>\n",
              "      <th>age</th>\n",
              "      <th>default</th>\n",
              "      <th>balance</th>\n",
              "      <th>housing</th>\n",
              "      <th>loan</th>\n",
              "      <th>job_admin.</th>\n",
              "      <th>job_blue-collar</th>\n",
              "      <th>job_entrepreneur</th>\n",
              "      <th>job_housemaid</th>\n",
              "      <th>job_management</th>\n",
              "      <th>job_other</th>\n",
              "      <th>job_retired</th>\n",
              "      <th>job_self-employed</th>\n",
              "      <th>job_services</th>\n",
              "      <th>job_student</th>\n",
              "      <th>job_technician</th>\n",
              "      <th>job_unemployed</th>\n",
              "      <th>education_primary</th>\n",
              "      <th>education_secondary</th>\n",
              "      <th>education_tertiary</th>\n",
              "      <th>response_binary</th>\n",
              "    </tr>\n",
              "  </thead>\n",
              "  <tbody>\n",
              "    <tr>\n",
              "      <th>count</th>\n",
              "      <td>37337.000000</td>\n",
              "      <td>37337.000000</td>\n",
              "      <td>37337.000000</td>\n",
              "      <td>37337.000000</td>\n",
              "      <td>37337.000000</td>\n",
              "      <td>37337.000000</td>\n",
              "      <td>37337.000000</td>\n",
              "      <td>37337.000000</td>\n",
              "      <td>37337.000000</td>\n",
              "      <td>37337.000000</td>\n",
              "      <td>37337.000000</td>\n",
              "      <td>37337.000000</td>\n",
              "      <td>37337.000000</td>\n",
              "      <td>37337.000000</td>\n",
              "      <td>37337.000000</td>\n",
              "      <td>37337.000000</td>\n",
              "      <td>37337.000000</td>\n",
              "      <td>37337.000000</td>\n",
              "      <td>37337.000000</td>\n",
              "      <td>37337.000000</td>\n",
              "      <td>37337.000000</td>\n",
              "    </tr>\n",
              "    <tr>\n",
              "      <th>mean</th>\n",
              "      <td>40.912955</td>\n",
              "      <td>0.009535</td>\n",
              "      <td>1204.595442</td>\n",
              "      <td>0.543563</td>\n",
              "      <td>0.151646</td>\n",
              "      <td>0.113801</td>\n",
              "      <td>0.208640</td>\n",
              "      <td>0.033024</td>\n",
              "      <td>0.029756</td>\n",
              "      <td>0.215015</td>\n",
              "      <td>0.004125</td>\n",
              "      <td>0.050995</td>\n",
              "      <td>0.036425</td>\n",
              "      <td>0.089643</td>\n",
              "      <td>0.018239</td>\n",
              "      <td>0.169751</td>\n",
              "      <td>0.030586</td>\n",
              "      <td>0.159092</td>\n",
              "      <td>0.527868</td>\n",
              "      <td>0.313041</td>\n",
              "      <td>0.118917</td>\n",
              "    </tr>\n",
              "    <tr>\n",
              "      <th>std</th>\n",
              "      <td>10.591927</td>\n",
              "      <td>0.097181</td>\n",
              "      <td>1731.377198</td>\n",
              "      <td>0.498105</td>\n",
              "      <td>0.358682</td>\n",
              "      <td>0.317574</td>\n",
              "      <td>0.406342</td>\n",
              "      <td>0.178700</td>\n",
              "      <td>0.169916</td>\n",
              "      <td>0.410838</td>\n",
              "      <td>0.064091</td>\n",
              "      <td>0.219990</td>\n",
              "      <td>0.187348</td>\n",
              "      <td>0.285673</td>\n",
              "      <td>0.133817</td>\n",
              "      <td>0.375419</td>\n",
              "      <td>0.172196</td>\n",
              "      <td>0.365766</td>\n",
              "      <td>0.499229</td>\n",
              "      <td>0.463737</td>\n",
              "      <td>0.323695</td>\n",
              "    </tr>\n",
              "    <tr>\n",
              "      <th>min</th>\n",
              "      <td>18.000000</td>\n",
              "      <td>0.000000</td>\n",
              "      <td>0.000000</td>\n",
              "      <td>0.000000</td>\n",
              "      <td>0.000000</td>\n",
              "      <td>0.000000</td>\n",
              "      <td>0.000000</td>\n",
              "      <td>0.000000</td>\n",
              "      <td>0.000000</td>\n",
              "      <td>0.000000</td>\n",
              "      <td>0.000000</td>\n",
              "      <td>0.000000</td>\n",
              "      <td>0.000000</td>\n",
              "      <td>0.000000</td>\n",
              "      <td>0.000000</td>\n",
              "      <td>0.000000</td>\n",
              "      <td>0.000000</td>\n",
              "      <td>0.000000</td>\n",
              "      <td>0.000000</td>\n",
              "      <td>0.000000</td>\n",
              "      <td>0.000000</td>\n",
              "    </tr>\n",
              "    <tr>\n",
              "      <th>25%</th>\n",
              "      <td>33.000000</td>\n",
              "      <td>0.000000</td>\n",
              "      <td>137.000000</td>\n",
              "      <td>0.000000</td>\n",
              "      <td>0.000000</td>\n",
              "      <td>0.000000</td>\n",
              "      <td>0.000000</td>\n",
              "      <td>0.000000</td>\n",
              "      <td>0.000000</td>\n",
              "      <td>0.000000</td>\n",
              "      <td>0.000000</td>\n",
              "      <td>0.000000</td>\n",
              "      <td>0.000000</td>\n",
              "      <td>0.000000</td>\n",
              "      <td>0.000000</td>\n",
              "      <td>0.000000</td>\n",
              "      <td>0.000000</td>\n",
              "      <td>0.000000</td>\n",
              "      <td>0.000000</td>\n",
              "      <td>0.000000</td>\n",
              "      <td>0.000000</td>\n",
              "    </tr>\n",
              "    <tr>\n",
              "      <th>50%</th>\n",
              "      <td>39.000000</td>\n",
              "      <td>0.000000</td>\n",
              "      <td>514.000000</td>\n",
              "      <td>1.000000</td>\n",
              "      <td>0.000000</td>\n",
              "      <td>0.000000</td>\n",
              "      <td>0.000000</td>\n",
              "      <td>0.000000</td>\n",
              "      <td>0.000000</td>\n",
              "      <td>0.000000</td>\n",
              "      <td>0.000000</td>\n",
              "      <td>0.000000</td>\n",
              "      <td>0.000000</td>\n",
              "      <td>0.000000</td>\n",
              "      <td>0.000000</td>\n",
              "      <td>0.000000</td>\n",
              "      <td>0.000000</td>\n",
              "      <td>0.000000</td>\n",
              "      <td>1.000000</td>\n",
              "      <td>0.000000</td>\n",
              "      <td>0.000000</td>\n",
              "    </tr>\n",
              "    <tr>\n",
              "      <th>75%</th>\n",
              "      <td>48.000000</td>\n",
              "      <td>0.000000</td>\n",
              "      <td>1480.000000</td>\n",
              "      <td>1.000000</td>\n",
              "      <td>0.000000</td>\n",
              "      <td>0.000000</td>\n",
              "      <td>0.000000</td>\n",
              "      <td>0.000000</td>\n",
              "      <td>0.000000</td>\n",
              "      <td>0.000000</td>\n",
              "      <td>0.000000</td>\n",
              "      <td>0.000000</td>\n",
              "      <td>0.000000</td>\n",
              "      <td>0.000000</td>\n",
              "      <td>0.000000</td>\n",
              "      <td>0.000000</td>\n",
              "      <td>0.000000</td>\n",
              "      <td>0.000000</td>\n",
              "      <td>1.000000</td>\n",
              "      <td>1.000000</td>\n",
              "      <td>0.000000</td>\n",
              "    </tr>\n",
              "    <tr>\n",
              "      <th>max</th>\n",
              "      <td>95.000000</td>\n",
              "      <td>1.000000</td>\n",
              "      <td>10443.000000</td>\n",
              "      <td>1.000000</td>\n",
              "      <td>1.000000</td>\n",
              "      <td>1.000000</td>\n",
              "      <td>1.000000</td>\n",
              "      <td>1.000000</td>\n",
              "      <td>1.000000</td>\n",
              "      <td>1.000000</td>\n",
              "      <td>1.000000</td>\n",
              "      <td>1.000000</td>\n",
              "      <td>1.000000</td>\n",
              "      <td>1.000000</td>\n",
              "      <td>1.000000</td>\n",
              "      <td>1.000000</td>\n",
              "      <td>1.000000</td>\n",
              "      <td>1.000000</td>\n",
              "      <td>1.000000</td>\n",
              "      <td>1.000000</td>\n",
              "      <td>1.000000</td>\n",
              "    </tr>\n",
              "  </tbody>\n",
              "</table>\n",
              "</div>\n",
              "      <button class=\"colab-df-convert\" onclick=\"convertToInteractive('df-1b5d8457-f3da-4f29-9380-546c901045e2')\"\n",
              "              title=\"Convert this dataframe to an interactive table.\"\n",
              "              style=\"display:none;\">\n",
              "        \n",
              "  <svg xmlns=\"http://www.w3.org/2000/svg\" height=\"24px\"viewBox=\"0 0 24 24\"\n",
              "       width=\"24px\">\n",
              "    <path d=\"M0 0h24v24H0V0z\" fill=\"none\"/>\n",
              "    <path d=\"M18.56 5.44l.94 2.06.94-2.06 2.06-.94-2.06-.94-.94-2.06-.94 2.06-2.06.94zm-11 1L8.5 8.5l.94-2.06 2.06-.94-2.06-.94L8.5 2.5l-.94 2.06-2.06.94zm10 10l.94 2.06.94-2.06 2.06-.94-2.06-.94-.94-2.06-.94 2.06-2.06.94z\"/><path d=\"M17.41 7.96l-1.37-1.37c-.4-.4-.92-.59-1.43-.59-.52 0-1.04.2-1.43.59L10.3 9.45l-7.72 7.72c-.78.78-.78 2.05 0 2.83L4 21.41c.39.39.9.59 1.41.59.51 0 1.02-.2 1.41-.59l7.78-7.78 2.81-2.81c.8-.78.8-2.07 0-2.86zM5.41 20L4 18.59l7.72-7.72 1.47 1.35L5.41 20z\"/>\n",
              "  </svg>\n",
              "      </button>\n",
              "      \n",
              "  <style>\n",
              "    .colab-df-container {\n",
              "      display:flex;\n",
              "      flex-wrap:wrap;\n",
              "      gap: 12px;\n",
              "    }\n",
              "\n",
              "    .colab-df-convert {\n",
              "      background-color: #E8F0FE;\n",
              "      border: none;\n",
              "      border-radius: 50%;\n",
              "      cursor: pointer;\n",
              "      display: none;\n",
              "      fill: #1967D2;\n",
              "      height: 32px;\n",
              "      padding: 0 0 0 0;\n",
              "      width: 32px;\n",
              "    }\n",
              "\n",
              "    .colab-df-convert:hover {\n",
              "      background-color: #E2EBFA;\n",
              "      box-shadow: 0px 1px 2px rgba(60, 64, 67, 0.3), 0px 1px 3px 1px rgba(60, 64, 67, 0.15);\n",
              "      fill: #174EA6;\n",
              "    }\n",
              "\n",
              "    [theme=dark] .colab-df-convert {\n",
              "      background-color: #3B4455;\n",
              "      fill: #D2E3FC;\n",
              "    }\n",
              "\n",
              "    [theme=dark] .colab-df-convert:hover {\n",
              "      background-color: #434B5C;\n",
              "      box-shadow: 0px 1px 3px 1px rgba(0, 0, 0, 0.15);\n",
              "      filter: drop-shadow(0px 1px 2px rgba(0, 0, 0, 0.3));\n",
              "      fill: #FFFFFF;\n",
              "    }\n",
              "  </style>\n",
              "\n",
              "      <script>\n",
              "        const buttonEl =\n",
              "          document.querySelector('#df-1b5d8457-f3da-4f29-9380-546c901045e2 button.colab-df-convert');\n",
              "        buttonEl.style.display =\n",
              "          google.colab.kernel.accessAllowed ? 'block' : 'none';\n",
              "\n",
              "        async function convertToInteractive(key) {\n",
              "          const element = document.querySelector('#df-1b5d8457-f3da-4f29-9380-546c901045e2');\n",
              "          const dataTable =\n",
              "            await google.colab.kernel.invokeFunction('convertToInteractive',\n",
              "                                                     [key], {});\n",
              "          if (!dataTable) return;\n",
              "\n",
              "          const docLinkHtml = 'Like what you see? Visit the ' +\n",
              "            '<a target=\"_blank\" href=https://colab.research.google.com/notebooks/data_table.ipynb>data table notebook</a>'\n",
              "            + ' to learn more about interactive tables.';\n",
              "          element.innerHTML = '';\n",
              "          dataTable['output_type'] = 'display_data';\n",
              "          await google.colab.output.renderOutput(dataTable, element);\n",
              "          const docLink = document.createElement('div');\n",
              "          docLink.innerHTML = docLinkHtml;\n",
              "          element.appendChild(docLink);\n",
              "        }\n",
              "      </script>\n",
              "    </div>\n",
              "  </div>\n",
              "  "
            ]
          },
          "metadata": {},
          "execution_count": 65
        }
      ]
    },
    {
      "cell_type": "markdown",
      "metadata": {
        "id": "WqKqFXsrcarx"
      },
      "source": [
        "# **Modeling Data**\n",
        "\n",
        "\n",
        "\n",
        "---\n",
        "\n"
      ]
    },
    {
      "cell_type": "code",
      "source": [
        "from sklearn.model_selection import train_test_split\n",
        "from sklearn.model_selection import cross_val_score\n",
        "from sklearn.model_selection import KFold\n",
        "from sklearn.metrics import accuracy_score\n",
        "from sklearn.model_selection import StratifiedShuffleSplit"
      ],
      "metadata": {
        "id": "akmmblSEbdyl"
      },
      "execution_count": 66,
      "outputs": []
    },
    {
      "cell_type": "code",
      "source": [
        "#modified by changing dataset into pandas format\n",
        "X = data_model2.drop('response_binary',axis=1)\n",
        "y = data_model2[['response_binary']]\n",
        "print(y.shape)"
      ],
      "metadata": {
        "colab": {
          "base_uri": "https://localhost:8080/"
        },
        "id": "zn7WsD-ja05D",
        "outputId": "c2b2f6c2-e3e7-41bf-aa6b-38035173c0c8"
      },
      "execution_count": 67,
      "outputs": [
        {
          "output_type": "stream",
          "name": "stdout",
          "text": [
            "(37337, 1)\n"
          ]
        }
      ]
    },
    {
      "cell_type": "markdown",
      "source": [
        "##**Train Split Data**"
      ],
      "metadata": {
        "id": "Rch8qaP_LD-y"
      }
    },
    {
      "cell_type": "code",
      "source": [
        "from sklearn.model_selection import train_test_split\n",
        "from sklearn.model_selection import cross_val_score\n",
        "from sklearn.model_selection import KFold\n",
        "from sklearn.metrics import accuracy_score\n",
        "\n",
        "#Train test split\n",
        "#Using 20% data for data test\n",
        "test_size= 0.20\n",
        "seed = 7\n",
        "X_train, X_test, Y_train, Y_test=\\\n",
        "train_test_split(X.to_numpy(), y.to_numpy(), test_size=test_size, random_state=seed)"
      ],
      "metadata": {
        "id": "9AUnT97MFJf9"
      },
      "execution_count": 68,
      "outputs": []
    },
    {
      "cell_type": "markdown",
      "source": [
        "##**Fitting Model**"
      ],
      "metadata": {
        "id": "5-Zxo0P4LYg9"
      }
    },
    {
      "cell_type": "markdown",
      "source": [
        "5 different classification algorithms (Logistic Regression, K-Neighbors Classifier, Decision Tree Classifier, Gaussian NB and XGboost) are run on the dataset and the best-performing one will be used to build the classification model."
      ],
      "metadata": {
        "id": "EpnnQvvlcgqu"
      }
    },
    {
      "cell_type": "code",
      "source": [
        "#Comparing Model Algorithm\n",
        "from imblearn.over_sampling import SMOTE\n",
        "from sklearn.linear_model import LogisticRegression\n",
        "from sklearn.neighbors import KNeighborsClassifier\n",
        "from sklearn.tree import DecisionTreeClassifier\n",
        "from sklearn.naive_bayes import GaussianNB\n",
        "import xgboost as xgb\n",
        "model = []\n",
        "model.append(('LR', LogisticRegression(solver='liblinear')))\n",
        "model.append(('KNN', KNeighborsClassifier()))\n",
        "model.append(('CART', DecisionTreeClassifier()))\n",
        "model.append(('NB', GaussianNB()))\n",
        "model.append(('XG', xgb.XGBClassifier()))\n",
        "\n",
        "model_name=[]\n",
        "i=0\n",
        "from sklearn.model_selection import cross_validate, KFold\n",
        "prediction=list()\n",
        "kf = KFold(n_splits=5, shuffle= True)\n",
        "Xk,Yk = X.to_numpy(), y.to_numpy()\n",
        "trn_tst_ind=list()\n",
        "for train_index, test_index in kf.split(Xk):\n",
        "    trn_tst_ind.append((train_index, test_index))\n",
        "    X_res, X_test = Xk[train_index], Xk[test_index]\n",
        "    Y_res, Y_test = Yk[train_index], Yk[test_index]    \n",
        "    sm = SMOTE(random_state=42)\n",
        "    X_res, Y_res = sm.fit_resample(X_res, Y_res)\n",
        "    predict=np.empty([X_test.shape[0],len(model)])\n",
        "    i=0\n",
        "    for name,mod in model:\n",
        "        predict[:,i]=mod.fit(X_res, Y_res).predict(X_test)\n",
        "        model_name.append(name)\n",
        "        i+=1\n",
        "    prediction.append(predict)    \n"
      ],
      "metadata": {
        "id": "qzaTjUNqdPXV"
      },
      "execution_count": 69,
      "outputs": []
    },
    {
      "cell_type": "code",
      "source": [
        "print(\"Train data shape:{}\".format(X_res.shape))\n",
        "print(\"Test data shape:{}\".format(X_test.shape))"
      ],
      "metadata": {
        "colab": {
          "base_uri": "https://localhost:8080/"
        },
        "id": "su07LoP1GHAU",
        "outputId": "d9c23402-34bc-4534-c6d0-9ed94b6bea47"
      },
      "execution_count": 70,
      "outputs": [
        {
          "output_type": "stream",
          "name": "stdout",
          "text": [
            "Train data shape:(52690, 20)\n",
            "Test data shape:(7467, 20)\n"
          ]
        }
      ]
    },
    {
      "cell_type": "markdown",
      "source": [
        "## **Majority voting model**"
      ],
      "metadata": {
        "id": "ttQzdP8eK6c7"
      }
    },
    {
      "cell_type": "markdown",
      "source": [
        "We find that using the voting method improve the prediction results of minority class, i.e., f-score, without reducing the performance of the majority class"
      ],
      "metadata": {
        "id": "_dwBzDDrK1Nx"
      }
    },
    {
      "cell_type": "code",
      "source": [
        "#Fitting all modeling Algorithms on the test set to find the best\n",
        "from sklearn.metrics import classification_report\n",
        "for page in range(3):\n",
        "    print(f'page: {page}')\n",
        "    predict=prediction[page]\n",
        "    test_index = trn_tst_ind[page][1]\n",
        "    for ind in range(len(model)):\n",
        "        print(f'model name:{model_name[ind]}: accuracy:{accuracy_score(Yk[test_index], predict[:,ind]):.2f}')\n",
        "        print(classification_report(Yk[test_index], predict[:,ind]))        \n"
      ],
      "metadata": {
        "colab": {
          "base_uri": "https://localhost:8080/"
        },
        "id": "t7Iqi0BrGEmT",
        "outputId": "a0b9f555-6875-4059-ede0-fc76b946581f"
      },
      "execution_count": 71,
      "outputs": [
        {
          "output_type": "stream",
          "name": "stdout",
          "text": [
            "page: 0\n",
            "model name:LR: accuracy:0.87\n",
            "              precision    recall  f1-score   support\n",
            "\n",
            "           0       0.89      0.97      0.93      6596\n",
            "           1       0.34      0.12      0.18       872\n",
            "\n",
            "    accuracy                           0.87      7468\n",
            "   macro avg       0.62      0.54      0.55      7468\n",
            "weighted avg       0.83      0.87      0.84      7468\n",
            "\n",
            "model name:KNN: accuracy:0.65\n",
            "              precision    recall  f1-score   support\n",
            "\n",
            "           0       0.91      0.67      0.77      6596\n",
            "           1       0.17      0.51      0.26       872\n",
            "\n",
            "    accuracy                           0.65      7468\n",
            "   macro avg       0.54      0.59      0.52      7468\n",
            "weighted avg       0.83      0.65      0.71      7468\n",
            "\n",
            "model name:CART: accuracy:0.82\n",
            "              precision    recall  f1-score   support\n",
            "\n",
            "           0       0.91      0.88      0.90      6596\n",
            "           1       0.27      0.33      0.30       872\n",
            "\n",
            "    accuracy                           0.82      7468\n",
            "   macro avg       0.59      0.61      0.60      7468\n",
            "weighted avg       0.84      0.82      0.83      7468\n",
            "\n",
            "model name:NB: accuracy:0.60\n",
            "              precision    recall  f1-score   support\n",
            "\n",
            "           0       0.91      0.60      0.72      6596\n",
            "           1       0.16      0.57      0.25       872\n",
            "\n",
            "    accuracy                           0.60      7468\n",
            "   macro avg       0.54      0.58      0.49      7468\n",
            "weighted avg       0.82      0.60      0.67      7468\n",
            "\n",
            "model name:XG: accuracy:0.83\n",
            "              precision    recall  f1-score   support\n",
            "\n",
            "           0       0.90      0.91      0.91      6596\n",
            "           1       0.27      0.25      0.26       872\n",
            "\n",
            "    accuracy                           0.83      7468\n",
            "   macro avg       0.59      0.58      0.58      7468\n",
            "weighted avg       0.83      0.83      0.83      7468\n",
            "\n",
            "page: 1\n",
            "model name:LR: accuracy:0.86\n",
            "              precision    recall  f1-score   support\n",
            "\n",
            "           0       0.89      0.97      0.93      6567\n",
            "           1       0.33      0.11      0.17       901\n",
            "\n",
            "    accuracy                           0.86      7468\n",
            "   macro avg       0.61      0.54      0.55      7468\n",
            "weighted avg       0.82      0.86      0.83      7468\n",
            "\n",
            "model name:KNN: accuracy:0.65\n",
            "              precision    recall  f1-score   support\n",
            "\n",
            "           0       0.91      0.67      0.77      6567\n",
            "           1       0.18      0.55      0.27       901\n",
            "\n",
            "    accuracy                           0.65      7468\n",
            "   macro avg       0.55      0.61      0.52      7468\n",
            "weighted avg       0.83      0.65      0.71      7468\n",
            "\n",
            "model name:CART: accuracy:0.82\n",
            "              precision    recall  f1-score   support\n",
            "\n",
            "           0       0.91      0.89      0.90      6567\n",
            "           1       0.28      0.33      0.31       901\n",
            "\n",
            "    accuracy                           0.82      7468\n",
            "   macro avg       0.60      0.61      0.60      7468\n",
            "weighted avg       0.83      0.82      0.82      7468\n",
            "\n",
            "model name:NB: accuracy:0.61\n",
            "              precision    recall  f1-score   support\n",
            "\n",
            "           0       0.92      0.61      0.73      6567\n",
            "           1       0.17      0.59      0.27       901\n",
            "\n",
            "    accuracy                           0.61      7468\n",
            "   macro avg       0.54      0.60      0.50      7468\n",
            "weighted avg       0.83      0.61      0.68      7468\n",
            "\n",
            "model name:XG: accuracy:0.86\n",
            "              precision    recall  f1-score   support\n",
            "\n",
            "           0       0.90      0.95      0.92      6567\n",
            "           1       0.36      0.21      0.27       901\n",
            "\n",
            "    accuracy                           0.86      7468\n",
            "   macro avg       0.63      0.58      0.59      7468\n",
            "weighted avg       0.83      0.86      0.84      7468\n",
            "\n",
            "page: 2\n",
            "model name:LR: accuracy:0.87\n",
            "              precision    recall  f1-score   support\n",
            "\n",
            "           0       0.89      0.97      0.93      6595\n",
            "           1       0.33      0.12      0.18       872\n",
            "\n",
            "    accuracy                           0.87      7467\n",
            "   macro avg       0.61      0.55      0.55      7467\n",
            "weighted avg       0.83      0.87      0.84      7467\n",
            "\n",
            "model name:KNN: accuracy:0.66\n",
            "              precision    recall  f1-score   support\n",
            "\n",
            "           0       0.91      0.68      0.78      6595\n",
            "           1       0.18      0.52      0.26       872\n",
            "\n",
            "    accuracy                           0.66      7467\n",
            "   macro avg       0.55      0.60      0.52      7467\n",
            "weighted avg       0.83      0.66      0.72      7467\n",
            "\n",
            "model name:CART: accuracy:0.82\n",
            "              precision    recall  f1-score   support\n",
            "\n",
            "           0       0.91      0.89      0.90      6595\n",
            "           1       0.26      0.31      0.28       872\n",
            "\n",
            "    accuracy                           0.82      7467\n",
            "   macro avg       0.59      0.60      0.59      7467\n",
            "weighted avg       0.83      0.82      0.82      7467\n",
            "\n",
            "model name:NB: accuracy:0.61\n",
            "              precision    recall  f1-score   support\n",
            "\n",
            "           0       0.91      0.61      0.73      6595\n",
            "           1       0.16      0.56      0.25       872\n",
            "\n",
            "    accuracy                           0.61      7467\n",
            "   macro avg       0.54      0.58      0.49      7467\n",
            "weighted avg       0.82      0.61      0.68      7467\n",
            "\n",
            "model name:XG: accuracy:0.83\n",
            "              precision    recall  f1-score   support\n",
            "\n",
            "           0       0.91      0.90      0.91      6595\n",
            "           1       0.30      0.32      0.31       872\n",
            "\n",
            "    accuracy                           0.83      7467\n",
            "   macro avg       0.61      0.61      0.61      7467\n",
            "weighted avg       0.84      0.83      0.84      7467\n",
            "\n"
          ]
        }
      ]
    },
    {
      "cell_type": "markdown",
      "source": [
        "**We choose XGboost as our model**"
      ],
      "metadata": {
        "id": "jssIu0qWsf8X"
      }
    },
    {
      "cell_type": "code",
      "source": [
        "#XGboost with oversampling SMOTE & Normalization (MinMaxScaler)\n",
        "from sklearn.preprocessing import MinMaxScaler\n",
        "sampling_time = 25\n",
        "import xgboost as xgb\n",
        "model=xgb.XGBClassifier()\n",
        "from imblearn.over_sampling import SMOTE\n",
        "sm = SMOTE(random_state=42)\n",
        "X_res, Y_res = sm.fit_resample(X_train, Y_train)\n",
        "mmx_scale = MinMaxScaler()\n",
        "X_scale = mmx_scale.fit_transform(X_res)\n",
        "predict=np.empty([X_test.shape[0],sampling_time])\n",
        "proj_dim = np.floor(X_test.shape[1]/1.7).astype(int)\n",
        "w_rand=np.random.normal(0,1,size=(X_test.shape[1],int(sampling_time*proj_dim)))\n",
        "i=0\n",
        "for samp in range(sampling_time):\n",
        "    w_ = w_rand[:,int(samp*proj_dim):int((samp+1)*proj_dim)]\n",
        "    predict[:,i]=model.fit(np.matmul(X_scale,w_), Y_res).predict(np.matmul(mmx_scale.transform(X_test),w_))\n",
        "    i+=1\n",
        "    \n"
      ],
      "metadata": {
        "id": "Hf6C-VqyysAB"
      },
      "execution_count": 72,
      "outputs": []
    },
    {
      "cell_type": "markdown",
      "source": [
        "## **Evaluation**"
      ],
      "metadata": {
        "id": "0U8_Blgf4u5O"
      }
    },
    {
      "cell_type": "code",
      "source": [
        "#Make Classfication Report & Confusion Matrix\n",
        "predict_maj = np.zeros((len(Y_test),))\n",
        "predict_maj[np.sum(predict,axis=1)>np.floor(sampling_time/2)]=1\n",
        "print(f'accuracy:{accuracy_score(Y_test, predict_maj):.2f}')\n",
        "print(sum(predict_maj==1))\n",
        "from sklearn.metrics import classification_report\n",
        "from sklearn.metrics import plot_confusion_matrix\n",
        "from sklearn.metrics import ConfusionMatrixDisplay\n",
        "ConfusionMatrixDisplay.from_predictions(Y_test,predict_maj)\n",
        "print(classification_report(Y_test, predict_maj))"
      ],
      "metadata": {
        "colab": {
          "base_uri": "https://localhost:8080/",
          "height": 470
        },
        "id": "yEa0rUdBsIg-",
        "outputId": "5af59948-1a09-4d99-8ba5-b017aed4c5de"
      },
      "execution_count": 73,
      "outputs": [
        {
          "output_type": "stream",
          "name": "stdout",
          "text": [
            "accuracy:0.85\n",
            "607\n",
            "              precision    recall  f1-score   support\n",
            "\n",
            "           0       0.89      0.94      0.91      6552\n",
            "           1       0.31      0.20      0.25       915\n",
            "\n",
            "    accuracy                           0.85      7467\n",
            "   macro avg       0.60      0.57      0.58      7467\n",
            "weighted avg       0.82      0.85      0.83      7467\n",
            "\n"
          ]
        },
        {
          "output_type": "display_data",
          "data": {
            "text/plain": [
              "<Figure size 432x288 with 2 Axes>"
            ],
            "image/png": "[encoded data removed]"
          },
          "metadata": {
            "needs_background": "light"
          }
        }
      ]
    },
    {
      "cell_type": "markdown",
      "source": [
        "## **Feature Importance**"
      ],
      "metadata": {
        "id": "X_k6kcwwRzmO"
      }
    },
    {
      "cell_type": "code",
      "source": [
        "plt.figure(figsize=(15, 8))\n",
        "xgboost.plot_importance(model, title='Feature Importance', xlabel='Importance', ylabel='Feature', max_num_features=5, height=0.5 )\n",
        "# Tambahkan nama fitur di sisi y-axis\n",
        "ax = plt.gca()\n",
        "ax.set_yticklabels(X.columns)\n",
        "plt.show()"
      ],
      "metadata": {
        "colab": {
          "base_uri": "https://localhost:8080/",
          "height": 312
        },
        "id": "5OkXudbHSZnC",
        "outputId": "351943bf-b740-473a-a813-66079b3a8f68"
      },
      "execution_count": 74,
      "outputs": [
        {
          "output_type": "display_data",
          "data": {
            "text/plain": [
              "<Figure size 1080x576 with 0 Axes>"
            ]
          },
          "metadata": {}
        },
        {
          "output_type": "display_data",
          "data": {
            "text/plain": [
              "<Figure size 432x288 with 1 Axes>"
            ],
            "image/png": "[encoded data removed]"
          },
          "metadata": {
            "needs_background": "light"
          }
        }
      ]
    },
    {
      "cell_type": "markdown",
      "source": [
        "## **Show Prediction result into Data Test**"
      ],
      "metadata": {
        "id": "zq7E98WLrqu5"
      }
    },
    {
      "cell_type": "code",
      "source": [
        "df_test = pd.DataFrame(X_test, columns=['age', 'default', 'balance', 'housing', 'loan', 'job_admin.',\n",
        "       'job_blue-collar', 'job_entrepreneur', 'job_housemaid',\n",
        "       'job_management', 'job_other', 'job_retired', 'job_self-employed',\n",
        "       'job_services', 'job_student', 'job_technician', 'job_unemployed',\n",
        "       'education_primary', 'education_secondary', 'education_tertiary'])\n",
        "# Create a dataframe with the predictions\n",
        "df_test['predictions'] = predict_maj\n",
        "df_test['true_labels'] = Y_test\n",
        "\n",
        "\n",
        "# View the dataframe\n",
        "df_test\n"
      ],
      "metadata": {
        "colab": {
          "base_uri": "https://localhost:8080/",
          "height": 505
        },
        "id": "pPqn3_rtnS-N",
        "outputId": "06ffcc60-4d39-42ce-84bc-02e349c834de"
      },
      "execution_count": 75,
      "outputs": [
        {
          "output_type": "execute_result",
          "data": {
            "text/plain": [
              "      age  default  balance  housing  loan  job_admin.  job_blue-collar  \\\n",
              "0      58        0     2143        1     0           0                0   \n",
              "1      44        0       29        1     0           0                0   \n",
              "2      35        0      231        1     0           0                0   \n",
              "3      32        0       23        1     1           0                1   \n",
              "4      54        0      529        1     0           0                0   \n",
              "...   ...      ...      ...      ...   ...         ...              ...   \n",
              "7462   38        0     2543        0     0           0                0   \n",
              "7463   66        0     3409        0     0           0                0   \n",
              "7464   32        0     1168        1     0           0                0   \n",
              "7465   53        0      583        0     0           0                0   \n",
              "7466   57        0      668        0     0           0                1   \n",
              "\n",
              "      job_entrepreneur  job_housemaid  job_management  job_other  job_retired  \\\n",
              "0                    0              0               1          0            0   \n",
              "1                    0              0               0          0            0   \n",
              "2                    0              0               1          0            0   \n",
              "3                    0              0               0          0            0   \n",
              "4                    0              0               0          0            1   \n",
              "...                ...            ...             ...        ...          ...   \n",
              "7462                 1              0               0          0            0   \n",
              "7463                 0              0               0          0            1   \n",
              "7464                 0              0               0          0            0   \n",
              "7465                 0              0               1          0            0   \n",
              "7466                 0              0               0          0            0   \n",
              "\n",
              "      job_self-employed  job_services  job_student  job_technician  \\\n",
              "0                     0             0            0               0   \n",
              "1                     0             0            0               1   \n",
              "2                     0             0            0               0   \n",
              "3                     0             0            0               0   \n",
              "4                     0             0            0               0   \n",
              "...                 ...           ...          ...             ...   \n",
              "7462                  0             0            0               0   \n",
              "7463                  0             0            0               0   \n",
              "7464                  0             1            0               0   \n",
              "7465                  0             0            0               0   \n",
              "7466                  0             0            0               0   \n",
              "\n",
              "      job_unemployed  education_primary  education_secondary  \\\n",
              "0                  0                  0                    0   \n",
              "1                  0                  0                    1   \n",
              "2                  0                  0                    0   \n",
              "3                  0                  1                    0   \n",
              "4                  0                  0                    1   \n",
              "...              ...                ...                  ...   \n",
              "7462               0                  0                    1   \n",
              "7463               0                  0                    1   \n",
              "7464               0                  0                    1   \n",
              "7465               0                  0                    0   \n",
              "7466               0                  0                    1   \n",
              "\n",
              "      education_tertiary  predictions  true_labels  \n",
              "0                      1          0.0            0  \n",
              "1                      0          0.0            0  \n",
              "2                      1          0.0            0  \n",
              "3                      0          0.0            0  \n",
              "4                      0          0.0            0  \n",
              "...                  ...          ...          ...  \n",
              "7462                   0          0.0            1  \n",
              "7463                   0          1.0            0  \n",
              "7464                   0          0.0            1  \n",
              "7465                   1          0.0            1  \n",
              "7466                   0          0.0            0  \n",
              "\n",
              "[7467 rows x 22 columns]"
            ],
            "text/html": [
              "\n",
              "  <div id=\"df-3cdd59f0-024c-4557-bba8-5e3ba6279e80\">\n",
              "    <div class=\"colab-df-container\">\n",
              "      <div>\n",
              "<style scoped>\n",
              "    .dataframe tbody tr th:only-of-type {\n",
              "        vertical-align: middle;\n",
              "    }\n",
              "\n",
              "    .dataframe tbody tr th {\n",
              "        vertical-align: top;\n",
              "    }\n",
              "\n",
              "    .dataframe thead th {\n",
              "        text-align: right;\n",
              "    }\n",
              "</style>\n",
              "<table border=\"1\" class=\"dataframe\">\n",
              "  <thead>\n",
              "    <tr style=\"text-align: right;\">\n",
              "      <th></th>\n",
              "      <th>age</th>\n",
              "      <th>default</th>\n",
              "      <th>balance</th>\n",
              "      <th>housing</th>\n",
              "      <th>loan</th>\n",
              "      <th>job_admin.</th>\n",
              "      <th>job_blue-collar</th>\n",
              "      <th>job_entrepreneur</th>\n",
              "      <th>job_housemaid</th>\n",
              "      <th>job_management</th>\n",
              "      <th>job_other</th>\n",
              "      <th>job_retired</th>\n",
              "      <th>job_self-employed</th>\n",
              "      <th>job_services</th>\n",
              "      <th>job_student</th>\n",
              "      <th>job_technician</th>\n",
              "      <th>job_unemployed</th>\n",
              "      <th>education_primary</th>\n",
              "      <th>education_secondary</th>\n",
              "      <th>education_tertiary</th>\n",
              "      <th>predictions</th>\n",
              "      <th>true_labels</th>\n",
              "    </tr>\n",
              "  </thead>\n",
              "  <tbody>\n",
              "    <tr>\n",
              "      <th>0</th>\n",
              "      <td>58</td>\n",
              "      <td>0</td>\n",
              "      <td>2143</td>\n",
              "      <td>1</td>\n",
              "      <td>0</td>\n",
              "      <td>0</td>\n",
              "      <td>0</td>\n",
              "      <td>0</td>\n",
              "      <td>0</td>\n",
              "      <td>1</td>\n",
              "      <td>0</td>\n",
              "      <td>0</td>\n",
              "      <td>0</td>\n",
              "      <td>0</td>\n",
              "      <td>0</td>\n",
              "      <td>0</td>\n",
              "      <td>0</td>\n",
              "      <td>0</td>\n",
              "      <td>0</td>\n",
              "      <td>1</td>\n",
              "      <td>0.0</td>\n",
              "      <td>0</td>\n",
              "    </tr>\n",
              "    <tr>\n",
              "      <th>1</th>\n",
              "      <td>44</td>\n",
              "      <td>0</td>\n",
              "      <td>29</td>\n",
              "      <td>1</td>\n",
              "      <td>0</td>\n",
              "      <td>0</td>\n",
              "      <td>0</td>\n",
              "      <td>0</td>\n",
              "      <td>0</td>\n",
              "      <td>0</td>\n",
              "      <td>0</td>\n",
              "      <td>0</td>\n",
              "      <td>0</td>\n",
              "      <td>0</td>\n",
              "      <td>0</td>\n",
              "      <td>1</td>\n",
              "      <td>0</td>\n",
              "      <td>0</td>\n",
              "      <td>1</td>\n",
              "      <td>0</td>\n",
              "      <td>0.0</td>\n",
              "      <td>0</td>\n",
              "    </tr>\n",
              "    <tr>\n",
              "      <th>2</th>\n",
              "      <td>35</td>\n",
              "      <td>0</td>\n",
              "      <td>231</td>\n",
              "      <td>1</td>\n",
              "      <td>0</td>\n",
              "      <td>0</td>\n",
              "      <td>0</td>\n",
              "      <td>0</td>\n",
              "      <td>0</td>\n",
              "      <td>1</td>\n",
              "      <td>0</td>\n",
              "      <td>0</td>\n",
              "      <td>0</td>\n",
              "      <td>0</td>\n",
              "      <td>0</td>\n",
              "      <td>0</td>\n",
              "      <td>0</td>\n",
              "      <td>0</td>\n",
              "      <td>0</td>\n",
              "      <td>1</td>\n",
              "      <td>0.0</td>\n",
              "      <td>0</td>\n",
              "    </tr>\n",
              "    <tr>\n",
              "      <th>3</th>\n",
              "      <td>32</td>\n",
              "      <td>0</td>\n",
              "      <td>23</td>\n",
              "      <td>1</td>\n",
              "      <td>1</td>\n",
              "      <td>0</td>\n",
              "      <td>1</td>\n",
              "      <td>0</td>\n",
              "      <td>0</td>\n",
              "      <td>0</td>\n",
              "      <td>0</td>\n",
              "      <td>0</td>\n",
              "      <td>0</td>\n",
              "      <td>0</td>\n",
              "      <td>0</td>\n",
              "      <td>0</td>\n",
              "      <td>0</td>\n",
              "      <td>1</td>\n",
              "      <td>0</td>\n",
              "      <td>0</td>\n",
              "      <td>0.0</td>\n",
              "      <td>0</td>\n",
              "    </tr>\n",
              "    <tr>\n",
              "      <th>4</th>\n",
              "      <td>54</td>\n",
              "      <td>0</td>\n",
              "      <td>529</td>\n",
              "      <td>1</td>\n",
              "      <td>0</td>\n",
              "      <td>0</td>\n",
              "      <td>0</td>\n",
              "      <td>0</td>\n",
              "      <td>0</td>\n",
              "      <td>0</td>\n",
              "      <td>0</td>\n",
              "      <td>1</td>\n",
              "      <td>0</td>\n",
              "      <td>0</td>\n",
              "      <td>0</td>\n",
              "      <td>0</td>\n",
              "      <td>0</td>\n",
              "      <td>0</td>\n",
              "      <td>1</td>\n",
              "      <td>0</td>\n",
              "      <td>0.0</td>\n",
              "      <td>0</td>\n",
              "    </tr>\n",
              "    <tr>\n",
              "      <th>...</th>\n",
              "      <td>...</td>\n",
              "      <td>...</td>\n",
              "      <td>...</td>\n",
              "      <td>...</td>\n",
              "      <td>...</td>\n",
              "      <td>...</td>\n",
              "      <td>...</td>\n",
              "      <td>...</td>\n",
              "      <td>...</td>\n",
              "      <td>...</td>\n",
              "      <td>...</td>\n",
              "      <td>...</td>\n",
              "      <td>...</td>\n",
              "      <td>...</td>\n",
              "      <td>...</td>\n",
              "      <td>...</td>\n",
              "      <td>...</td>\n",
              "      <td>...</td>\n",
              "      <td>...</td>\n",
              "      <td>...</td>\n",
              "      <td>...</td>\n",
              "      <td>...</td>\n",
              "    </tr>\n",
              "    <tr>\n",
              "      <th>7462</th>\n",
              "      <td>38</td>\n",
              "      <td>0</td>\n",
              "      <td>2543</td>\n",
              "      <td>0</td>\n",
              "      <td>0</td>\n",
              "      <td>0</td>\n",
              "      <td>0</td>\n",
              "      <td>1</td>\n",
              "      <td>0</td>\n",
              "      <td>0</td>\n",
              "      <td>0</td>\n",
              "      <td>0</td>\n",
              "      <td>0</td>\n",
              "      <td>0</td>\n",
              "      <td>0</td>\n",
              "      <td>0</td>\n",
              "      <td>0</td>\n",
              "      <td>0</td>\n",
              "      <td>1</td>\n",
              "      <td>0</td>\n",
              "      <td>0.0</td>\n",
              "      <td>1</td>\n",
              "    </tr>\n",
              "    <tr>\n",
              "      <th>7463</th>\n",
              "      <td>66</td>\n",
              "      <td>0</td>\n",
              "      <td>3409</td>\n",
              "      <td>0</td>\n",
              "      <td>0</td>\n",
              "      <td>0</td>\n",
              "      <td>0</td>\n",
              "      <td>0</td>\n",
              "      <td>0</td>\n",
              "      <td>0</td>\n",
              "      <td>0</td>\n",
              "      <td>1</td>\n",
              "      <td>0</td>\n",
              "      <td>0</td>\n",
              "      <td>0</td>\n",
              "      <td>0</td>\n",
              "      <td>0</td>\n",
              "      <td>0</td>\n",
              "      <td>1</td>\n",
              "      <td>0</td>\n",
              "      <td>1.0</td>\n",
              "      <td>0</td>\n",
              "    </tr>\n",
              "    <tr>\n",
              "      <th>7464</th>\n",
              "      <td>32</td>\n",
              "      <td>0</td>\n",
              "      <td>1168</td>\n",
              "      <td>1</td>\n",
              "      <td>0</td>\n",
              "      <td>0</td>\n",
              "      <td>0</td>\n",
              "      <td>0</td>\n",
              "      <td>0</td>\n",
              "      <td>0</td>\n",
              "      <td>0</td>\n",
              "      <td>0</td>\n",
              "      <td>0</td>\n",
              "      <td>1</td>\n",
              "      <td>0</td>\n",
              "      <td>0</td>\n",
              "      <td>0</td>\n",
              "      <td>0</td>\n",
              "      <td>1</td>\n",
              "      <td>0</td>\n",
              "      <td>0.0</td>\n",
              "      <td>1</td>\n",
              "    </tr>\n",
              "    <tr>\n",
              "      <th>7465</th>\n",
              "      <td>53</td>\n",
              "      <td>0</td>\n",
              "      <td>583</td>\n",
              "      <td>0</td>\n",
              "      <td>0</td>\n",
              "      <td>0</td>\n",
              "      <td>0</td>\n",
              "      <td>0</td>\n",
              "      <td>0</td>\n",
              "      <td>1</td>\n",
              "      <td>0</td>\n",
              "      <td>0</td>\n",
              "      <td>0</td>\n",
              "      <td>0</td>\n",
              "      <td>0</td>\n",
              "      <td>0</td>\n",
              "      <td>0</td>\n",
              "      <td>0</td>\n",
              "      <td>0</td>\n",
              "      <td>1</td>\n",
              "      <td>0.0</td>\n",
              "      <td>1</td>\n",
              "    </tr>\n",
              "    <tr>\n",
              "      <th>7466</th>\n",
              "      <td>57</td>\n",
              "      <td>0</td>\n",
              "      <td>668</td>\n",
              "      <td>0</td>\n",
              "      <td>0</td>\n",
              "      <td>0</td>\n",
              "      <td>1</td>\n",
              "      <td>0</td>\n",
              "      <td>0</td>\n",
              "      <td>0</td>\n",
              "      <td>0</td>\n",
              "      <td>0</td>\n",
              "      <td>0</td>\n",
              "      <td>0</td>\n",
              "      <td>0</td>\n",
              "      <td>0</td>\n",
              "      <td>0</td>\n",
              "      <td>0</td>\n",
              "      <td>1</td>\n",
              "      <td>0</td>\n",
              "      <td>0.0</td>\n",
              "      <td>0</td>\n",
              "    </tr>\n",
              "  </tbody>\n",
              "</table>\n",
              "<p>7467 rows × 22 columns</p>\n",
              "</div>\n",
              "      <button class=\"colab-df-convert\" onclick=\"convertToInteractive('df-3cdd59f0-024c-4557-bba8-5e3ba6279e80')\"\n",
              "              title=\"Convert this dataframe to an interactive table.\"\n",
              "              style=\"display:none;\">\n",
              "        \n",
              "  <svg xmlns=\"http://www.w3.org/2000/svg\" height=\"24px\"viewBox=\"0 0 24 24\"\n",
              "       width=\"24px\">\n",
              "    <path d=\"M0 0h24v24H0V0z\" fill=\"none\"/>\n",
              "    <path d=\"M18.56 5.44l.94 2.06.94-2.06 2.06-.94-2.06-.94-.94-2.06-.94 2.06-2.06.94zm-11 1L8.5 8.5l.94-2.06 2.06-.94-2.06-.94L8.5 2.5l-.94 2.06-2.06.94zm10 10l.94 2.06.94-2.06 2.06-.94-2.06-.94-.94-2.06-.94 2.06-2.06.94z\"/><path d=\"M17.41 7.96l-1.37-1.37c-.4-.4-.92-.59-1.43-.59-.52 0-1.04.2-1.43.59L10.3 9.45l-7.72 7.72c-.78.78-.78 2.05 0 2.83L4 21.41c.39.39.9.59 1.41.59.51 0 1.02-.2 1.41-.59l7.78-7.78 2.81-2.81c.8-.78.8-2.07 0-2.86zM5.41 20L4 18.59l7.72-7.72 1.47 1.35L5.41 20z\"/>\n",
              "  </svg>\n",
              "      </button>\n",
              "      \n",
              "  <style>\n",
              "    .colab-df-container {\n",
              "      display:flex;\n",
              "      flex-wrap:wrap;\n",
              "      gap: 12px;\n",
              "    }\n",
              "\n",
              "    .colab-df-convert {\n",
              "      background-color: #E8F0FE;\n",
              "      border: none;\n",
              "      border-radius: 50%;\n",
              "      cursor: pointer;\n",
              "      display: none;\n",
              "      fill: #1967D2;\n",
              "      height: 32px;\n",
              "      padding: 0 0 0 0;\n",
              "      width: 32px;\n",
              "    }\n",
              "\n",
              "    .colab-df-convert:hover {\n",
              "      background-color: #E2EBFA;\n",
              "      box-shadow: 0px 1px 2px rgba(60, 64, 67, 0.3), 0px 1px 3px 1px rgba(60, 64, 67, 0.15);\n",
              "      fill: #174EA6;\n",
              "    }\n",
              "\n",
              "    [theme=dark] .colab-df-convert {\n",
              "      background-color: #3B4455;\n",
              "      fill: #D2E3FC;\n",
              "    }\n",
              "\n",
              "    [theme=dark] .colab-df-convert:hover {\n",
              "      background-color: #434B5C;\n",
              "      box-shadow: 0px 1px 3px 1px rgba(0, 0, 0, 0.15);\n",
              "      filter: drop-shadow(0px 1px 2px rgba(0, 0, 0, 0.3));\n",
              "      fill: #FFFFFF;\n",
              "    }\n",
              "  </style>\n",
              "\n",
              "      <script>\n",
              "        const buttonEl =\n",
              "          document.querySelector('#df-3cdd59f0-024c-4557-bba8-5e3ba6279e80 button.colab-df-convert');\n",
              "        buttonEl.style.display =\n",
              "          google.colab.kernel.accessAllowed ? 'block' : 'none';\n",
              "\n",
              "        async function convertToInteractive(key) {\n",
              "          const element = document.querySelector('#df-3cdd59f0-024c-4557-bba8-5e3ba6279e80');\n",
              "          const dataTable =\n",
              "            await google.colab.kernel.invokeFunction('convertToInteractive',\n",
              "                                                     [key], {});\n",
              "          if (!dataTable) return;\n",
              "\n",
              "          const docLinkHtml = 'Like what you see? Visit the ' +\n",
              "            '<a target=\"_blank\" href=https://colab.research.google.com/notebooks/data_table.ipynb>data table notebook</a>'\n",
              "            + ' to learn more about interactive tables.';\n",
              "          element.innerHTML = '';\n",
              "          dataTable['output_type'] = 'display_data';\n",
              "          await google.colab.output.renderOutput(dataTable, element);\n",
              "          const docLink = document.createElement('div');\n",
              "          docLink.innerHTML = docLinkHtml;\n",
              "          element.appendChild(docLink);\n",
              "        }\n",
              "      </script>\n",
              "    </div>\n",
              "  </div>\n",
              "  "
            ]
          },
          "metadata": {},
          "execution_count": 75
        }
      ]
    }
  ]
}